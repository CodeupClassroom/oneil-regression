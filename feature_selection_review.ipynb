{
 "cells": [
  {
   "cell_type": "code",
   "execution_count": 1,
   "id": "d9c32511-6f33-49c8-9e98-4cf86102621f",
   "metadata": {},
   "outputs": [],
   "source": [
    "# tabular data\n",
    "# ducks:\n",
    "import numpy as np\n",
    "import pandas as pd\n",
    "# visualizations\n",
    "import matplotlib.pyplot as plt\n",
    "import seaborn as sns\n",
    "# data transformation:\n",
    "from sklearn.preprocessing import MinMaxScaler\n",
    "from sklearn.model_selection import train_test_split\n",
    "# feature selection:\n",
    "from sklearn.feature_selection import SelectKBest, RFE, f_regression"
   ]
  },
  {
   "cell_type": "code",
   "execution_count": 2,
   "id": "6c598c86-6a56-4e7d-a44c-751b02435696",
   "metadata": {},
   "outputs": [],
   "source": [
    "from sklearn.linear_model import LinearRegression as linreg"
   ]
  },
  {
   "cell_type": "code",
   "execution_count": 3,
   "id": "397533e3-90d4-4f01-9033-8de1f5ec5184",
   "metadata": {},
   "outputs": [],
   "source": [
    "# data acq:\n",
    "from pydataset import data\n",
    "# ducks are in row :)"
   ]
  },
  {
   "cell_type": "markdown",
   "id": "a4e59ed6-b0d9-4dee-bec0-b9f82293ab78",
   "metadata": {},
   "source": [
    "    Load the tips dataset.\n",
    "        "
   ]
  },
  {
   "cell_type": "code",
   "execution_count": 5,
   "id": "c0145f88-e126-4588-8af3-5abe9e63d8f1",
   "metadata": {},
   "outputs": [],
   "source": [
    "# to grab that, just get the return of data's function call with the arg of 'tips'\n",
    "df = data(\"tips\")"
   ]
  },
  {
   "cell_type": "code",
   "execution_count": 6,
   "id": "818a207c-23a0-4d97-b463-016355ced8e4",
   "metadata": {},
   "outputs": [
    {
     "name": "stdout",
     "output_type": "stream",
     "text": [
      "|    |   total_bill |   tip | sex    | smoker   | day   | time   |   size |\n",
      "|---:|-------------:|------:|:-------|:---------|:------|:-------|-------:|\n",
      "|  1 |        16.99 |  1.01 | Female | No       | Sun   | Dinner |      2 |\n",
      "|  2 |        10.34 |  1.66 | Male   | No       | Sun   | Dinner |      3 |\n",
      "|  3 |        21.01 |  3.5  | Male   | No       | Sun   | Dinner |      3 |\n",
      "|  4 |        23.68 |  3.31 | Male   | No       | Sun   | Dinner |      2 |\n",
      "|  5 |        24.59 |  3.61 | Female | No       | Sun   | Dinner |      4 |\n",
      "=======\n",
      "<class 'pandas.core.frame.DataFrame'>\n",
      "Int64Index: 244 entries, 1 to 244\n",
      "Data columns (total 7 columns):\n",
      " #   Column      Non-Null Count  Dtype  \n",
      "---  ------      --------------  -----  \n",
      " 0   total_bill  244 non-null    float64\n",
      " 1   tip         244 non-null    float64\n",
      " 2   sex         244 non-null    object \n",
      " 3   smoker      244 non-null    object \n",
      " 4   day         244 non-null    object \n",
      " 5   time        244 non-null    object \n",
      " 6   size        244 non-null    int64  \n",
      "dtypes: float64(2), int64(1), object(4)\n",
      "memory usage: 15.2+ KB\n",
      "None\n",
      "======\n",
      "|       |   total_bill |       tip |      size |\n",
      "|:------|-------------:|----------:|----------:|\n",
      "| count |    244       | 244       | 244       |\n",
      "| mean  |     19.7859  |   2.99828 |   2.56967 |\n",
      "| std   |      8.90241 |   1.38364 |   0.9511  |\n",
      "| min   |      3.07    |   1       |   1       |\n",
      "| 25%   |     13.3475  |   2       |   2       |\n",
      "| 50%   |     17.795   |   2.9     |   2       |\n",
      "| 75%   |     24.1275  |   3.5625  |   3       |\n",
      "| max   |     50.81    |  10       |   6       |\n"
     ]
    }
   ],
   "source": [
    "print(df.head().to_markdown())\n",
    "print('=======')\n",
    "print(df.info())\n",
    "print('======')\n",
    "print(df.describe().to_markdown())"
   ]
  },
  {
   "cell_type": "markdown",
   "id": "27ceb66c-fd2d-4ba5-b758-523663af87ae",
   "metadata": {},
   "source": [
    "        Create a column named price_per_person. This should be the total bill divided by the party size."
   ]
  },
  {
   "cell_type": "code",
   "execution_count": 7,
   "id": "80b8a0d3-328d-4254-822a-6b2b2fb199d2",
   "metadata": {},
   "outputs": [
    {
     "data": {
      "text/plain": [
       "1708"
      ]
     },
     "execution_count": 7,
     "metadata": {},
     "output_type": "execute_result"
    }
   ],
   "source": [
    "# smol prob: size is a property of df:\n",
    "# this is a different single value than the whole series that we want\n",
    "df.size"
   ]
  },
  {
   "cell_type": "code",
   "execution_count": null,
   "id": "503b7c64-e2ef-4654-9d6b-8d9a6c16862d",
   "metadata": {},
   "outputs": [],
   "source": [
    "# using bracket notation will work around that"
   ]
  },
  {
   "cell_type": "code",
   "execution_count": 10,
   "id": "4176e0c2-6882-4544-9a6b-faddc7a7d40d",
   "metadata": {},
   "outputs": [],
   "source": [
    "# if we wanted to just rename it: df = df.rename(columns={'size': 'size_of_party'})"
   ]
  },
  {
   "cell_type": "code",
   "execution_count": 11,
   "id": "b9bc9536-ed88-4e33-a09b-d2dce79abb93",
   "metadata": {},
   "outputs": [],
   "source": [
    "# total bill / party size\n",
    "df['price_per_person'] = df.total_bill / df['size']"
   ]
  },
  {
   "cell_type": "code",
   "execution_count": 12,
   "id": "8f78fd71-1dd5-4cb8-a31d-3192bc8ec023",
   "metadata": {},
   "outputs": [
    {
     "data": {
      "text/plain": [
       "((136, 8), (59, 8), (49, 8))"
      ]
     },
     "execution_count": 12,
     "metadata": {},
     "output_type": "execute_result"
    }
   ],
   "source": [
    "# split that data!\n",
    "train_val, test = train_test_split(df,\n",
    "                                   train_size=0.8,\n",
    "                                   random_state=1349)\n",
    "train, validate = train_test_split(train_val,\n",
    "                                   train_size=0.7,\n",
    "                                   random_state=1349)\n",
    "train.shape, validate.shape, test.shape"
   ]
  },
  {
   "cell_type": "code",
   "execution_count": 14,
   "id": "eac828f8-9b41-463e-932d-99da42224c02",
   "metadata": {},
   "outputs": [
    {
     "data": {
      "text/html": [
       "<div>\n",
       "<style scoped>\n",
       "    .dataframe tbody tr th:only-of-type {\n",
       "        vertical-align: middle;\n",
       "    }\n",
       "\n",
       "    .dataframe tbody tr th {\n",
       "        vertical-align: top;\n",
       "    }\n",
       "\n",
       "    .dataframe thead th {\n",
       "        text-align: right;\n",
       "    }\n",
       "</style>\n",
       "<table border=\"1\" class=\"dataframe\">\n",
       "  <thead>\n",
       "    <tr style=\"text-align: right;\">\n",
       "      <th></th>\n",
       "      <th>total_bill</th>\n",
       "      <th>tip</th>\n",
       "      <th>sex</th>\n",
       "      <th>smoker</th>\n",
       "      <th>day</th>\n",
       "      <th>time</th>\n",
       "      <th>size</th>\n",
       "      <th>price_per_person</th>\n",
       "    </tr>\n",
       "  </thead>\n",
       "  <tbody>\n",
       "    <tr>\n",
       "      <th>52</th>\n",
       "      <td>10.29</td>\n",
       "      <td>2.60</td>\n",
       "      <td>Female</td>\n",
       "      <td>No</td>\n",
       "      <td>Sun</td>\n",
       "      <td>Dinner</td>\n",
       "      <td>2</td>\n",
       "      <td>5.145</td>\n",
       "    </tr>\n",
       "    <tr>\n",
       "      <th>47</th>\n",
       "      <td>22.23</td>\n",
       "      <td>5.00</td>\n",
       "      <td>Male</td>\n",
       "      <td>No</td>\n",
       "      <td>Sun</td>\n",
       "      <td>Dinner</td>\n",
       "      <td>2</td>\n",
       "      <td>11.115</td>\n",
       "    </tr>\n",
       "    <tr>\n",
       "      <th>108</th>\n",
       "      <td>25.21</td>\n",
       "      <td>4.29</td>\n",
       "      <td>Male</td>\n",
       "      <td>Yes</td>\n",
       "      <td>Sat</td>\n",
       "      <td>Dinner</td>\n",
       "      <td>2</td>\n",
       "      <td>12.605</td>\n",
       "    </tr>\n",
       "    <tr>\n",
       "      <th>87</th>\n",
       "      <td>13.03</td>\n",
       "      <td>2.00</td>\n",
       "      <td>Male</td>\n",
       "      <td>No</td>\n",
       "      <td>Thur</td>\n",
       "      <td>Lunch</td>\n",
       "      <td>2</td>\n",
       "      <td>6.515</td>\n",
       "    </tr>\n",
       "    <tr>\n",
       "      <th>59</th>\n",
       "      <td>11.24</td>\n",
       "      <td>1.76</td>\n",
       "      <td>Male</td>\n",
       "      <td>Yes</td>\n",
       "      <td>Sat</td>\n",
       "      <td>Dinner</td>\n",
       "      <td>2</td>\n",
       "      <td>5.620</td>\n",
       "    </tr>\n",
       "  </tbody>\n",
       "</table>\n",
       "</div>"
      ],
      "text/plain": [
       "     total_bill   tip     sex smoker   day    time  size  price_per_person\n",
       "52        10.29  2.60  Female     No   Sun  Dinner     2             5.145\n",
       "47        22.23  5.00    Male     No   Sun  Dinner     2            11.115\n",
       "108       25.21  4.29    Male    Yes   Sat  Dinner     2            12.605\n",
       "87        13.03  2.00    Male     No  Thur   Lunch     2             6.515\n",
       "59        11.24  1.76    Male    Yes   Sat  Dinner     2             5.620"
      ]
     },
     "execution_count": 14,
     "metadata": {},
     "output_type": "execute_result"
    }
   ],
   "source": [
    "# planning outline:\n",
    "# I want to predict for the tip value of a party based on other features\n",
    "# If I want to define my X, thats anything potentially besides y, my target\n",
    "train.head()"
   ]
  },
  {
   "cell_type": "code",
   "execution_count": 15,
   "id": "c76e919e-b570-4da8-9f9f-bf0b4fd794fc",
   "metadata": {},
   "outputs": [],
   "source": [
    "X_train, y_train = train.drop(columns='tip'), train[['tip']]"
   ]
  },
  {
   "cell_type": "markdown",
   "id": "b1c726e2-3e78-4bf0-a72b-df64af25f776",
   "metadata": {},
   "source": [
    "        \n",
    "        Before using any of the methods discussed in the lesson, which features do you think would be most important for predicting the tip amount?"
   ]
  },
  {
   "cell_type": "code",
   "execution_count": 20,
   "id": "1d6e5499-0d2a-4761-aa11-70f79a5d8592",
   "metadata": {},
   "outputs": [
    {
     "data": {
      "text/plain": [
       "True"
      ]
     },
     "execution_count": 20,
     "metadata": {},
     "output_type": "execute_result"
    }
   ],
   "source": [
    "# i could check data types directly with pandas dtype:\n",
    "X_train['total_bill'].dtype in ('int64', 'float64')\n"
   ]
  },
  {
   "cell_type": "code",
   "execution_count": 24,
   "id": "ca0cfde2-aa5e-461c-bbbe-53030145aaf7",
   "metadata": {},
   "outputs": [
    {
     "data": {
      "text/plain": [
       "False"
      ]
     },
     "execution_count": 24,
     "metadata": {},
     "output_type": "execute_result"
    }
   ],
   "source": [
    "# direct comparison with object types\n",
    "X_train['time'].dtype != 'object'"
   ]
  },
  {
   "cell_type": "code",
   "execution_count": 32,
   "id": "66c52a7f-ae9b-4c90-b396-96db698eeae4",
   "metadata": {},
   "outputs": [],
   "source": [
    "# separate into categorical and continuous values of columns of our data:\n",
    "# np.issubdtype is a good option for catching anything that numpy considers a number-type thing\n",
    "# initialize two empty lists\n",
    "num_cols, cat_cols = [], []\n",
    "# for every i in X_train's columns:\n",
    "for i in X_train.columns:\n",
    "    # If that thing (inside that series) is a number\n",
    "    if np.issubdtype(X_train[i], np.number):\n",
    "        #and if it has over 5 elements\n",
    "        if X_train[i].value_counts().shape[0] > 5:\n",
    "            #then we'll put that column name in an appropriate list\n",
    "            num_cols.append(i)\n",
    "        else:\n",
    "            cat_cols.append(i)\n",
    "    else:\n",
    "        #otherwise its probably an object\n",
    "        cat_cols.append(i)"
   ]
  },
  {
   "cell_type": "code",
   "execution_count": 33,
   "id": "2417387b-ec3c-4446-acd7-d2cf118dba19",
   "metadata": {},
   "outputs": [
    {
     "data": {
      "text/plain": [
       "['total_bill', 'price_per_person']"
      ]
     },
     "execution_count": 33,
     "metadata": {},
     "output_type": "execute_result"
    }
   ],
   "source": [
    "num_cols"
   ]
  },
  {
   "cell_type": "code",
   "execution_count": 34,
   "id": "2646cee1-6ac8-4181-b2e9-7bfb0cb81df6",
   "metadata": {},
   "outputs": [
    {
     "data": {
      "text/plain": [
       "['sex', 'smoker', 'day', 'time', 'size']"
      ]
     },
     "execution_count": 34,
     "metadata": {},
     "output_type": "execute_result"
    }
   ],
   "source": [
    "cat_cols"
   ]
  },
  {
   "cell_type": "code",
   "execution_count": 35,
   "id": "dc07ad3a-4085-4796-abad-0f352785ff69",
   "metadata": {},
   "outputs": [
    {
     "data": {
      "image/png": "[encoded data removed]",
      "text/plain": [
       "<Figure size 432x288 with 1 Axes>"
      ]
     },
     "metadata": {
      "needs_background": "light"
     },
     "output_type": "display_data"
    },
    {
     "name": "stdout",
     "output_type": "stream",
     "text": [
      "~~~~~~~~~~~~~~~~~~~\n"
     ]
    },
    {
     "data": {
      "image/png": "[encoded data removed]",
      "text/plain": [
       "<Figure size 432x288 with 1 Axes>"
      ]
     },
     "metadata": {
      "needs_background": "light"
     },
     "output_type": "display_data"
    },
    {
     "name": "stdout",
     "output_type": "stream",
     "text": [
      "~~~~~~~~~~~~~~~~~~~\n"
     ]
    },
    {
     "data": {
      "image/png": "[encoded data removed]",
      "text/plain": [
       "<Figure size 432x288 with 1 Axes>"
      ]
     },
     "metadata": {
      "needs_background": "light"
     },
     "output_type": "display_data"
    },
    {
     "name": "stdout",
     "output_type": "stream",
     "text": [
      "~~~~~~~~~~~~~~~~~~~\n"
     ]
    },
    {
     "data": {
      "image/png": "[encoded data removed]",
      "text/plain": [
       "<Figure size 432x288 with 1 Axes>"
      ]
     },
     "metadata": {
      "needs_background": "light"
     },
     "output_type": "display_data"
    },
    {
     "name": "stdout",
     "output_type": "stream",
     "text": [
      "~~~~~~~~~~~~~~~~~~~\n"
     ]
    },
    {
     "data": {
      "image/png": "[encoded data removed]",
      "text/plain": [
       "<Figure size 432x288 with 1 Axes>"
      ]
     },
     "metadata": {
      "needs_background": "light"
     },
     "output_type": "display_data"
    },
    {
     "name": "stdout",
     "output_type": "stream",
     "text": [
      "~~~~~~~~~~~~~~~~~~~\n"
     ]
    }
   ],
   "source": [
    "# let's do some plots with the continuous target Tip vs the categorical features:\n",
    "# y: train[tip]\n",
    "# x: train[anything else]\n",
    "# for every element/column name i inside of cat_cols:\n",
    "for i in cat_cols:\n",
    "    sns.barplot(data=train, x=i, y='tip')\n",
    "    plt.title(f'Tip by {i}')\n",
    "    plt.show()\n",
    "    print('~~~~~~~~~~~~~~~~~~~')"
   ]
  },
  {
   "cell_type": "code",
   "execution_count": 36,
   "id": "e695adee-bf58-4009-ae7b-568b9ad0325f",
   "metadata": {},
   "outputs": [
    {
     "data": {
      "image/png": "[encoded data removed]",
      "text/plain": [
       "<Figure size 432x288 with 1 Axes>"
      ]
     },
     "metadata": {
      "needs_background": "light"
     },
     "output_type": "display_data"
    },
    {
     "name": "stdout",
     "output_type": "stream",
     "text": [
      "~~~~~~~~~~\n"
     ]
    },
    {
     "data": {
      "image/png": "[encoded data removed]",
      "text/plain": [
       "<Figure size 432x288 with 1 Axes>"
      ]
     },
     "metadata": {
      "needs_background": "light"
     },
     "output_type": "display_data"
    },
    {
     "name": "stdout",
     "output_type": "stream",
     "text": [
      "~~~~~~~~~~\n"
     ]
    }
   ],
   "source": [
    "# for continuous features:\n",
    "for i in num_cols:\n",
    "    sns.scatterplot(data=train, x=i, y='tip')\n",
    "    plt.title(f'Tips by {i}')\n",
    "    plt.show()\n",
    "    print('~~~~~~~~~~')"
   ]
  },
  {
   "cell_type": "code",
   "execution_count": 37,
   "id": "c8a76672-d6a3-469b-80d9-9deed7bf1ef0",
   "metadata": {},
   "outputs": [],
   "source": [
    "# need more ducks\n",
    "from scipy.stats import pearsonr, ttest_ind"
   ]
  },
  {
   "cell_type": "code",
   "execution_count": 38,
   "id": "2068174c-63d1-4116-9794-9067690f58d3",
   "metadata": {},
   "outputs": [
    {
     "name": "stdout",
     "output_type": "stream",
     "text": [
      "we can reject our null hypothesis! p is 8.610316264425765e-18 and r is 0.6516482795249923\n"
     ]
    }
   ],
   "source": [
    "# let's make a couple quick tests:\n",
    "# H0: There is no linear correlation between total bill and\n",
    "# tip value\n",
    "# Ha:There is a linear relationship between total bill and tip value\n",
    "# CL, alpha: 95, 0.05\n",
    "r, p = pearsonr(train['total_bill'], train['tip'])\n",
    "if p < 0.05:\n",
    "    print(f'we can reject our null hypothesis! p is {p} and r is {r}')"
   ]
  },
  {
   "cell_type": "code",
   "execution_count": 44,
   "id": "b80c639f-7a2d-4fa5-8b1e-1b5d5b6ebf0e",
   "metadata": {},
   "outputs": [],
   "source": [
    "# let's check out the weekend values\n",
    "# subset: weekend tippers vs weekday tippers\n",
    "weekenders = train[train['day'].str.startswith('S')]\n",
    "weedayers = train[~train['day'].str.startswith('S')]"
   ]
  },
  {
   "cell_type": "code",
   "execution_count": null,
   "id": "0ba047ce-5c73-49f4-a7b2-5fb63ad0b95e",
   "metadata": {},
   "outputs": [],
   "source": [
    "# h0: there is no mean difference in the tip values\n",
    "# between weekend diners and weekday diners\n",
    "# Ha: there is a difference in the means of tippers \n",
    "# that dine on weekdays vs weekends"
   ]
  },
  {
   "cell_type": "code",
   "execution_count": 45,
   "id": "b3d45683-10f7-419a-b9bf-5e50792159cd",
   "metadata": {},
   "outputs": [],
   "source": [
    "t_stat, p = ttest_ind(weekenders['tip'], weedayers['tip'])\n",
    "if p < 0.05:\n",
    "        print(f'we can reject our null hypothesis! p is {p} and our t_statistic is {t_stat}')"
   ]
  },
  {
   "cell_type": "code",
   "execution_count": 46,
   "id": "1787a2e2-abdc-4cc3-ad0b-0a40152a48e4",
   "metadata": {},
   "outputs": [
    {
     "data": {
      "text/plain": [
       "0.09755643351218182"
      ]
     },
     "execution_count": 46,
     "metadata": {},
     "output_type": "execute_result"
    }
   ],
   "source": [
    "p"
   ]
  },
  {
   "cell_type": "code",
   "execution_count": 48,
   "id": "1080251a-d9d7-4e4e-afa7-33cb9e0d7561",
   "metadata": {},
   "outputs": [
    {
     "data": {
      "text/plain": [
       "['total_bill_scaled', 'price_per_person_scaled']"
      ]
     },
     "execution_count": 48,
     "metadata": {},
     "output_type": "execute_result"
    }
   ],
   "source": [
    "# scaling!\n",
    "# new column names for scaled cols:\n",
    "# a string with the colum plus _scaled for every column in num_cols\n",
    "[f'{i}_scaled' for i in num_cols]"
   ]
  },
  {
   "cell_type": "code",
   "execution_count": 49,
   "id": "1683b8fb-f2c0-4e8f-9ebf-43d44e4b3ccf",
   "metadata": {},
   "outputs": [],
   "source": [
    "X_train[[f'{i}_scaled' for i in num_cols]] = MinMaxScaler(\n",
    ").fit_transform(X_train[num_cols])"
   ]
  },
  {
   "cell_type": "code",
   "execution_count": 50,
   "id": "d95508ca-3a81-4f9e-b848-526ca9098a73",
   "metadata": {},
   "outputs": [],
   "source": [
    "cat_cols.remove('size')"
   ]
  },
  {
   "cell_type": "code",
   "execution_count": 51,
   "id": "a0dd4fe0-a062-4411-a95c-b5d7d3834e61",
   "metadata": {},
   "outputs": [],
   "source": [
    "# encoding!\n",
    "X_train = pd.concat([X_train,pd.get_dummies(X_train[cat_cols], drop_first=True)],\n",
    "                    axis=1)"
   ]
  },
  {
   "cell_type": "code",
   "execution_count": 52,
   "id": "58f5cfc5-f423-44d4-8448-21288d311d78",
   "metadata": {},
   "outputs": [
    {
     "data": {
      "text/html": [
       "<div>\n",
       "<style scoped>\n",
       "    .dataframe tbody tr th:only-of-type {\n",
       "        vertical-align: middle;\n",
       "    }\n",
       "\n",
       "    .dataframe tbody tr th {\n",
       "        vertical-align: top;\n",
       "    }\n",
       "\n",
       "    .dataframe thead th {\n",
       "        text-align: right;\n",
       "    }\n",
       "</style>\n",
       "<table border=\"1\" class=\"dataframe\">\n",
       "  <thead>\n",
       "    <tr style=\"text-align: right;\">\n",
       "      <th></th>\n",
       "      <th>total_bill</th>\n",
       "      <th>sex</th>\n",
       "      <th>smoker</th>\n",
       "      <th>day</th>\n",
       "      <th>time</th>\n",
       "      <th>size</th>\n",
       "      <th>price_per_person</th>\n",
       "      <th>total_bill_scaled</th>\n",
       "      <th>price_per_person_scaled</th>\n",
       "      <th>sex_Male</th>\n",
       "      <th>smoker_Yes</th>\n",
       "      <th>day_Sat</th>\n",
       "      <th>day_Sun</th>\n",
       "      <th>day_Thur</th>\n",
       "      <th>time_Lunch</th>\n",
       "    </tr>\n",
       "  </thead>\n",
       "  <tbody>\n",
       "    <tr>\n",
       "      <th>52</th>\n",
       "      <td>10.29</td>\n",
       "      <td>Female</td>\n",
       "      <td>No</td>\n",
       "      <td>Sun</td>\n",
       "      <td>Dinner</td>\n",
       "      <td>2</td>\n",
       "      <td>5.145</td>\n",
       "      <td>0.100755</td>\n",
       "      <td>0.130460</td>\n",
       "      <td>0</td>\n",
       "      <td>0</td>\n",
       "      <td>0</td>\n",
       "      <td>1</td>\n",
       "      <td>0</td>\n",
       "      <td>0</td>\n",
       "    </tr>\n",
       "    <tr>\n",
       "      <th>47</th>\n",
       "      <td>22.23</td>\n",
       "      <td>Male</td>\n",
       "      <td>No</td>\n",
       "      <td>Sun</td>\n",
       "      <td>Dinner</td>\n",
       "      <td>2</td>\n",
       "      <td>11.115</td>\n",
       "      <td>0.365735</td>\n",
       "      <td>0.473563</td>\n",
       "      <td>1</td>\n",
       "      <td>0</td>\n",
       "      <td>0</td>\n",
       "      <td>1</td>\n",
       "      <td>0</td>\n",
       "      <td>0</td>\n",
       "    </tr>\n",
       "    <tr>\n",
       "      <th>108</th>\n",
       "      <td>25.21</td>\n",
       "      <td>Male</td>\n",
       "      <td>Yes</td>\n",
       "      <td>Sat</td>\n",
       "      <td>Dinner</td>\n",
       "      <td>2</td>\n",
       "      <td>12.605</td>\n",
       "      <td>0.431869</td>\n",
       "      <td>0.559195</td>\n",
       "      <td>1</td>\n",
       "      <td>1</td>\n",
       "      <td>1</td>\n",
       "      <td>0</td>\n",
       "      <td>0</td>\n",
       "      <td>0</td>\n",
       "    </tr>\n",
       "    <tr>\n",
       "      <th>87</th>\n",
       "      <td>13.03</td>\n",
       "      <td>Male</td>\n",
       "      <td>No</td>\n",
       "      <td>Thur</td>\n",
       "      <td>Lunch</td>\n",
       "      <td>2</td>\n",
       "      <td>6.515</td>\n",
       "      <td>0.161562</td>\n",
       "      <td>0.209195</td>\n",
       "      <td>1</td>\n",
       "      <td>0</td>\n",
       "      <td>0</td>\n",
       "      <td>0</td>\n",
       "      <td>1</td>\n",
       "      <td>1</td>\n",
       "    </tr>\n",
       "    <tr>\n",
       "      <th>59</th>\n",
       "      <td>11.24</td>\n",
       "      <td>Male</td>\n",
       "      <td>Yes</td>\n",
       "      <td>Sat</td>\n",
       "      <td>Dinner</td>\n",
       "      <td>2</td>\n",
       "      <td>5.620</td>\n",
       "      <td>0.121838</td>\n",
       "      <td>0.157759</td>\n",
       "      <td>1</td>\n",
       "      <td>1</td>\n",
       "      <td>1</td>\n",
       "      <td>0</td>\n",
       "      <td>0</td>\n",
       "      <td>0</td>\n",
       "    </tr>\n",
       "  </tbody>\n",
       "</table>\n",
       "</div>"
      ],
      "text/plain": [
       "     total_bill     sex smoker   day    time  size  price_per_person  \\\n",
       "52        10.29  Female     No   Sun  Dinner     2             5.145   \n",
       "47        22.23    Male     No   Sun  Dinner     2            11.115   \n",
       "108       25.21    Male    Yes   Sat  Dinner     2            12.605   \n",
       "87        13.03    Male     No  Thur   Lunch     2             6.515   \n",
       "59        11.24    Male    Yes   Sat  Dinner     2             5.620   \n",
       "\n",
       "     total_bill_scaled  price_per_person_scaled  sex_Male  smoker_Yes  \\\n",
       "52            0.100755                 0.130460         0           0   \n",
       "47            0.365735                 0.473563         1           0   \n",
       "108           0.431869                 0.559195         1           1   \n",
       "87            0.161562                 0.209195         1           0   \n",
       "59            0.121838                 0.157759         1           1   \n",
       "\n",
       "     day_Sat  day_Sun  day_Thur  time_Lunch  \n",
       "52         0        1         0           0  \n",
       "47         0        1         0           0  \n",
       "108        1        0         0           0  \n",
       "87         0        0         1           1  \n",
       "59         1        0         0           0  "
      ]
     },
     "execution_count": 52,
     "metadata": {},
     "output_type": "execute_result"
    }
   ],
   "source": [
    "X_train.head()"
   ]
  },
  {
   "cell_type": "code",
   "execution_count": 54,
   "id": "9a9d2493-964b-4728-8bc9-b41d8b1e90ed",
   "metadata": {},
   "outputs": [
    {
     "data": {
      "text/plain": [
       "['total_bill',\n",
       " 'sex',\n",
       " 'smoker',\n",
       " 'day',\n",
       " 'time',\n",
       " 'size',\n",
       " 'price_per_person',\n",
       " 'total_bill_scaled',\n",
       " 'price_per_person_scaled',\n",
       " 'sex_Male',\n",
       " 'smoker_Yes',\n",
       " 'day_Sat',\n",
       " 'day_Sun',\n",
       " 'day_Thur',\n",
       " 'time_Lunch']"
      ]
     },
     "execution_count": 54,
     "metadata": {},
     "output_type": "execute_result"
    }
   ],
   "source": [
    "X_train.columns.to_list()"
   ]
  },
  {
   "cell_type": "code",
   "execution_count": 55,
   "id": "89b2ffa4-0da5-4e09-9728-5982dc12bb62",
   "metadata": {},
   "outputs": [],
   "source": [
    "modeling_feats = ['total_bill_scaled',\n",
    " 'price_per_person_scaled',\n",
    " 'sex_Male',\n",
    " 'smoker_Yes',\n",
    " 'day_Sat',\n",
    " 'day_Sun',\n",
    " 'day_Thur',\n",
    " 'time_Lunch']"
   ]
  },
  {
   "cell_type": "markdown",
   "id": "0a5eee31-dd60-4ea4-99cf-1b7c236a663e",
   "metadata": {},
   "source": [
    "    Write a function named select_kbest that takes in the predictors (X), the target (y), and the number of features to select (k) and returns the names of the top k selected features based on the SelectKBest class. Test your function with the tips dataset. You should see the same results as when you did the process manually."
   ]
  },
  {
   "cell_type": "code",
   "execution_count": 56,
   "id": "7afc6a2e-208c-4104-bcbb-7ef2516efa01",
   "metadata": {},
   "outputs": [],
   "source": [
    "def select_kbest(X, y, k=2):\n",
    "    '''\n",
    "    X: dataframe of independent features\n",
    "    y: single pandas Series (a target)\n",
    "    k: kwarg, a number of k best features to select\n",
    "    '''\n",
    "    # make our kbest object:\n",
    "    kbest = SelectKBest(f_regression, k=k)\n",
    "    # fit it from x and y's relationships\n",
    "    kbest.fit(X, y)\n",
    "    # get the support values:\n",
    "    mask = kbest.get_support()\n",
    "    return X.columns[mask]"
   ]
  },
  {
   "cell_type": "code",
   "execution_count": 57,
   "id": "fee55b96-8430-424b-aab9-73f4befa3e87",
   "metadata": {},
   "outputs": [
    {
     "data": {
      "text/plain": [
       "Index(['total_bill_scaled', 'price_per_person_scaled'], dtype='object')"
      ]
     },
     "execution_count": 57,
     "metadata": {},
     "output_type": "execute_result"
    }
   ],
   "source": [
    "# try it out!\n",
    "select_kbest(X_train[modeling_feats], y_train['tip'])"
   ]
  },
  {
   "cell_type": "markdown",
   "id": "c13fee87-f559-4011-958d-5396c2bcd22e",
   "metadata": {},
   "source": [
    "    Write a function named rfe that takes in the predictors, the target, and the number of features to select. It should return the top k features based on the RFE class. Test your function with the tips dataset. You should see the same results as when you did the process manually."
   ]
  },
  {
   "cell_type": "code",
   "execution_count": 58,
   "id": "ac3e08f1-d70e-4e43-b392-30c5828d4eea",
   "metadata": {},
   "outputs": [],
   "source": [
    "def rfe(X, y, k=2):\n",
    "    '''\n",
    "    X: dataframe of independent features\n",
    "    y: single pandas Series (a target)\n",
    "    k: kwarg, a number of best recursive features to select\n",
    "    '''\n",
    "    # make our rfe object:\n",
    "    model = linreg()\n",
    "    rfe_lin = RFE(model, n_features_to_select=k)\n",
    "    # fit it from x and y's relationships\n",
    "    rfe_lin.fit(X, y)\n",
    "    # get the support values:\n",
    "    mask = rfe_lin.get_support()\n",
    "    return X.columns[mask]"
   ]
  },
  {
   "cell_type": "code",
   "execution_count": 60,
   "id": "c166357f-3368-4b9c-b9b1-45a2ae0023a6",
   "metadata": {},
   "outputs": [
    {
     "data": {
      "text/plain": [
       "Index(['total_bill_scaled', 'price_per_person_scaled'], dtype='object')"
      ]
     },
     "execution_count": 60,
     "metadata": {},
     "output_type": "execute_result"
    }
   ],
   "source": [
    "rfe(X_train[modeling_feats], y_train['tip'])"
   ]
  },
  {
   "cell_type": "markdown",
   "id": "3a1eec18-8888-496e-be38-28525d7e5438",
   "metadata": {},
   "source": [
    "Use select k best to select the top 2 features for predicting tip amount. What are they?"
   ]
  },
  {
   "cell_type": "code",
   "execution_count": null,
   "id": "7deffef9-ef57-41df-a0b0-8eff5caebba2",
   "metadata": {},
   "outputs": [],
   "source": []
  },
  {
   "cell_type": "markdown",
   "id": "0238c2ee-9cb6-4c39-8b87-049bb6fde5f7",
   "metadata": {},
   "source": [
    "Use recursive feature elimination to select the top 2 features for tip amount. What are they?"
   ]
  },
  {
   "cell_type": "code",
   "execution_count": null,
   "id": "b71e7ed8-8e55-449a-974c-a3899b77b4a4",
   "metadata": {},
   "outputs": [],
   "source": []
  },
  {
   "cell_type": "markdown",
   "id": "4c40c1fe-c0f6-41bb-bda7-a92743d59c2a",
   "metadata": {},
   "source": [
    "Why do you think select k best and recursive feature elimination might give different answers for the top features? Does this change as you change the number of features you are selecting?"
   ]
  },
  {
   "cell_type": "code",
   "execution_count": null,
   "id": "58eccdeb-2517-434b-9e35-a8f6d3089764",
   "metadata": {},
   "outputs": [],
   "source": []
  },
  {
   "cell_type": "markdown",
   "id": "2923c025-fc40-4b4b-b60c-4eb8e7041f25",
   "metadata": {},
   "source": [
    "    Load the swiss dataset and use all the other features to predict Fertility. Find the top 3 features using both select k best and recursive feature elimination (use the functions you just built to help you out)."
   ]
  },
  {
   "cell_type": "code",
   "execution_count": null,
   "id": "17256536-8631-48c9-9b3b-a9e041010e9e",
   "metadata": {},
   "outputs": [],
   "source": []
  }
 ],
 "metadata": {
  "kernelspec": {
   "display_name": "Python 3",
   "language": "python",
   "name": "python3"
  },
  "language_info": {
   "codemirror_mode": {
    "name": "ipython",
    "version": 3
   },
   "file_extension": ".py",
   "mimetype": "text/x-python",
   "name": "python",
   "nbconvert_exporter": "python",
   "pygments_lexer": "ipython3",
   "version": "3.9.4"
  }
 },
 "nbformat": 4,
 "nbformat_minor": 5
}
