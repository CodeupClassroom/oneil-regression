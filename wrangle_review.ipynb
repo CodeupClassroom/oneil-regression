{
 "cells": [
  {
   "cell_type": "markdown",
   "id": "sensitive-warrior",
   "metadata": {},
   "source": [
    "# Exercises I\n",
    "\n",
    "As a Codeup data science graduate, you want to show off your skills to the Zillow data science team in hopes of getting an interview for a position you saw pop up on LinkedIn. You thought it might look impressive to build an end-to-end project in which you use some of their Kaggle data to predict property values using some of their available features; who knows, you might even do some feature engineering to blow them away.\n",
    "\n",
    "Your goal is to predict the values of single unit properties using the obervations from 2017.\n",
    "\n",
    "In these exercises, you will complete the first step toward the above goal: acquire and prepare the necessary Zillow data from the zillow database in the Codeup database server.\n",
    "\n",
    "1. Acquire bedroomcnt, bathroomcnt, calculatedfinishedsquarefeet, taxvaluedollarcnt, yearbuilt, taxamount, and fips from the zillow database for all 'Single Family Residential' properties.\n",
    "1. Using your acquired Zillow data, walk through the summarization and cleaning steps in your wrangle.ipynb file like we did above. You may handle the missing values however you feel is appropriate and meaninful; remember to document your process and decisions using markdown and code commenting where helpful.\n",
    "1. Store all of the necessary functions to automate your process from acquiring the data to returning a cleaned dataframe witn no missing values in your wrangle.py file. Name your final function wrangle_zillow."
   ]
  },
  {
   "cell_type": "markdown",
   "id": "accessory-presence",
   "metadata": {},
   "source": [
    "# Imports"
   ]
  },
  {
   "cell_type": "code",
   "execution_count": 4,
   "id": "twelve-evolution",
   "metadata": {},
   "outputs": [],
   "source": [
    "import pandas as pd\n",
    "import numpy as np\n",
    "\n",
    "from env import user, password, host\n",
    "\n",
    "import matplotlib.pyplot as plt\n",
    "import seaborn as sns\n",
    "\n",
    "from sklearn.model_selection import train_test_split\n",
    "from sklearn.impute import SimpleImputer\n",
    "\n",
    "import warnings\n",
    "warnings.filterwarnings(\"ignore\")"
   ]
  },
  {
   "cell_type": "code",
   "execution_count": 10,
   "id": "59370fb3",
   "metadata": {},
   "outputs": [],
   "source": [
    "dd = pd.read_excel('zillow_data_dictionary.xlsx')"
   ]
  },
  {
   "cell_type": "code",
   "execution_count": 11,
   "id": "d5b4b1f0-3b60-4e9c-8394-f341eb1bd833",
   "metadata": {},
   "outputs": [
    {
     "data": {
      "text/html": [
       "<div>\n",
       "<style scoped>\n",
       "    .dataframe tbody tr th:only-of-type {\n",
       "        vertical-align: middle;\n",
       "    }\n",
       "\n",
       "    .dataframe tbody tr th {\n",
       "        vertical-align: top;\n",
       "    }\n",
       "\n",
       "    .dataframe thead th {\n",
       "        text-align: right;\n",
       "    }\n",
       "</style>\n",
       "<table border=\"1\" class=\"dataframe\">\n",
       "  <thead>\n",
       "    <tr style=\"text-align: right;\">\n",
       "      <th></th>\n",
       "      <th>Feature</th>\n",
       "      <th>Description</th>\n",
       "    </tr>\n",
       "  </thead>\n",
       "  <tbody>\n",
       "    <tr>\n",
       "      <th>0</th>\n",
       "      <td>'airconditioningtypeid'</td>\n",
       "      <td>Type of cooling system present in the home (i...</td>\n",
       "    </tr>\n",
       "    <tr>\n",
       "      <th>1</th>\n",
       "      <td>'architecturalstyletypeid'</td>\n",
       "      <td>Architectural style of the home (i.e. ranch, ...</td>\n",
       "    </tr>\n",
       "    <tr>\n",
       "      <th>2</th>\n",
       "      <td>'basementsqft'</td>\n",
       "      <td>Finished living area below or partially below...</td>\n",
       "    </tr>\n",
       "    <tr>\n",
       "      <th>3</th>\n",
       "      <td>'bathroomcnt'</td>\n",
       "      <td>Number of bathrooms in home including fractio...</td>\n",
       "    </tr>\n",
       "    <tr>\n",
       "      <th>4</th>\n",
       "      <td>'bedroomcnt'</td>\n",
       "      <td>Number of bedrooms in home</td>\n",
       "    </tr>\n",
       "    <tr>\n",
       "      <th>5</th>\n",
       "      <td>'buildingqualitytypeid'</td>\n",
       "      <td>Overall assessment of condition of the buildi...</td>\n",
       "    </tr>\n",
       "    <tr>\n",
       "      <th>6</th>\n",
       "      <td>'buildingclasstypeid'</td>\n",
       "      <td>The building framing type (steel frame, wood f...</td>\n",
       "    </tr>\n",
       "    <tr>\n",
       "      <th>7</th>\n",
       "      <td>'calculatedbathnbr'</td>\n",
       "      <td>Number of bathrooms in home including fractio...</td>\n",
       "    </tr>\n",
       "    <tr>\n",
       "      <th>8</th>\n",
       "      <td>'decktypeid'</td>\n",
       "      <td>Type of deck (if any) present on parcel</td>\n",
       "    </tr>\n",
       "    <tr>\n",
       "      <th>9</th>\n",
       "      <td>'threequarterbathnbr'</td>\n",
       "      <td>Number of 3/4 bathrooms in house (shower + si...</td>\n",
       "    </tr>\n",
       "    <tr>\n",
       "      <th>10</th>\n",
       "      <td>'finishedfloor1squarefeet'</td>\n",
       "      <td>Size of the finished living area on the first...</td>\n",
       "    </tr>\n",
       "    <tr>\n",
       "      <th>11</th>\n",
       "      <td>'calculatedfinishedsquarefeet'</td>\n",
       "      <td>Calculated total finished living area of the ...</td>\n",
       "    </tr>\n",
       "    <tr>\n",
       "      <th>12</th>\n",
       "      <td>'finishedsquarefeet6'</td>\n",
       "      <td>Base unfinished and finished area</td>\n",
       "    </tr>\n",
       "    <tr>\n",
       "      <th>13</th>\n",
       "      <td>'finishedsquarefeet12'</td>\n",
       "      <td>Finished living area</td>\n",
       "    </tr>\n",
       "    <tr>\n",
       "      <th>14</th>\n",
       "      <td>'finishedsquarefeet13'</td>\n",
       "      <td>Perimeter  living area</td>\n",
       "    </tr>\n",
       "    <tr>\n",
       "      <th>15</th>\n",
       "      <td>'finishedsquarefeet15'</td>\n",
       "      <td>Total area</td>\n",
       "    </tr>\n",
       "    <tr>\n",
       "      <th>16</th>\n",
       "      <td>'finishedsquarefeet50'</td>\n",
       "      <td>Size of the finished living area on the first...</td>\n",
       "    </tr>\n",
       "    <tr>\n",
       "      <th>17</th>\n",
       "      <td>'fips'</td>\n",
       "      <td>Federal Information Processing Standard code ...</td>\n",
       "    </tr>\n",
       "    <tr>\n",
       "      <th>18</th>\n",
       "      <td>'fireplacecnt'</td>\n",
       "      <td>Number of fireplaces in a home (if any)</td>\n",
       "    </tr>\n",
       "    <tr>\n",
       "      <th>19</th>\n",
       "      <td>'fireplaceflag'</td>\n",
       "      <td>Is a fireplace present in this home</td>\n",
       "    </tr>\n",
       "    <tr>\n",
       "      <th>20</th>\n",
       "      <td>'fullbathcnt'</td>\n",
       "      <td>Number of full bathrooms (sink, shower + bath...</td>\n",
       "    </tr>\n",
       "    <tr>\n",
       "      <th>21</th>\n",
       "      <td>'garagecarcnt'</td>\n",
       "      <td>Total number of garages on the lot including ...</td>\n",
       "    </tr>\n",
       "    <tr>\n",
       "      <th>22</th>\n",
       "      <td>'garagetotalsqft'</td>\n",
       "      <td>Total number of square feet of all garages on...</td>\n",
       "    </tr>\n",
       "    <tr>\n",
       "      <th>23</th>\n",
       "      <td>'hashottuborspa'</td>\n",
       "      <td>Does the home have a hot tub or spa</td>\n",
       "    </tr>\n",
       "    <tr>\n",
       "      <th>24</th>\n",
       "      <td>'heatingorsystemtypeid'</td>\n",
       "      <td>Type of home heating system</td>\n",
       "    </tr>\n",
       "    <tr>\n",
       "      <th>25</th>\n",
       "      <td>'latitude'</td>\n",
       "      <td>Latitude of the middle of the parcel multipli...</td>\n",
       "    </tr>\n",
       "    <tr>\n",
       "      <th>26</th>\n",
       "      <td>'longitude'</td>\n",
       "      <td>Longitude of the middle of the parcel multipl...</td>\n",
       "    </tr>\n",
       "    <tr>\n",
       "      <th>27</th>\n",
       "      <td>'lotsizesquarefeet'</td>\n",
       "      <td>Area of the lot in square feet</td>\n",
       "    </tr>\n",
       "    <tr>\n",
       "      <th>28</th>\n",
       "      <td>'numberofstories'</td>\n",
       "      <td>Number of stories or levels the home has</td>\n",
       "    </tr>\n",
       "    <tr>\n",
       "      <th>29</th>\n",
       "      <td>'parcelid'</td>\n",
       "      <td>Unique identifier for parcels (lots)</td>\n",
       "    </tr>\n",
       "    <tr>\n",
       "      <th>30</th>\n",
       "      <td>'poolcnt'</td>\n",
       "      <td>Number of pools on the lot (if any)</td>\n",
       "    </tr>\n",
       "    <tr>\n",
       "      <th>31</th>\n",
       "      <td>'poolsizesum'</td>\n",
       "      <td>Total square footage of all pools on property</td>\n",
       "    </tr>\n",
       "    <tr>\n",
       "      <th>32</th>\n",
       "      <td>'pooltypeid10'</td>\n",
       "      <td>Spa or Hot Tub</td>\n",
       "    </tr>\n",
       "    <tr>\n",
       "      <th>33</th>\n",
       "      <td>'pooltypeid2'</td>\n",
       "      <td>Pool with Spa/Hot Tub</td>\n",
       "    </tr>\n",
       "    <tr>\n",
       "      <th>34</th>\n",
       "      <td>'pooltypeid7'</td>\n",
       "      <td>Pool without hot tub</td>\n",
       "    </tr>\n",
       "    <tr>\n",
       "      <th>35</th>\n",
       "      <td>'propertycountylandusecode'</td>\n",
       "      <td>County land use code i.e. it's zoning at the ...</td>\n",
       "    </tr>\n",
       "    <tr>\n",
       "      <th>36</th>\n",
       "      <td>'propertylandusetypeid'</td>\n",
       "      <td>Type of land use the property is zoned for</td>\n",
       "    </tr>\n",
       "    <tr>\n",
       "      <th>37</th>\n",
       "      <td>'propertyzoningdesc'</td>\n",
       "      <td>Description of the allowed land uses (zoning)...</td>\n",
       "    </tr>\n",
       "    <tr>\n",
       "      <th>38</th>\n",
       "      <td>'rawcensustractandblock'</td>\n",
       "      <td>Census tract and block ID combined - also con...</td>\n",
       "    </tr>\n",
       "    <tr>\n",
       "      <th>39</th>\n",
       "      <td>'censustractandblock'</td>\n",
       "      <td>Census tract and block ID combined - also con...</td>\n",
       "    </tr>\n",
       "    <tr>\n",
       "      <th>40</th>\n",
       "      <td>'regionidcounty'</td>\n",
       "      <td>County in which the property is located</td>\n",
       "    </tr>\n",
       "    <tr>\n",
       "      <th>41</th>\n",
       "      <td>'regionidcity'</td>\n",
       "      <td>City in which the property is located (if any)</td>\n",
       "    </tr>\n",
       "    <tr>\n",
       "      <th>42</th>\n",
       "      <td>'regionidzip'</td>\n",
       "      <td>Zip code in which the property is located</td>\n",
       "    </tr>\n",
       "    <tr>\n",
       "      <th>43</th>\n",
       "      <td>'regionidneighborhood'</td>\n",
       "      <td>Neighborhood in which the property is located</td>\n",
       "    </tr>\n",
       "    <tr>\n",
       "      <th>44</th>\n",
       "      <td>'roomcnt'</td>\n",
       "      <td>Total number of rooms in the principal residence</td>\n",
       "    </tr>\n",
       "    <tr>\n",
       "      <th>45</th>\n",
       "      <td>'storytypeid'</td>\n",
       "      <td>Type of floors in a multi-story house (i.e. b...</td>\n",
       "    </tr>\n",
       "    <tr>\n",
       "      <th>46</th>\n",
       "      <td>'typeconstructiontypeid'</td>\n",
       "      <td>What type of construction material was used t...</td>\n",
       "    </tr>\n",
       "    <tr>\n",
       "      <th>47</th>\n",
       "      <td>'unitcnt'</td>\n",
       "      <td>Number of units the structure is built into (...</td>\n",
       "    </tr>\n",
       "    <tr>\n",
       "      <th>48</th>\n",
       "      <td>'yardbuildingsqft17'</td>\n",
       "      <td>Patio in  yard</td>\n",
       "    </tr>\n",
       "    <tr>\n",
       "      <th>49</th>\n",
       "      <td>'yardbuildingsqft26'</td>\n",
       "      <td>Storage shed/building in yard</td>\n",
       "    </tr>\n",
       "    <tr>\n",
       "      <th>50</th>\n",
       "      <td>'yearbuilt'</td>\n",
       "      <td>The Year the principal residence was built</td>\n",
       "    </tr>\n",
       "    <tr>\n",
       "      <th>51</th>\n",
       "      <td>'taxvaluedollarcnt'</td>\n",
       "      <td>The total tax assessed value of the parcel</td>\n",
       "    </tr>\n",
       "    <tr>\n",
       "      <th>52</th>\n",
       "      <td>'structuretaxvaluedollarcnt'</td>\n",
       "      <td>The assessed value of the built structure on t...</td>\n",
       "    </tr>\n",
       "    <tr>\n",
       "      <th>53</th>\n",
       "      <td>'landtaxvaluedollarcnt'</td>\n",
       "      <td>The assessed value of the land area of the parcel</td>\n",
       "    </tr>\n",
       "    <tr>\n",
       "      <th>54</th>\n",
       "      <td>'taxamount'</td>\n",
       "      <td>The total property tax assessed for that asses...</td>\n",
       "    </tr>\n",
       "    <tr>\n",
       "      <th>55</th>\n",
       "      <td>'assessmentyear'</td>\n",
       "      <td>The year of the property tax assessment</td>\n",
       "    </tr>\n",
       "    <tr>\n",
       "      <th>56</th>\n",
       "      <td>'taxdelinquencyflag'</td>\n",
       "      <td>Property taxes for this parcel are past due as...</td>\n",
       "    </tr>\n",
       "    <tr>\n",
       "      <th>57</th>\n",
       "      <td>'taxdelinquencyyear'</td>\n",
       "      <td>Year for which the unpaid propert taxes were due</td>\n",
       "    </tr>\n",
       "  </tbody>\n",
       "</table>\n",
       "</div>"
      ],
      "text/plain": [
       "                           Feature  \\\n",
       "0          'airconditioningtypeid'   \n",
       "1       'architecturalstyletypeid'   \n",
       "2                   'basementsqft'   \n",
       "3                    'bathroomcnt'   \n",
       "4                     'bedroomcnt'   \n",
       "5          'buildingqualitytypeid'   \n",
       "6            'buildingclasstypeid'   \n",
       "7              'calculatedbathnbr'   \n",
       "8                     'decktypeid'   \n",
       "9            'threequarterbathnbr'   \n",
       "10      'finishedfloor1squarefeet'   \n",
       "11  'calculatedfinishedsquarefeet'   \n",
       "12           'finishedsquarefeet6'   \n",
       "13          'finishedsquarefeet12'   \n",
       "14          'finishedsquarefeet13'   \n",
       "15          'finishedsquarefeet15'   \n",
       "16          'finishedsquarefeet50'   \n",
       "17                          'fips'   \n",
       "18                  'fireplacecnt'   \n",
       "19                 'fireplaceflag'   \n",
       "20                   'fullbathcnt'   \n",
       "21                  'garagecarcnt'   \n",
       "22               'garagetotalsqft'   \n",
       "23                'hashottuborspa'   \n",
       "24         'heatingorsystemtypeid'   \n",
       "25                      'latitude'   \n",
       "26                     'longitude'   \n",
       "27             'lotsizesquarefeet'   \n",
       "28               'numberofstories'   \n",
       "29                      'parcelid'   \n",
       "30                       'poolcnt'   \n",
       "31                   'poolsizesum'   \n",
       "32                  'pooltypeid10'   \n",
       "33                   'pooltypeid2'   \n",
       "34                   'pooltypeid7'   \n",
       "35     'propertycountylandusecode'   \n",
       "36         'propertylandusetypeid'   \n",
       "37            'propertyzoningdesc'   \n",
       "38        'rawcensustractandblock'   \n",
       "39           'censustractandblock'   \n",
       "40                'regionidcounty'   \n",
       "41                  'regionidcity'   \n",
       "42                   'regionidzip'   \n",
       "43          'regionidneighborhood'   \n",
       "44                       'roomcnt'   \n",
       "45                   'storytypeid'   \n",
       "46        'typeconstructiontypeid'   \n",
       "47                       'unitcnt'   \n",
       "48            'yardbuildingsqft17'   \n",
       "49            'yardbuildingsqft26'   \n",
       "50                     'yearbuilt'   \n",
       "51             'taxvaluedollarcnt'   \n",
       "52    'structuretaxvaluedollarcnt'   \n",
       "53         'landtaxvaluedollarcnt'   \n",
       "54                     'taxamount'   \n",
       "55                'assessmentyear'   \n",
       "56            'taxdelinquencyflag'   \n",
       "57            'taxdelinquencyyear'   \n",
       "\n",
       "                                          Description  \n",
       "0    Type of cooling system present in the home (i...  \n",
       "1    Architectural style of the home (i.e. ranch, ...  \n",
       "2    Finished living area below or partially below...  \n",
       "3    Number of bathrooms in home including fractio...  \n",
       "4                         Number of bedrooms in home   \n",
       "5    Overall assessment of condition of the buildi...  \n",
       "6   The building framing type (steel frame, wood f...  \n",
       "7    Number of bathrooms in home including fractio...  \n",
       "8             Type of deck (if any) present on parcel  \n",
       "9    Number of 3/4 bathrooms in house (shower + si...  \n",
       "10   Size of the finished living area on the first...  \n",
       "11   Calculated total finished living area of the ...  \n",
       "12                  Base unfinished and finished area  \n",
       "13                               Finished living area  \n",
       "14                             Perimeter  living area  \n",
       "15                                         Total area  \n",
       "16   Size of the finished living area on the first...  \n",
       "17   Federal Information Processing Standard code ...  \n",
       "18            Number of fireplaces in a home (if any)  \n",
       "19               Is a fireplace present in this home   \n",
       "20   Number of full bathrooms (sink, shower + bath...  \n",
       "21   Total number of garages on the lot including ...  \n",
       "22   Total number of square feet of all garages on...  \n",
       "23                Does the home have a hot tub or spa  \n",
       "24                        Type of home heating system  \n",
       "25   Latitude of the middle of the parcel multipli...  \n",
       "26   Longitude of the middle of the parcel multipl...  \n",
       "27                     Area of the lot in square feet  \n",
       "28           Number of stories or levels the home has  \n",
       "29              Unique identifier for parcels (lots)   \n",
       "30                Number of pools on the lot (if any)  \n",
       "31      Total square footage of all pools on property  \n",
       "32                                     Spa or Hot Tub  \n",
       "33                              Pool with Spa/Hot Tub  \n",
       "34                               Pool without hot tub  \n",
       "35   County land use code i.e. it's zoning at the ...  \n",
       "36         Type of land use the property is zoned for  \n",
       "37   Description of the allowed land uses (zoning)...  \n",
       "38   Census tract and block ID combined - also con...  \n",
       "39   Census tract and block ID combined - also con...  \n",
       "40            County in which the property is located  \n",
       "41     City in which the property is located (if any)  \n",
       "42          Zip code in which the property is located  \n",
       "43      Neighborhood in which the property is located  \n",
       "44   Total number of rooms in the principal residence  \n",
       "45   Type of floors in a multi-story house (i.e. b...  \n",
       "46   What type of construction material was used t...  \n",
       "47   Number of units the structure is built into (...  \n",
       "48                                     Patio in  yard  \n",
       "49                      Storage shed/building in yard  \n",
       "50        The Year the principal residence was built   \n",
       "51         The total tax assessed value of the parcel  \n",
       "52  The assessed value of the built structure on t...  \n",
       "53  The assessed value of the land area of the parcel  \n",
       "54  The total property tax assessed for that asses...  \n",
       "55           The year of the property tax assessment   \n",
       "56  Property taxes for this parcel are past due as...  \n",
       "57  Year for which the unpaid propert taxes were due   "
      ]
     },
     "execution_count": 11,
     "metadata": {},
     "output_type": "execute_result"
    }
   ],
   "source": [
    "dd"
   ]
  },
  {
   "cell_type": "markdown",
   "id": "settled-lancaster",
   "metadata": {},
   "source": [
    "# Acquire\n",
    "\n",
    "Acquire bedroomcnt, bathroomcnt, calculatedfinishedsquarefeet, taxvaluedollarcnt, yearbuilt, taxamount, and fips from the zillow database for all 'Single Family Residential' properties."
   ]
  },
  {
   "cell_type": "code",
   "execution_count": null,
   "id": "29bb956b",
   "metadata": {
    "tags": []
   },
   "outputs": [],
   "source": [
    "url = f\"mysql+pymysql://{user}:{password}@{host}/zillow\"\n",
    "    \n",
    "query = '''\n",
    "            \n",
    "SELECT bedroomcnt, bathroomcnt, calculatedfinishedsquarefeet, taxvaluedollarcnt, yearbuilt, taxamount, fips\n",
    "FROM properties_2017\n",
    "\n",
    "LEFT JOIN propertylandusetype USING(propertylandusetypeid)\n",
    "\n",
    "WHERE propertylandusedesc IN (\"Single Family Residential\",                       \n",
    "                              \"Inferred Single Family Residential\")'''"
   ]
  },
  {
   "cell_type": "code",
   "execution_count": 8,
   "id": "35fc2cb9-db7c-415c-9301-a5393a656ebc",
   "metadata": {},
   "outputs": [],
   "source": [
    "zillow = pd.read_csv('zillow_2017.csv', index_col=0)"
   ]
  },
  {
   "cell_type": "code",
   "execution_count": null,
   "id": "9c2f5bbb-fa01-48cb-b0ec-4186c97751d7",
   "metadata": {},
   "outputs": [],
   "source": [
    "# renaming columns\n",
    "# df = df.rename(columns = {'bedroomcnt':'bedrooms', \n",
    "                                  # 'bathroomcnt':'bathrooms', \n",
    "                                  # 'calculatedfinishedsquarefeet':'area',\n",
    "                                  # 'taxvaluedollarcnt':'tax_value', \n",
    "                                  # 'yearbuilt':'year_built',})"
   ]
  },
  {
   "cell_type": "code",
   "execution_count": 9,
   "id": "9437ca63-da64-4bbd-b9d4-ae9d7a8c54a5",
   "metadata": {},
   "outputs": [
    {
     "data": {
      "text/html": [
       "<div>\n",
       "<style scoped>\n",
       "    .dataframe tbody tr th:only-of-type {\n",
       "        vertical-align: middle;\n",
       "    }\n",
       "\n",
       "    .dataframe tbody tr th {\n",
       "        vertical-align: top;\n",
       "    }\n",
       "\n",
       "    .dataframe thead th {\n",
       "        text-align: right;\n",
       "    }\n",
       "</style>\n",
       "<table border=\"1\" class=\"dataframe\">\n",
       "  <thead>\n",
       "    <tr style=\"text-align: right;\">\n",
       "      <th></th>\n",
       "      <th>bedrooms</th>\n",
       "      <th>bathrooms</th>\n",
       "      <th>area</th>\n",
       "      <th>tax_value</th>\n",
       "      <th>year_built</th>\n",
       "      <th>taxamount</th>\n",
       "      <th>fips</th>\n",
       "    </tr>\n",
       "  </thead>\n",
       "  <tbody>\n",
       "    <tr>\n",
       "      <th>0</th>\n",
       "      <td>0.0</td>\n",
       "      <td>0.0</td>\n",
       "      <td>NaN</td>\n",
       "      <td>27516.0</td>\n",
       "      <td>NaN</td>\n",
       "      <td>NaN</td>\n",
       "      <td>6037.0</td>\n",
       "    </tr>\n",
       "    <tr>\n",
       "      <th>1</th>\n",
       "      <td>0.0</td>\n",
       "      <td>0.0</td>\n",
       "      <td>NaN</td>\n",
       "      <td>10.0</td>\n",
       "      <td>NaN</td>\n",
       "      <td>NaN</td>\n",
       "      <td>6037.0</td>\n",
       "    </tr>\n",
       "    <tr>\n",
       "      <th>2</th>\n",
       "      <td>0.0</td>\n",
       "      <td>0.0</td>\n",
       "      <td>NaN</td>\n",
       "      <td>10.0</td>\n",
       "      <td>NaN</td>\n",
       "      <td>NaN</td>\n",
       "      <td>6037.0</td>\n",
       "    </tr>\n",
       "    <tr>\n",
       "      <th>3</th>\n",
       "      <td>0.0</td>\n",
       "      <td>0.0</td>\n",
       "      <td>NaN</td>\n",
       "      <td>2108.0</td>\n",
       "      <td>NaN</td>\n",
       "      <td>174.21</td>\n",
       "      <td>6037.0</td>\n",
       "    </tr>\n",
       "    <tr>\n",
       "      <th>4</th>\n",
       "      <td>4.0</td>\n",
       "      <td>2.0</td>\n",
       "      <td>3633.0</td>\n",
       "      <td>296425.0</td>\n",
       "      <td>2005.0</td>\n",
       "      <td>6941.39</td>\n",
       "      <td>6037.0</td>\n",
       "    </tr>\n",
       "  </tbody>\n",
       "</table>\n",
       "</div>"
      ],
      "text/plain": [
       "   bedrooms  bathrooms    area  tax_value  year_built  taxamount    fips\n",
       "0       0.0        0.0     NaN    27516.0         NaN        NaN  6037.0\n",
       "1       0.0        0.0     NaN       10.0         NaN        NaN  6037.0\n",
       "2       0.0        0.0     NaN       10.0         NaN        NaN  6037.0\n",
       "3       0.0        0.0     NaN     2108.0         NaN     174.21  6037.0\n",
       "4       4.0        2.0  3633.0   296425.0      2005.0    6941.39  6037.0"
      ]
     },
     "execution_count": 9,
     "metadata": {},
     "output_type": "execute_result"
    }
   ],
   "source": [
    "zillow.head()"
   ]
  },
  {
   "cell_type": "code",
   "execution_count": null,
   "id": "magnetic-omega",
   "metadata": {},
   "outputs": [],
   "source": [
    "# tax_value is going to be representative of our target in this case"
   ]
  },
  {
   "cell_type": "markdown",
   "id": "1c23805f",
   "metadata": {},
   "source": [
    "### Managing Null Values"
   ]
  },
  {
   "cell_type": "code",
   "execution_count": null,
   "id": "40cf721e-07d4-4cd2-b9df-d5f4d9b2562c",
   "metadata": {},
   "outputs": [],
   "source": []
  },
  {
   "cell_type": "code",
   "execution_count": 12,
   "id": "0dd5597b",
   "metadata": {},
   "outputs": [
    {
     "data": {
      "text/plain": [
       "bedrooms        11\n",
       "bathrooms       11\n",
       "area          8485\n",
       "tax_value      493\n",
       "year_built    9338\n",
       "taxamount     4442\n",
       "fips             0\n",
       "dtype: int64"
      ]
     },
     "execution_count": 12,
     "metadata": {},
     "output_type": "execute_result"
    }
   ],
   "source": [
    "# get total of null values for each row\n",
    "zillow.isna().sum()"
   ]
  },
  {
   "cell_type": "markdown",
   "id": "72bb8600",
   "metadata": {},
   "source": [
    "**Takeaway**\n",
    "- Large number of outliers in some columns\n",
    "- Real estate data may be heavily skewed\n",
    "- If our plan is to remove outliers, could removing outliers also reduce our null count?"
   ]
  },
  {
   "cell_type": "markdown",
   "id": "indirect-somalia",
   "metadata": {},
   "source": [
    "### Visualizing Distributions & Outliers"
   ]
  },
  {
   "cell_type": "code",
   "execution_count": 14,
   "id": "043a2873-b35c-4691-8d8b-4adb66202f4c",
   "metadata": {},
   "outputs": [],
   "source": [
    "df = zillow"
   ]
  },
  {
   "cell_type": "code",
   "execution_count": 15,
   "id": "6294bf3f-b497-488f-8877-fe640f061266",
   "metadata": {},
   "outputs": [
    {
     "data": {
      "text/plain": [
       "Index(['bedrooms', 'bathrooms', 'area', 'tax_value', 'year_built', 'taxamount',\n",
       "       'fips'],\n",
       "      dtype='object')"
      ]
     },
     "execution_count": 15,
     "metadata": {},
     "output_type": "execute_result"
    }
   ],
   "source": [
    "df.columns"
   ]
  },
  {
   "cell_type": "code",
   "execution_count": 17,
   "id": "aa36fe96-dd86-4626-9cf4-413765e32917",
   "metadata": {},
   "outputs": [
    {
     "data": {
      "text/plain": [
       "6037.0    1431812\n",
       "6059.0     555077\n",
       "6111.0     165975\n",
       "Name: fips, dtype: int64"
      ]
     },
     "execution_count": 17,
     "metadata": {},
     "output_type": "execute_result"
    }
   ],
   "source": [
    "df.fips.value_counts()"
   ]
  },
  {
   "cell_type": "code",
   "execution_count": 18,
   "id": "fd628363-fd04-4f41-af09-8d70e855fde3",
   "metadata": {},
   "outputs": [
    {
     "data": {
      "text/plain": [
       "1955.0    84405\n",
       "1950.0    71693\n",
       "1954.0    69163\n",
       "1953.0    62342\n",
       "1956.0    61942\n",
       "          ...  \n",
       "1879.0        1\n",
       "1877.0        1\n",
       "1855.0        1\n",
       "1874.0        1\n",
       "1823.0        1\n",
       "Name: year_built, Length: 153, dtype: int64"
      ]
     },
     "execution_count": 18,
     "metadata": {},
     "output_type": "execute_result"
    }
   ],
   "source": [
    "df.year_built.value_counts()"
   ]
  },
  {
   "cell_type": "code",
   "execution_count": 21,
   "id": "6e4d4bed-90e5-450e-8a29-c8af9088c3ad",
   "metadata": {},
   "outputs": [],
   "source": [
    "# I'm going to interpret fips and year as discrete categories at this point,\n",
    "# and presume everything else is fair game for continuous analysis\n",
    "cols = [col for col in df.columns if col not in ['fips', 'year_built']]"
   ]
  },
  {
   "cell_type": "code",
   "execution_count": 22,
   "id": "ef971a60-06af-46fe-9157-1a3354222663",
   "metadata": {},
   "outputs": [
    {
     "data": {
      "text/plain": [
       "['bedrooms', 'bathrooms', 'area', 'tax_value', 'taxamount']"
      ]
     },
     "execution_count": 22,
     "metadata": {},
     "output_type": "execute_result"
    }
   ],
   "source": [
    "cols"
   ]
  },
  {
   "cell_type": "code",
   "execution_count": 29,
   "id": "65c7c82a-180a-4ba4-b65a-15e92584833b",
   "metadata": {},
   "outputs": [
    {
     "data": {
      "image/png": "[encoded data removed]",
      "text/plain": [
       "<Figure size 1440x720 with 5 Axes>"
      ]
     },
     "metadata": {
      "needs_background": "light"
     },
     "output_type": "display_data"
    }
   ],
   "source": [
    "plt.figure(figsize=(20,10))\n",
    "for i, col in enumerate(cols):\n",
    "    # our plot numbers start at 1\n",
    "    plot_number = i+1\n",
    "    plt.subplot(1, len(cols), plot_number)\n",
    "    plt.title(f'Distribution of {col}')\n",
    "    df[col].hist(bins=10)\n",
    "    plt.grid(False)\n",
    "    plt.ticklabel_format(useOffset=False)\n",
    "plt.show()"
   ]
  },
  {
   "cell_type": "code",
   "execution_count": 27,
   "id": "994a4243-df23-42a1-b23f-0423b04e5d6f",
   "metadata": {},
   "outputs": [
    {
     "data": {
      "text/plain": [
       "<AxesSubplot:>"
      ]
     },
     "execution_count": 27,
     "metadata": {},
     "output_type": "execute_result"
    },
    {
     "data": {
      "image/png": "[encoded data removed]",
      "text/plain": [
       "<Figure size 432x288 with 1 Axes>"
      ]
     },
     "metadata": {
      "needs_background": "light"
     },
     "output_type": "display_data"
    }
   ],
   "source": [
    "df['tax_value'].hist(bins=100)"
   ]
  },
  {
   "cell_type": "code",
   "execution_count": 28,
   "id": "dbd00cfb-ca96-4fb7-9fcf-411031ad7537",
   "metadata": {},
   "outputs": [
    {
     "data": {
      "text/plain": [
       "<AxesSubplot:>"
      ]
     },
     "execution_count": 28,
     "metadata": {},
     "output_type": "execute_result"
    },
    {
     "data": {
      "image/png": "[encoded data removed]",
      "text/plain": [
       "<Figure size 432x288 with 1 Axes>"
      ]
     },
     "metadata": {
      "needs_background": "light"
     },
     "output_type": "display_data"
    }
   ],
   "source": [
    "sns.boxplot(data=df)"
   ]
  },
  {
   "cell_type": "markdown",
   "id": "dd3727ca-bc53-4f86-9259-77fdb9820cba",
   "metadata": {
    "tags": []
   },
   "source": [
    "### Boxplots\n",
    "Naturally show outliers as black diamonds"
   ]
  },
  {
   "cell_type": "code",
   "execution_count": 31,
   "id": "c4d92558-6965-4d68-b416-61082215f591",
   "metadata": {},
   "outputs": [
    {
     "data": {
      "image/png": "[encoded data removed]",
      "text/plain": [
       "<Figure size 1440x720 with 5 Axes>"
      ]
     },
     "metadata": {
      "needs_background": "light"
     },
     "output_type": "display_data"
    }
   ],
   "source": [
    "plt.figure(figsize=(20,10))\n",
    "for i, col in enumerate(cols):\n",
    "    # our plot numbers start at 1\n",
    "    plot_number = i+1\n",
    "    plt.subplot(1, len(cols), plot_number)\n",
    "    plt.title(f'Distribution of {col}')\n",
    "    plt.grid(False)\n",
    "    sns.boxplot(data=df[col])\n",
    "plt.show()"
   ]
  },
  {
   "cell_type": "markdown",
   "id": "840d69a0",
   "metadata": {},
   "source": [
    "**Takeaways**\n",
    "- Outliers must exist in each column for the x-axis to have the range shown\n",
    "- `tax_value` is looking like it has severe skew, due to a x-axis range that goes to 1e8"
   ]
  },
  {
   "cell_type": "markdown",
   "id": "0f7505f0",
   "metadata": {},
   "source": [
    "## Decision time:\n",
    " - It looks like I have outliers highly dependent on what properties have over 5+ bedrooms and bathrooms.  If I want to make conclusions and generalizations about the primary/regular housing market, I may make the decision to eliminate outliers based on these homes and analyze specifically homes in the median range of values rather than the extremely high value properties.\n",
    " \n",
    " \"I'm going to remove outliers this time for the same of my MVP, noting that my decisions and analysis are going to center around the mediam homes and I will likely want to examine the high value property market on my next iteration\""
   ]
  },
  {
   "cell_type": "code",
   "execution_count": null,
   "id": "c287c19f",
   "metadata": {},
   "outputs": [],
   "source": []
  },
  {
   "cell_type": "markdown",
   "id": "5f290389",
   "metadata": {},
   "source": [
    "What are the quartiles for each of these columns?"
   ]
  },
  {
   "cell_type": "code",
   "execution_count": 32,
   "id": "aaf95d1e",
   "metadata": {},
   "outputs": [
    {
     "data": {
      "text/html": [
       "<div>\n",
       "<style scoped>\n",
       "    .dataframe tbody tr th:only-of-type {\n",
       "        vertical-align: middle;\n",
       "    }\n",
       "\n",
       "    .dataframe tbody tr th {\n",
       "        vertical-align: top;\n",
       "    }\n",
       "\n",
       "    .dataframe thead th {\n",
       "        text-align: right;\n",
       "    }\n",
       "</style>\n",
       "<table border=\"1\" class=\"dataframe\">\n",
       "  <thead>\n",
       "    <tr style=\"text-align: right;\">\n",
       "      <th></th>\n",
       "      <th>count</th>\n",
       "      <th>mean</th>\n",
       "      <th>std</th>\n",
       "      <th>min</th>\n",
       "      <th>25%</th>\n",
       "      <th>50%</th>\n",
       "      <th>75%</th>\n",
       "      <th>max</th>\n",
       "    </tr>\n",
       "  </thead>\n",
       "  <tbody>\n",
       "    <tr>\n",
       "      <th>bedrooms</th>\n",
       "      <td>2152853.0</td>\n",
       "      <td>3.287195</td>\n",
       "      <td>0.954757</td>\n",
       "      <td>0.00</td>\n",
       "      <td>3.0000</td>\n",
       "      <td>3.000</td>\n",
       "      <td>4.0000</td>\n",
       "      <td>25.00</td>\n",
       "    </tr>\n",
       "    <tr>\n",
       "      <th>bathrooms</th>\n",
       "      <td>2152853.0</td>\n",
       "      <td>2.230687</td>\n",
       "      <td>0.999281</td>\n",
       "      <td>0.00</td>\n",
       "      <td>2.0000</td>\n",
       "      <td>2.000</td>\n",
       "      <td>3.0000</td>\n",
       "      <td>32.00</td>\n",
       "    </tr>\n",
       "    <tr>\n",
       "      <th>area</th>\n",
       "      <td>2144379.0</td>\n",
       "      <td>1862.855178</td>\n",
       "      <td>1222.125124</td>\n",
       "      <td>1.00</td>\n",
       "      <td>1257.0000</td>\n",
       "      <td>1623.000</td>\n",
       "      <td>2208.0000</td>\n",
       "      <td>952576.00</td>\n",
       "    </tr>\n",
       "    <tr>\n",
       "      <th>tax_value</th>\n",
       "      <td>2152371.0</td>\n",
       "      <td>461896.052361</td>\n",
       "      <td>699675.940049</td>\n",
       "      <td>1.00</td>\n",
       "      <td>188170.0000</td>\n",
       "      <td>327671.000</td>\n",
       "      <td>534527.0000</td>\n",
       "      <td>98428909.00</td>\n",
       "    </tr>\n",
       "    <tr>\n",
       "      <th>year_built</th>\n",
       "      <td>2143526.0</td>\n",
       "      <td>1960.949681</td>\n",
       "      <td>22.162196</td>\n",
       "      <td>1801.00</td>\n",
       "      <td>1949.0000</td>\n",
       "      <td>1958.000</td>\n",
       "      <td>1976.0000</td>\n",
       "      <td>2016.00</td>\n",
       "    </tr>\n",
       "    <tr>\n",
       "      <th>taxamount</th>\n",
       "      <td>2148422.0</td>\n",
       "      <td>5634.863752</td>\n",
       "      <td>8178.908996</td>\n",
       "      <td>1.85</td>\n",
       "      <td>2534.9725</td>\n",
       "      <td>4108.945</td>\n",
       "      <td>6414.3175</td>\n",
       "      <td>1337755.86</td>\n",
       "    </tr>\n",
       "    <tr>\n",
       "      <th>fips</th>\n",
       "      <td>2152864.0</td>\n",
       "      <td>6048.377330</td>\n",
       "      <td>20.433289</td>\n",
       "      <td>6037.00</td>\n",
       "      <td>6037.0000</td>\n",
       "      <td>6037.000</td>\n",
       "      <td>6059.0000</td>\n",
       "      <td>6111.00</td>\n",
       "    </tr>\n",
       "  </tbody>\n",
       "</table>\n",
       "</div>"
      ],
      "text/plain": [
       "                count           mean            std      min          25%  \\\n",
       "bedrooms    2152853.0       3.287195       0.954757     0.00       3.0000   \n",
       "bathrooms   2152853.0       2.230687       0.999281     0.00       2.0000   \n",
       "area        2144379.0    1862.855178    1222.125124     1.00    1257.0000   \n",
       "tax_value   2152371.0  461896.052361  699675.940049     1.00  188170.0000   \n",
       "year_built  2143526.0    1960.949681      22.162196  1801.00    1949.0000   \n",
       "taxamount   2148422.0    5634.863752    8178.908996     1.85    2534.9725   \n",
       "fips        2152864.0    6048.377330      20.433289  6037.00    6037.0000   \n",
       "\n",
       "                   50%          75%          max  \n",
       "bedrooms         3.000       4.0000        25.00  \n",
       "bathrooms        2.000       3.0000        32.00  \n",
       "area          1623.000    2208.0000    952576.00  \n",
       "tax_value   327671.000  534527.0000  98428909.00  \n",
       "year_built    1958.000    1976.0000      2016.00  \n",
       "taxamount     4108.945    6414.3175   1337755.86  \n",
       "fips          6037.000    6059.0000      6111.00  "
      ]
     },
     "execution_count": 32,
     "metadata": {},
     "output_type": "execute_result"
    }
   ],
   "source": [
    "df.describe().T"
   ]
  },
  {
   "cell_type": "code",
   "execution_count": 35,
   "id": "9f45409d-5033-42b5-b330-9fd21cbfc734",
   "metadata": {},
   "outputs": [
    {
     "data": {
      "text/plain": [
       "2.0"
      ]
     },
     "execution_count": 35,
     "metadata": {},
     "output_type": "execute_result"
    }
   ],
   "source": [
    "df['bathrooms'].describe()['25%']"
   ]
  },
  {
   "cell_type": "code",
   "execution_count": 36,
   "id": "c585d160-2c36-42f7-8d3e-982c1840ddf3",
   "metadata": {},
   "outputs": [
    {
     "data": {
      "text/plain": [
       "2.0"
      ]
     },
     "execution_count": 36,
     "metadata": {},
     "output_type": "execute_result"
    }
   ],
   "source": [
    "df['bathrooms'].quantile(0.25)"
   ]
  },
  {
   "cell_type": "code",
   "execution_count": 38,
   "id": "8a48bcf5-bc7c-4a6f-94c6-4ede12890f02",
   "metadata": {},
   "outputs": [],
   "source": [
    "# IQR for bathrooms:\n",
    "iqr = df['bathrooms'].quantile(0.75) - df['bathrooms'].quantile(0.25)"
   ]
  },
  {
   "cell_type": "code",
   "execution_count": 39,
   "id": "b37b040d-4516-4bfc-bf3a-5c6fd32cbc58",
   "metadata": {},
   "outputs": [],
   "source": [
    "lower_bathroom_fence = df['bathrooms'].quantile(0.25) - (1.5*iqr)"
   ]
  },
  {
   "cell_type": "code",
   "execution_count": 40,
   "id": "ed31f194-fbb1-47a3-b573-1fa44bd305af",
   "metadata": {},
   "outputs": [
    {
     "data": {
      "text/plain": [
       "0.5"
      ]
     },
     "execution_count": 40,
     "metadata": {},
     "output_type": "execute_result"
    }
   ],
   "source": [
    "lower_bathroom_fence"
   ]
  },
  {
   "cell_type": "code",
   "execution_count": 41,
   "id": "8a937dc9-8f00-4eef-83ed-bbac8caeff99",
   "metadata": {},
   "outputs": [],
   "source": [
    "upper_bathroom_fence = df['bathrooms'].quantile(0.75) + (1.5*iqr)"
   ]
  },
  {
   "cell_type": "code",
   "execution_count": 42,
   "id": "978c7e15-ed73-40e4-b792-133365f83318",
   "metadata": {},
   "outputs": [
    {
     "data": {
      "text/plain": [
       "4.5"
      ]
     },
     "execution_count": 42,
     "metadata": {},
     "output_type": "execute_result"
    }
   ],
   "source": [
    "upper_bathroom_fence"
   ]
  },
  {
   "cell_type": "code",
   "execution_count": 45,
   "id": "a72cc346-93f5-432f-ad8c-b5df37326191",
   "metadata": {},
   "outputs": [
    {
     "data": {
      "text/plain": [
       "count    2.065622e+06\n",
       "mean     2.131432e+00\n",
       "std      7.741102e-01\n",
       "min      1.000000e+00\n",
       "25%      2.000000e+00\n",
       "50%      2.000000e+00\n",
       "75%      3.000000e+00\n",
       "max      4.000000e+00\n",
       "Name: bathrooms, dtype: float64"
      ]
     },
     "execution_count": 45,
     "metadata": {},
     "output_type": "execute_result"
    }
   ],
   "source": [
    "df[(df.bathrooms > lower_bathroom_fence) & (df.bathrooms < upper_bathroom_fence)].bathrooms.describe()"
   ]
  },
  {
   "cell_type": "code",
   "execution_count": 47,
   "id": "e753bb9e-7254-41c7-b6b7-acdbdacd7550",
   "metadata": {},
   "outputs": [],
   "source": [
    "col_qs = {}\n",
    "for col in cols:\n",
    "    col_qs[col] = q1, q3 = df[col].quantile([0.25, 0.75])"
   ]
  },
  {
   "cell_type": "code",
   "execution_count": 50,
   "id": "d7008271-8ce7-48b9-b8b3-2b4a42be0d85",
   "metadata": {},
   "outputs": [
    {
     "data": {
      "text/plain": [
       "3.0"
      ]
     },
     "execution_count": 50,
     "metadata": {},
     "output_type": "execute_result"
    }
   ],
   "source": [
    "col_qs['bedrooms'][0.25]"
   ]
  },
  {
   "cell_type": "code",
   "execution_count": 58,
   "id": "d22cb719-9e48-4ac2-a9de-041907c690f6",
   "metadata": {},
   "outputs": [],
   "source": [
    "def remove_outliers(df, col_list, k=1.5):\n",
    "    '''\n",
    "    remove outliers from a dataframe based on a list of columns\n",
    "    using the tukey method.\n",
    "    returns a single dataframe with outliers removed\n",
    "    '''\n",
    "    col_qs = {}\n",
    "    for col in col_list:\n",
    "        col_qs[col] = q1, q3 = df[col].quantile([0.25, 0.75])\n",
    "    for col in col_list:\n",
    "        iqr = col_qs[col][0.75] - col_qs[col][0.25]\n",
    "        lower_fence = col_qs[col][0.25] - (k*iqr)\n",
    "        upper_fence = col_qs[col][0.75] + (k*iqr)\n",
    "        print(type(lower_fence))\n",
    "        print(lower_fence)\n",
    "        df = df[(df[col] > lower_fence) & (df[col] < upper_fence)]\n",
    "    return df"
   ]
  },
  {
   "cell_type": "code",
   "execution_count": 59,
   "id": "b12a4ec3-e73b-4c7a-9eb3-a81eb5f09fb7",
   "metadata": {},
   "outputs": [
    {
     "name": "stdout",
     "output_type": "stream",
     "text": [
      "<class 'numpy.float64'>\n",
      "1.5\n",
      "<class 'numpy.float64'>\n",
      "0.5\n",
      "<class 'numpy.float64'>\n",
      "-169.5\n",
      "<class 'numpy.float64'>\n",
      "-331365.5\n",
      "<class 'numpy.float64'>\n",
      "-3284.045\n"
     ]
    }
   ],
   "source": [
    "smol_df = remove_outliers(df, cols)"
   ]
  },
  {
   "cell_type": "code",
   "execution_count": 62,
   "id": "2a80402b-0e52-41af-bddd-f52995748519",
   "metadata": {},
   "outputs": [
    {
     "data": {
      "text/plain": [
       "(2152864, 7)"
      ]
     },
     "execution_count": 62,
     "metadata": {},
     "output_type": "execute_result"
    }
   ],
   "source": [
    "df.shape"
   ]
  },
  {
   "cell_type": "code",
   "execution_count": 61,
   "id": "b5f3d0d6-4724-4cf7-864b-a54baab1251d",
   "metadata": {},
   "outputs": [
    {
     "data": {
      "text/plain": [
       "(1907777, 7)"
      ]
     },
     "execution_count": 61,
     "metadata": {},
     "output_type": "execute_result"
    }
   ],
   "source": [
    "smol_df.shape"
   ]
  },
  {
   "cell_type": "code",
   "execution_count": 66,
   "id": "0116889a-0c82-48b7-a8e3-db21f4d5b842",
   "metadata": {},
   "outputs": [
    {
     "data": {
      "text/plain": [
       "245087"
      ]
     },
     "execution_count": 66,
     "metadata": {},
     "output_type": "execute_result"
    }
   ],
   "source": [
    "df.shape[0] - smol_df.shape[0]"
   ]
  },
  {
   "cell_type": "code",
   "execution_count": 69,
   "id": "dc898fc4-92a3-46de-b543-a15998cf9baf",
   "metadata": {},
   "outputs": [
    {
     "data": {
      "text/plain": [
       "11.38"
      ]
     },
     "execution_count": 69,
     "metadata": {},
     "output_type": "execute_result"
    }
   ],
   "source": [
    "round((df.shape[0] - smol_df.shape[0])/ df.shape[0] * 100, 2)"
   ]
  },
  {
   "cell_type": "code",
   "execution_count": 67,
   "id": "aa3c646a-26ac-4910-818f-5fab7b602066",
   "metadata": {},
   "outputs": [
    {
     "data": {
      "text/plain": [
       "(1907777, 7)"
      ]
     },
     "execution_count": 67,
     "metadata": {},
     "output_type": "execute_result"
    }
   ],
   "source": [
    "smol_df.shape"
   ]
  },
  {
   "cell_type": "code",
   "execution_count": 70,
   "id": "a510ced6-2ec5-4a80-8b0c-4b3444b4cd50",
   "metadata": {},
   "outputs": [
    {
     "data": {
      "text/plain": [
       "bedrooms        0\n",
       "bathrooms       0\n",
       "area            0\n",
       "tax_value       0\n",
       "year_built    904\n",
       "taxamount       0\n",
       "fips            0\n",
       "dtype: int64"
      ]
     },
     "execution_count": 70,
     "metadata": {},
     "output_type": "execute_result"
    }
   ],
   "source": [
    "smol_df.isna().sum()"
   ]
  },
  {
   "cell_type": "code",
   "execution_count": 64,
   "id": "43a585dd-3e68-4efb-a40e-cda9502d1378",
   "metadata": {},
   "outputs": [
    {
     "name": "stdout",
     "output_type": "stream",
     "text": [
      "<class 'pandas.core.frame.DataFrame'>\n",
      "Int64Index: 1907777 entries, 4 to 2152863\n",
      "Data columns (total 7 columns):\n",
      " #   Column      Non-Null Count    Dtype  \n",
      "---  ------      --------------    -----  \n",
      " 0   bedrooms    1907777 non-null  float64\n",
      " 1   bathrooms   1907777 non-null  float64\n",
      " 2   area        1907777 non-null  float64\n",
      " 3   tax_value   1907777 non-null  float64\n",
      " 4   year_built  1906873 non-null  float64\n",
      " 5   taxamount   1907777 non-null  float64\n",
      " 6   fips        1907777 non-null  float64\n",
      "dtypes: float64(7)\n",
      "memory usage: 116.4 MB\n"
     ]
    }
   ],
   "source": [
    "smol_df.info(show_counts=True)"
   ]
  },
  {
   "cell_type": "markdown",
   "id": "joint-symphony",
   "metadata": {},
   "source": [
    "**Takeaways**\n",
    "- Substantial outliers exist\n",
    "- If we presume that we are going to use our data to build a model that focuses on median home values, then we can drop these outliers.\n",
    "- This may also help with our null value issue"
   ]
  },
  {
   "cell_type": "markdown",
   "id": "2313ff0f-0b40-4731-a123-3af96057ee7f",
   "metadata": {},
   "source": [
    "### Revisualize Distributions\n",
    "Lets revisualize our data now that its be cleaned a bit (approximately 300,000 observations removed):"
   ]
  },
  {
   "cell_type": "code",
   "execution_count": 71,
   "id": "5a98cc19-38af-4a67-8301-5bb91b19294d",
   "metadata": {},
   "outputs": [],
   "source": [
    "df = smol_df"
   ]
  },
  {
   "cell_type": "code",
   "execution_count": 77,
   "id": "1907423c-4462-4c1a-bf4d-767fcb43bc77",
   "metadata": {},
   "outputs": [
    {
     "data": {
      "image/png": "[encoded data removed]",
      "text/plain": [
       "<Figure size 432x288 with 1 Axes>"
      ]
     },
     "metadata": {
      "needs_background": "light"
     },
     "output_type": "display_data"
    },
    {
     "name": "stdout",
     "output_type": "stream",
     "text": [
      "==========\n"
     ]
    },
    {
     "data": {
      "image/png": "[encoded data removed]",
      "text/plain": [
       "<Figure size 432x288 with 1 Axes>"
      ]
     },
     "metadata": {
      "needs_background": "light"
     },
     "output_type": "display_data"
    },
    {
     "name": "stdout",
     "output_type": "stream",
     "text": [
      "==========\n"
     ]
    },
    {
     "data": {
      "image/png": "[encoded data removed]",
      "text/plain": [
       "<Figure size 432x288 with 1 Axes>"
      ]
     },
     "metadata": {
      "needs_background": "light"
     },
     "output_type": "display_data"
    },
    {
     "name": "stdout",
     "output_type": "stream",
     "text": [
      "==========\n"
     ]
    },
    {
     "data": {
      "image/png": "[encoded data removed]",
      "text/plain": [
       "<Figure size 432x288 with 1 Axes>"
      ]
     },
     "metadata": {
      "needs_background": "light"
     },
     "output_type": "display_data"
    },
    {
     "name": "stdout",
     "output_type": "stream",
     "text": [
      "==========\n"
     ]
    },
    {
     "data": {
      "image/png": "[encoded data removed]",
      "text/plain": [
       "<Figure size 432x288 with 1 Axes>"
      ]
     },
     "metadata": {
      "needs_background": "light"
     },
     "output_type": "display_data"
    },
    {
     "name": "stdout",
     "output_type": "stream",
     "text": [
      "==========\n"
     ]
    }
   ],
   "source": [
    "for col in cols:\n",
    "    df[col].hist()\n",
    "    plt.title(f'Dist of {col}')\n",
    "    plt.show()\n",
    "    print('==========')"
   ]
  },
  {
   "cell_type": "code",
   "execution_count": 76,
   "id": "068587a4",
   "metadata": {},
   "outputs": [
    {
     "data": {
      "image/png": "[encoded data removed]",
      "text/plain": [
       "<Figure size 936x720 with 5 Axes>"
      ]
     },
     "metadata": {
      "needs_background": "light"
     },
     "output_type": "display_data"
    }
   ],
   "source": [
    "plt.figure(figsize=(13,10))\n",
    "for i, col in enumerate(cols):\n",
    "    # our plot numbers start at 1\n",
    "    plot_number = i+1\n",
    "    plt.subplot(1, len(cols), plot_number)\n",
    "    plt.title(f'Distribution of {col}')\n",
    "    df[col].hist(bins=10)\n",
    "    plt.grid(False)\n",
    "    plt.ticklabel_format(useOffset=False)\n",
    "plt.show()"
   ]
  },
  {
   "cell_type": "markdown",
   "id": "artistic-timber",
   "metadata": {},
   "source": [
    "Takeaways \n",
    "* Bedrooms and bathrooms are not normally distributed\n",
    "* Other fields are skewed, but are at least approaching a more normal distribution"
   ]
  },
  {
   "cell_type": "markdown",
   "id": "alike-omaha",
   "metadata": {},
   "source": [
    "Takeaways \n",
    "* Still a few outliers despite the relatively restrictive 1.5 * IQR setting for the upper/lower boundary\n",
    "* No need to remove these outliers"
   ]
  },
  {
   "cell_type": "markdown",
   "id": "amateur-sentence",
   "metadata": {},
   "source": [
    "### How do the null values look now?"
   ]
  },
  {
   "cell_type": "markdown",
   "id": "caroline-sheffield",
   "metadata": {},
   "source": [
    "* The null values have been cleaned up by removing the outliers\n",
    "* The mean, median, and mode are all relatively similar to each other\n",
    "* We could try and develop a complex imputation method to estimate the year built based off other columns, but for speed, we will just use the median."
   ]
  },
  {
   "cell_type": "code",
   "execution_count": 87,
   "id": "b46cb1ad-9aaf-4182-a0d8-a36f979b3311",
   "metadata": {},
   "outputs": [
    {
     "data": {
      "text/plain": [
       "0.00047385"
      ]
     },
     "execution_count": 87,
     "metadata": {},
     "output_type": "execute_result"
    }
   ],
   "source": [
    "round(df['year_built'].isna().sum() / len(df), 9)"
   ]
  },
  {
   "cell_type": "code",
   "execution_count": 78,
   "id": "638a3b0c-59bf-4aec-866b-01569f2b5149",
   "metadata": {},
   "outputs": [
    {
     "data": {
      "text/plain": [
       "bedrooms        0\n",
       "bathrooms       0\n",
       "area            0\n",
       "tax_value       0\n",
       "year_built    904\n",
       "taxamount       0\n",
       "fips            0\n",
       "dtype: int64"
      ]
     },
     "execution_count": 78,
     "metadata": {},
     "output_type": "execute_result"
    }
   ],
   "source": [
    "df.isna().sum()"
   ]
  },
  {
   "cell_type": "code",
   "execution_count": 83,
   "id": "392d6e8c-45cb-4962-9c17-fdf7171d1546",
   "metadata": {},
   "outputs": [
    {
     "data": {
      "text/plain": [
       "(1907777, 1907777)"
      ]
     },
     "execution_count": 83,
     "metadata": {},
     "output_type": "execute_result"
    }
   ],
   "source": [
    "len(df), df.shape[0]"
   ]
  },
  {
   "cell_type": "code",
   "execution_count": null,
   "id": "f68bb1b3-94b0-4b9f-82bf-6c801919627c",
   "metadata": {},
   "outputs": [],
   "source": [
    "df"
   ]
  },
  {
   "cell_type": "code",
   "execution_count": 92,
   "id": "ebbcb57b-f19f-4057-a146-15f599fde099",
   "metadata": {},
   "outputs": [],
   "source": [
    "# missing_percent = 0.98\n",
    "missing_thresh = 0.05\n",
    "exclude_missing = []\n",
    "num_rows = df.shape[0]\n",
    "for c in df.columns:\n",
    "    # calculate the missing values\n",
    "    num_missing = df[c].isna().sum()\n",
    "    # make the ratio of the number missing over all values\n",
    "    missing_frac = num_missing / num_rows\n",
    "    # if missing values fraction is greater than the missing thresh:\n",
    "    if missing_frac > missing_thresh:\n",
    "        exclude_missing.append(c)\n",
    "        "
   ]
  },
  {
   "cell_type": "code",
   "execution_count": 93,
   "id": "614290fb-e3f1-481a-ab5c-e305f69bf483",
   "metadata": {},
   "outputs": [
    {
     "data": {
      "text/plain": [
       "['year_built']"
      ]
     },
     "execution_count": 93,
     "metadata": {},
     "output_type": "execute_result"
    }
   ],
   "source": [
    "exclude_missing"
   ]
  },
  {
   "cell_type": "code",
   "execution_count": 82,
   "id": "e8e19748-7631-4c90-b60c-398834934bf9",
   "metadata": {},
   "outputs": [],
   "source": [
    "df.drop(columns=exclude_missing)"
   ]
  },
  {
   "cell_type": "code",
   "execution_count": null,
   "id": "56b3c520-7f8d-4f71-83f8-8587cc58c5d2",
   "metadata": {},
   "outputs": [],
   "source": [
    "# Notes for ourselves: we only have the one column with missing info,\n",
    "# and its a pretty small number of values,\n",
    "# So i'm going to ahead and choose to use an imputer for these values"
   ]
  },
  {
   "cell_type": "markdown",
   "id": "c29dece4",
   "metadata": {
    "tags": []
   },
   "source": [
    "### What if removing the outliers didn't clean up our nulls? What would we do then?"
   ]
  },
  {
   "cell_type": "markdown",
   "id": "44003d7d",
   "metadata": {},
   "source": [
    "`.dropna()`\n",
    "We can utilize some of the parameters of .dropna() to clean up our nulls:\n",
    "\n",
    "- axis: {0 or ‘index’, 1 or ‘columns’}, default 0\n",
    "    - 0, or ‘index’ : Drop rows which contain missing values.\n",
    "    - 1, or ‘columns’ : Drop columns which contain missing value.\n",
    "- how: {‘any’, ‘all’}, default ‘any’\n",
    "    - ‘any’ : If any NA values are present, drop that row or column.\n",
    "    - ‘all’ : If all values are NA, drop that row or column.\n",
    "- thresh: int, optional\n",
    "    - Require that many non-NA values.\n",
    "- subset: array-like, optional\n",
    "    - Give the columns to consider, ignore non-listed columns\n",
    "\n",
    "Thresh is useful, but it is limited to an integer amount. What if we wanted to remove columns that had a certain proportion of na values?"
   ]
  },
  {
   "cell_type": "markdown",
   "id": "pending-burst",
   "metadata": {},
   "source": [
    "### Are the column data types correct?"
   ]
  },
  {
   "cell_type": "code",
   "execution_count": 95,
   "id": "wooden-retreat",
   "metadata": {},
   "outputs": [
    {
     "name": "stdout",
     "output_type": "stream",
     "text": [
      "Column: bedrooms\n",
      "count    1.907777e+06\n",
      "mean     3.226660e+00\n",
      "std      7.864515e-01\n",
      "min      2.000000e+00\n",
      "25%      3.000000e+00\n",
      "50%      3.000000e+00\n",
      "75%      4.000000e+00\n",
      "max      5.000000e+00\n",
      "Name: bedrooms, dtype: float64\n",
      "==============\n",
      "Column: bathrooms\n",
      "count    1.907777e+06\n",
      "mean     2.075743e+00\n",
      "std      7.213485e-01\n",
      "min      1.000000e+00\n",
      "25%      2.000000e+00\n",
      "50%      2.000000e+00\n",
      "75%      2.500000e+00\n",
      "max      4.000000e+00\n",
      "Name: bathrooms, dtype: float64\n",
      "==============\n",
      "Column: area\n",
      "count    1.907777e+06\n",
      "mean     1.680690e+03\n",
      "std      5.923135e+02\n",
      "min      1.000000e+00\n",
      "25%      1.239000e+03\n",
      "50%      1.562000e+03\n",
      "75%      2.024000e+03\n",
      "max      3.634000e+03\n",
      "Name: area, dtype: float64\n",
      "==============\n",
      "Column: tax_value\n",
      "count    1.907777e+06\n",
      "mean     3.418999e+05\n",
      "std      2.155824e+05\n",
      "min      2.200000e+01\n",
      "25%      1.775200e+05\n",
      "50%      3.034080e+05\n",
      "75%      4.676380e+05\n",
      "max      1.054000e+06\n",
      "Name: tax_value, dtype: float64\n",
      "==============\n",
      "Column: year_built\n",
      "count    1.906873e+06\n",
      "mean     1.959753e+03\n",
      "std      2.079616e+01\n",
      "min      1.801000e+03\n",
      "25%      1.949000e+03\n",
      "50%      1.957000e+03\n",
      "75%      1.973000e+03\n",
      "max      2.016000e+03\n",
      "Name: year_built, dtype: float64\n",
      "==============\n",
      "Column: taxamount\n",
      "count    1.907777e+06\n",
      "mean     4.238401e+03\n",
      "std      2.452408e+03\n",
      "min      1.648000e+01\n",
      "25%      2.409950e+03\n",
      "50%      3.826540e+03\n",
      "75%      5.662090e+03\n",
      "max      1.223333e+04\n",
      "Name: taxamount, dtype: float64\n",
      "==============\n",
      "Column: fips\n",
      "count    1.907777e+06\n",
      "mean     6.048340e+03\n",
      "std      2.050559e+01\n",
      "min      6.037000e+03\n",
      "25%      6.037000e+03\n",
      "50%      6.037000e+03\n",
      "75%      6.059000e+03\n",
      "max      6.111000e+03\n",
      "Name: fips, dtype: float64\n",
      "==============\n"
     ]
    }
   ],
   "source": [
    "for col in df.columns:\n",
    "    print(f'Column: {col}')\n",
    "    print(df[col].describe())\n",
    "    print('==============')"
   ]
  },
  {
   "cell_type": "markdown",
   "id": "peaceful-protection",
   "metadata": {},
   "source": [
    "* casting fips and year built as an object because it is a numerical represintation of a catagorical value\n",
    "* leaving the rest as floats"
   ]
  },
  {
   "cell_type": "code",
   "execution_count": 96,
   "id": "f2064963-efb4-4bc0-9cbb-050d1abefec2",
   "metadata": {},
   "outputs": [],
   "source": [
    "# fixing the year values that are missing"
   ]
  },
  {
   "cell_type": "code",
   "execution_count": 98,
   "id": "b274fc33-4903-4e2e-ab6d-b229d2446b8b",
   "metadata": {},
   "outputs": [
    {
     "data": {
      "text/plain": [
       "SimpleImputer()"
      ]
     },
     "execution_count": 98,
     "metadata": {},
     "output_type": "execute_result"
    }
   ],
   "source": [
    "year_imputer = SimpleImputer()\n",
    "year_imputer.fit(df[['year_built']])"
   ]
  },
  {
   "cell_type": "code",
   "execution_count": 100,
   "id": "5d00e01a-9d80-49e5-b891-9ee95fa8db2a",
   "metadata": {},
   "outputs": [],
   "source": [
    "df['year_built'] = year_imputer.transform(df[['year_built']])"
   ]
  },
  {
   "cell_type": "code",
   "execution_count": 102,
   "id": "77905dc3-2e07-400e-beb3-32f41761b610",
   "metadata": {},
   "outputs": [
    {
     "name": "stdout",
     "output_type": "stream",
     "text": [
      "<class 'pandas.core.frame.DataFrame'>\n",
      "Int64Index: 1907777 entries, 4 to 2152863\n",
      "Data columns (total 7 columns):\n",
      " #   Column      Non-Null Count    Dtype  \n",
      "---  ------      --------------    -----  \n",
      " 0   bedrooms    1907777 non-null  float64\n",
      " 1   bathrooms   1907777 non-null  float64\n",
      " 2   area        1907777 non-null  float64\n",
      " 3   tax_value   1907777 non-null  float64\n",
      " 4   year_built  1907777 non-null  float64\n",
      " 5   taxamount   1907777 non-null  float64\n",
      " 6   fips        1907777 non-null  float64\n",
      "dtypes: float64(7)\n",
      "memory usage: 116.4 MB\n"
     ]
    }
   ],
   "source": [
    "df.info(show_counts=True)"
   ]
  },
  {
   "cell_type": "markdown",
   "id": "welcome-replacement",
   "metadata": {},
   "source": [
    "## Target Leakage\n",
    "\n",
    "Consider the goal of the model to be developed:\n",
    "\n",
    "        Build an end-to-end project in which you use some of their Kaggle data to predict property values"
   ]
  },
  {
   "cell_type": "markdown",
   "id": "integrated-memorial",
   "metadata": {},
   "source": [
    "`taxamount` is determined by a real estate tax appraisers valuation of the home combined with the local tax rate.\n",
    "\n",
    "The question to consider, does this represent information that we wouldn't have at the time of prediction? Does this represent the target variable? This is where specific domain knowledge is very important.\n",
    "\n",
    "Tax appraised values often deviate from the sale price of a property due to a number of reasons:\n",
    "- Unlike market value, homeowners are incentivized to reduce their tax value appraisal. As a result, some homeowners may misrepresent the features/size of their property to avoid a bigger tax bill\n",
    "- Some counties limit the tax appraisal increase to a set amount, causing tax appraised value to significantly lag behind home values in hot markets\n",
    "- Local tax appraisers evaluate homes based on evaluation criteria that can differ from county to county or even year to year based on political and administrative pressures\n",
    "\n",
    "This data is a snapshot of home information in 2017. There is an additional column in the database containing assessment year. This might be useful to know the recency of any given taxamount value. \n",
    "\n",
    "When a home is being appraised to evaluate for market pricing, prior years home value is not considered in that price determination. That doesn't mean that prior years home value is not predictive of price. It could be. For this reason, we will allow `taxamount` to remain in the dataset. \n",
    "\n",
    "Without this specific domain knowledge, this column seems to represent the risk of target leak. If you are in a situation where you don't know if you have a target leak situation, its probably generally better to err on the side of caution."
   ]
  },
  {
   "cell_type": "markdown",
   "id": "current-intent",
   "metadata": {},
   "source": [
    "## Split the data"
   ]
  },
  {
   "cell_type": "code",
   "execution_count": null,
   "id": "viral-disposition",
   "metadata": {},
   "outputs": [],
   "source": [
    "# I did the imputation before the split for the sake of demonstration\n",
    "# note that we would not do this in production, \n",
    "# hence its not reflected in my wrangle.py :)"
   ]
  },
  {
   "cell_type": "code",
   "execution_count": null,
   "id": "verified-fleet",
   "metadata": {},
   "outputs": [],
   "source": []
  },
  {
   "cell_type": "code",
   "execution_count": null,
   "id": "alpha-revision",
   "metadata": {},
   "outputs": [],
   "source": []
  },
  {
   "cell_type": "code",
   "execution_count": null,
   "id": "southwest-guess",
   "metadata": {},
   "outputs": [],
   "source": []
  },
  {
   "cell_type": "code",
   "execution_count": null,
   "id": "bad75a55-2335-41d7-87a1-c3b83e4c39d1",
   "metadata": {},
   "outputs": [],
   "source": []
  },
  {
   "cell_type": "code",
   "execution_count": null,
   "id": "c8a95a7b-b84c-4122-86f5-e350b6dba926",
   "metadata": {},
   "outputs": [],
   "source": []
  },
  {
   "cell_type": "code",
   "execution_count": null,
   "id": "indie-infrastructure",
   "metadata": {
    "jupyter": {
     "source_hidden": true
    },
    "tags": []
   },
   "outputs": [],
   "source": [
    "'''Wrangles data from Zillow Database'''\n",
    "\n",
    "##################################################Wrangle.py###################################################\n",
    "\n",
    "import pandas as pd\n",
    "\n",
    "import matplotlib.pyplot as plt\n",
    "import seaborn as sns\n",
    "\n",
    "from sklearn.model_selection import train_test_split\n",
    "from sklearn.impute import SimpleImputer\n",
    "\n",
    "from env import user, password, host\n",
    "\n",
    "#**************************************************Acquire*******************************************************\n",
    "\n",
    "def acquire_zillow():\n",
    "    ''' Acquire data from Zillow using env imports and rename columns'''\n",
    "    \n",
    "    url = f\"mysql+pymysql://{user}:{password}@{host}/zillow\"\n",
    "    \n",
    "    query = \"\"\"\n",
    "            \n",
    "    SELECT bedroomcnt, bathroomcnt, calculatedfinishedsquarefeet, taxvaluedollarcnt, yearbuilt, taxamount, fips\n",
    "    FROM properties_2017\n",
    "\n",
    "    LEFT JOIN propertylandusetype USING(propertylandusetypeid)\n",
    "\n",
    "    WHERE propertylandusedesc IN (\"Single Family Residential\",                       \n",
    "                                  \"Inferred Single Family Residential\")\"\"\"\n",
    "\n",
    "    # get dataframe of data\n",
    "    df = pd.read_sql(query, url)\n",
    "    \n",
    "    \n",
    "    # renaming column names to one's I like better\n",
    "    df = df.rename(columns = {'bedroomcnt':'bedrooms', \n",
    "                              'bathroomcnt':'bathrooms', \n",
    "                              'calculatedfinishedsquarefeet':'area',\n",
    "                              'taxvaluedollarcnt':'tax_value', \n",
    "                              'yearbuilt':'year_built',})\n",
    "    return df\n",
    "\n",
    "#**************************************************Remove Outliers*******************************************************\n",
    "\n",
    "def remove_outliers(df, k, col_list):\n",
    "    ''' remove outliers from a list of columns in a dataframe \n",
    "        and return that dataframe\n",
    "    '''\n",
    "    \n",
    "    for col in col_list:\n",
    "\n",
    "        q1, q3 = df[col].quantile([.25, .75])  # get quartiles\n",
    "        \n",
    "        iqr = q3 - q1   # calculate interquartile range\n",
    "        \n",
    "        upper_bound = q3 + k * iqr   # get upper bound\n",
    "        lower_bound = q1 - k * iqr   # get lower bound\n",
    "\n",
    "        # return dataframe without outliers\n",
    "        \n",
    "        df = df[(df[col] > lower_bound) & (df[col] < upper_bound)]\n",
    "        \n",
    "    return df\n",
    "\n",
    "#**************************************************Distributions*******************************************************\n",
    "\n",
    "def get_hist(df):\n",
    "    ''' Gets histographs of acquired continuous variables'''\n",
    "    \n",
    "    plt.figure(figsize=(16, 3))\n",
    "\n",
    "    # List of columns\n",
    "    cols = [col for col in df.columns if col not in ['fips', 'year_built']]\n",
    "\n",
    "    for i, col in enumerate(cols):\n",
    "\n",
    "        # i starts at 0, but plot nos should start at 1\n",
    "        plot_number = i + 1 \n",
    "\n",
    "        # Create subplot.\n",
    "        plt.subplot(1, len(cols), plot_number)\n",
    "\n",
    "        # Title with column name.\n",
    "        plt.title(col)\n",
    "\n",
    "        # Display histogram for column.\n",
    "        df[col].hist(bins=5)\n",
    "\n",
    "        # Hide gridlines.\n",
    "        plt.grid(False)\n",
    "\n",
    "        # turn off scientific notation\n",
    "        plt.ticklabel_format(useOffset=False)\n",
    "\n",
    "        plt.tight_layout()\n",
    "\n",
    "    plt.show()\n",
    "        \n",
    "        \n",
    "def get_box(df):\n",
    "    ''' Gets boxplots of acquired continuous variables'''\n",
    "    \n",
    "    # List of columns\n",
    "    cols = ['bedrooms', 'bathrooms', 'area', 'tax_value', 'taxamount']\n",
    "\n",
    "    plt.figure(figsize=(16, 3))\n",
    "\n",
    "    for i, col in enumerate(cols):\n",
    "\n",
    "        # i starts at 0, but plot should start at 1\n",
    "        plot_number = i + 1 \n",
    "\n",
    "        # Create subplot.\n",
    "        plt.subplot(1, len(cols), plot_number)\n",
    "\n",
    "        # Title with column name.\n",
    "        plt.title(col)\n",
    "\n",
    "        # Display boxplot for column.\n",
    "        sns.boxplot(data=df[[col]])\n",
    "\n",
    "        # Hide gridlines.\n",
    "        plt.grid(False)\n",
    "\n",
    "        # sets proper spacing between plots\n",
    "        plt.tight_layout()\n",
    "\n",
    "    plt.show()\n",
    "        \n",
    "#**************************************************Prepare*******************************************************\n",
    "\n",
    "def prepare_zillow(df):\n",
    "    ''' Prepare zillow data for exploration'''\n",
    "\n",
    "    # removing outliers\n",
    "    df = remove_outliers(df, 1.5, ['bedrooms', 'bathrooms', 'area', 'tax_value', 'taxamount'])\n",
    "    \n",
    "    # get distributions of numeric data\n",
    "    get_hist(df)\n",
    "    get_box(df)\n",
    "    \n",
    "    # converting column datatypes\n",
    "    df.fips = df.fips.astype(object)\n",
    "    df.year_built = df.year_built.astype(object)\n",
    "    \n",
    "    # train/validate/test split\n",
    "    train_validate, test = train_test_split(df, test_size=.2, random_state=123)\n",
    "    train, validate = train_test_split(train_validate, test_size=.3, random_state=123)\n",
    "    \n",
    "    # impute year built using mode\n",
    "    imputer = SimpleImputer(strategy='median')\n",
    "\n",
    "    imputer.fit(train[['year_built']])\n",
    "\n",
    "    train[['year_built']] = imputer.transform(train[['year_built']])\n",
    "    validate[['year_built']] = imputer.transform(validate[['year_built']])\n",
    "    test[['year_built']] = imputer.transform(test[['year_built']])       \n",
    "    \n",
    "    return train, validate, test    \n",
    "\n",
    "\n",
    "#**************************************************Wrangle*******************************************************\n",
    "\n",
    "\n",
    "def wrangle_zillow():\n",
    "    '''Acquire and prepare data from Zillow database for explore'''\n",
    "    train, validate, test = prepare_zillow(acquire_zillow())\n",
    "    \n",
    "    return train, validate, test"
   ]
  },
  {
   "cell_type": "code",
   "execution_count": 105,
   "id": "6d4fad88-ce15-4de8-8ac4-e2b2293bccf5",
   "metadata": {},
   "outputs": [],
   "source": [
    "import wrangle_zillow"
   ]
  },
  {
   "cell_type": "code",
   "execution_count": 106,
   "id": "promotional-monaco",
   "metadata": {},
   "outputs": [
    {
     "name": "stdout",
     "output_type": "stream",
     "text": [
      "local version found!\n"
     ]
    },
    {
     "data": {
      "image/png": "[encoded data removed]",
      "text/plain": [
       "<Figure size 1152x216 with 5 Axes>"
      ]
     },
     "metadata": {
      "needs_background": "light"
     },
     "output_type": "display_data"
    },
    {
     "data": {
      "image/png": "[encoded data removed]",
      "text/plain": [
       "<Figure size 1152x216 with 5 Axes>"
      ]
     },
     "metadata": {
      "needs_background": "light"
     },
     "output_type": "display_data"
    }
   ],
   "source": [
    "train, val, test = wrangle_zillow.wrangle_zillow()"
   ]
  },
  {
   "cell_type": "code",
   "execution_count": 108,
   "id": "irish-contrast",
   "metadata": {},
   "outputs": [
    {
     "data": {
      "text/plain": [
       "((1038959, 7), (445269, 7), (371057, 7))"
      ]
     },
     "execution_count": 108,
     "metadata": {},
     "output_type": "execute_result"
    }
   ],
   "source": [
    "train.shape, val.shape, test.shape"
   ]
  },
  {
   "cell_type": "code",
   "execution_count": null,
   "id": "3466677e",
   "metadata": {},
   "outputs": [],
   "source": []
  }
 ],
 "metadata": {
  "kernelspec": {
   "display_name": "Python 3",
   "language": "python",
   "name": "python3"
  },
  "language_info": {
   "codemirror_mode": {
    "name": "ipython",
    "version": 3
   },
   "file_extension": ".py",
   "mimetype": "text/x-python",
   "name": "python",
   "nbconvert_exporter": "python",
   "pygments_lexer": "ipython3",
   "version": "3.9.4"
  }
 },
 "nbformat": 4,
 "nbformat_minor": 5
}
