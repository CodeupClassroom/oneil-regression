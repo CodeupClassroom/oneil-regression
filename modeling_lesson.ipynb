{
 "cells": [
  {
   "cell_type": "markdown",
   "id": "3a1eed39-c8e9-4f0a-8606-253db6137204",
   "metadata": {
    "tags": []
   },
   "source": [
    "<a href=\"https://www.canva.com/design/DAFfKJ-tBmY/MaBo1RIoh_CA5DcvWNox2Q/view?utm_content=DAFfKJ-tBmY&utm_campaign=designshare&utm_medium=link&utm_source=publishsharelink\">Regression Modeling Slides</a>\n",
    "### Prepare Data for Modeling\n",
    "\n",
    "## **Wrangle**\n",
    "\n",
    "1. Acquired data from student-mat.csv. \n",
    "\n",
    "2. Create dummy vars\n",
    "\n",
    "3. Split data \n",
    "\n",
    "4. Scale data\n",
    "\n",
    "wrangle.wrangle_student_math(path) returns the following: \n",
    "\n",
    "| Object Returned | Description | Purpose                          |\n",
    "|:-------------------|:--------------------------------|:----------------------------------------------------|\n",
    "| 1. df | **Dataframe**, **Feature** and **target** variables, **Unscaled**, Dummy vars **with** original categorical vars | New features, additional cleaning needed, etc. |\n",
    "| 2. X_train_exp | **Dataframe**, **Feature** variables only, **Unscaled**, Dummy vars **with** original categorical vars | Exploration & analysis     |\n",
    "| 3. X_train | **Dataframe**, **Feature** variables only, **Scaled**, Dummy vars **without** original categorical vars | Feature selection, fit models, make predictions |\n",
    "| 4. y_train | **Series**, **Target** variable only, **Unscaled** | Feature selection, evaluate model predictions |\n",
    "| 5. X_validate | **Dataframe**, **Features** variables only, **Scaled**, Dummy vars **without** original categorical vars | Make predictions using top models |\n",
    "| 6. y_validate | **Series**, **Target** variable only, **Unscaled** | Evaluate model predictions made from X_validate to assess overfitting | \n",
    "| 7. X_test | **Dataframe**, **Features** variables only, **Scaled**, Dummy vars **without** original categorical vars | Make predictions using best model|\n",
    "| 8. y_test | **Series**, **Target** variable only, **Unscaled** | Evaluate model predictions made from X_test to estimate future performance on new data |"
   ]
  },
  {
   "cell_type": "code",
   "execution_count": null,
   "id": "64e37ec2-efbe-42f3-8945-5db8b116880f",
   "metadata": {},
   "outputs": [],
   "source": [
    "import pandas as pd\n",
    "import numpy as np\n",
    "import wrangle\n",
    "import matplotlib.pyplot as plt\n",
    "\n",
    "# modeling methods\n",
    "from sklearn.metrics import mean_squared_error\n",
    "from sklearn.linear_model import LinearRegression, LassoLars, TweedieRegressor\n",
    "from sklearn.preprocessing import PolynomialFeatures\n",
    "from sklearn.metrics import explained_variance_score\n",
    "\n",
    "import warnings\n",
    "warnings.filterwarnings(\"ignore\")"
   ]
  },
  {
   "cell_type": "code",
   "execution_count": null,
   "id": "653ace24-7741-40df-8b26-13bbd7d6c8ba",
   "metadata": {},
   "outputs": [],
   "source": [
    "path='https://gist.githubusercontent.com/ryanorsinger/55ccfd2f7820af169baea5aad3a9c60d/raw/da6c5a33307ed7ee207bd119d3361062a1d1c07e/student-mat.csv'"
   ]
  },
  {
   "cell_type": "code",
   "execution_count": null,
   "id": "43a538dc-f0d2-4e74-a66c-43502b505075",
   "metadata": {},
   "outputs": [],
   "source": [
    "df, \\\n",
    "X_train_exp, \\\n",
    "X_train, \\\n",
    "y_train, \\\n",
    "X_validate, \\\n",
    "y_validate, \\\n",
    "X_test, \\\n",
    "y_test = wrangle.wrangle_student_math(path)"
   ]
  },
  {
   "cell_type": "code",
   "execution_count": null,
   "id": "456a1c1f-5676-467f-99c2-60f42ea43b92",
   "metadata": {},
   "outputs": [],
   "source": [
    "# Check how many observations and features we have in each dataframe\n",
    "\n"
   ]
  },
  {
   "cell_type": "code",
   "execution_count": null,
   "id": "25dd819d-c867-49ad-8c6e-3815c028ef3d",
   "metadata": {},
   "outputs": [],
   "source": [
    "# check the X_train head:\n"
   ]
  },
  {
   "cell_type": "code",
   "execution_count": null,
   "id": "ca7488ea-40e0-4e18-9a43-4b0061d2ed40",
   "metadata": {},
   "outputs": [],
   "source": [
    "# and y_train head:\n"
   ]
  },
  {
   "cell_type": "markdown",
   "id": "23ef126f-7f87-4342-808c-7402984372a8",
   "metadata": {},
   "source": [
    "### Target Variable/y\n",
    "\n",
    "This helps us determine which type of algorithm we may want to use. "
   ]
  },
  {
   "cell_type": "code",
   "execution_count": null,
   "id": "04d23c4f-3e1e-4f0f-a719-0eb88624f58c",
   "metadata": {},
   "outputs": [],
   "source": [
    "plt.hist(y_train)\n",
    "plt.title('Distribution of Target(G3)')\n",
    "plt.xlabel(\"Final Grade (G3)\")\n",
    "plt.ylabel(\"Number of Students\")\n",
    "\n",
    "plt.show()"
   ]
  },
  {
   "cell_type": "markdown",
   "id": "431f4a4a-fe3a-4bc6-81e9-06e540ad9564",
   "metadata": {},
   "source": []
  },
  {
   "cell_type": "markdown",
   "id": "868eba98-e196-4eca-91fa-31936efe0b29",
   "metadata": {},
   "source": [
    "## Modeling\n",
    "\n",
    "### Baseline\n",
    "\n",
    "About the initial baseline: \n",
    "\n",
    "> Before we begin making models, we need to know how well we can estimate (predict) the final grade (G3) without using any features. This is often done by predicting every observation's target value to be the mean or the median. E.g. we could predict every student's final grade to be the mean final grade of all the students in our training sample. We will try both the mean and the median, see which performs best, and set that evaluation metric value as our baseline performance to beat. \n",
    "\n",
    "\n",
    "1. Predict all final grades to be 10.52, which is equal to the mean of G3 for the training sample. Store in `y_train['G3_pred_mean']`. \n",
    "\n",
    "2. Predict all final grades to be 11, which is equal to the median of G3 for the training sample. Store in `y_train['G3_pred_median']`.  \n",
    "\n",
    "3. Compute the RMSE comparing actual final grade (G3) to G3_pred_mean. \n",
    "\n",
    "4. Compute the RMSE comparing actual final grade (G3) to G3_pred_median. "
   ]
  },
  {
   "cell_type": "code",
   "execution_count": null,
   "id": "1199ea63-9834-4fab-8da6-1a0d54abc27e",
   "metadata": {},
   "outputs": [],
   "source": [
    "# We need y_train and y_validate to be dataframes to append the new columns with predicted values. \n",
    "y_train = pd.DataFrame(y_train)\n",
    "y_validate = pd.DataFrame(y_validate)"
   ]
  },
  {
   "cell_type": "code",
   "execution_count": null,
   "id": "0abba231-ec04-46c4-b3ad-1334e0606c05",
   "metadata": {},
   "outputs": [],
   "source": [
    "# 1. Predict G3_pred_mean\n",
    "G3_pred_mean = y_train.G3.mean()\n",
    "y_train['G3_pred_mean'] = G3_pred_mean\n",
    "y_validate['G3_pred_mean'] = G3_pred_mean"
   ]
  },
  {
   "cell_type": "code",
   "execution_count": null,
   "id": "167fa4dd-17f8-4123-91d1-41b2d218129d",
   "metadata": {},
   "outputs": [],
   "source": [
    "# 2. compute G3_pred_median\n",
    "G3_pred_median = y_train.G3.median()\n",
    "y_train['G3_pred_median'] = G3_pred_median\n",
    "y_validate['G3_pred_median'] = G3_pred_median"
   ]
  },
  {
   "cell_type": "code",
   "execution_count": null,
   "id": "21a73b65-d5f1-482a-836d-7e6a3d1ffc23",
   "metadata": {},
   "outputs": [],
   "source": [
    "# 3. RMSE of G3_pred_mean\n",
    "rmse_train_mu = mean_squared_error(y_train.G3,\n",
    "                                y_train.G3_pred_mean) ** .5\n",
    "\n",
    "rmse_validate_mu = mean_squared_error(y_validate.G3, y_validate.G3_pred_mean) ** (0.5)\n",
    "\n",
    "print(f\"\"\"RMSE using Mean\\nTrain/In-Sample: {round(rmse_train_mu, 2)} \n",
    "      Validate/Out-of-Sample: {round(rmse_validate_mu, 2)}\"\"\")"
   ]
  },
  {
   "cell_type": "code",
   "execution_count": null,
   "id": "9a8aaa81-ca37-45b5-a907-464d7acbf025",
   "metadata": {},
   "outputs": [],
   "source": [
    "# 4. RMSE of G3_pred_median\n",
    "rmse_train_med = mean_squared_error(y_train.G3, y_train.G3_pred_median) ** .5\n",
    "rmse_validate_med = mean_squared_error(y_validate.G3, y_validate.G3_pred_median) ** (0.5)\n",
    "\n",
    "print(f\"\"\"RMSE using Mean\\nTrain/In-Sample: {round(rmse_train_med, 2)} \n",
    "      Validate/Out-of-Sample: {round(rmse_validate_med, 2)}\"\"\")"
   ]
  },
  {
   "cell_type": "markdown",
   "id": "2a20389a-6cc4-4159-a8e1-b44653dd3390",
   "metadata": {},
   "source": [
    "\n",
    "#### Addendum/Note:\n",
    "we will incrementally build \n",
    "a dataframe for comparison of \n",
    "our metrics for model selection\n",
    "for ease of reflection\n"
   ]
  },
  {
   "cell_type": "code",
   "execution_count": null,
   "id": "7d4bef11-de6a-4f7a-9a76-000336266402",
   "metadata": {},
   "outputs": [],
   "source": [
    "y_train.head()"
   ]
  },
  {
   "cell_type": "code",
   "execution_count": null,
   "id": "e876616c-c473-4e2c-b379-ad10234879ba",
   "metadata": {},
   "outputs": [],
   "source": [
    "# Let's house our metrics in a df to llater compare\n",
    "\n"
   ]
  },
  {
   "cell_type": "code",
   "execution_count": null,
   "id": "31f70759-bbeb-4072-b701-bfeb4a136b04",
   "metadata": {},
   "outputs": [],
   "source": [
    "# plot to visualize actual vs predicted. \n",
    "\n",
    "plt.hist(y_train.G3, color='blue', alpha=.5, label=\"Actual Final Grades\")\n",
    "plt.hist(y_train.G3_pred_mean, bins=1, color='red', alpha=.5,  label=\"Predicted Final Grades - Mean\")\n",
    "plt.hist(y_train.G3_pred_median, bins=1, color='orange', alpha=.5, label=\"Predicted Final Grades - Median\")\n",
    "plt.xlabel(\"Final Grade (G3)\")\n",
    "plt.ylabel(\"Number of Students\")\n",
    "plt.legend()\n",
    "plt.show()"
   ]
  },
  {
   "cell_type": "markdown",
   "id": "b73b5464-887b-491b-96a6-66ad8648b228",
   "metadata": {},
   "source": [
    "___ \n",
    "### LinearRegression (OLS)\n",
    "\n",
    "1. Fit the model using `X_train` (scaled) and the labels from `y_train`. \n",
    "\n",
    "2. Predict final grade `G3` for students in training sample using our model (lm). \n",
    "\n",
    "3. Evaluate using RMSE\n",
    "\n",
    "4. **Repeat** predictions and evaluation for `validation`. \n",
    "\n",
    "5. **Compare** RMSE `train` vs. `validation`. \n",
    "    - Overfitting? "
   ]
  },
  {
   "cell_type": "code",
   "execution_count": null,
   "id": "14c39ae0-e937-45dc-9aa2-3b05ab68c3e0",
   "metadata": {},
   "outputs": [],
   "source": [
    "# MAKE THE THING: create the model object\n",
    "\n",
    "\n",
    "#1. FIT THE THING: fit the model to training data\n",
    "\n",
    "\n",
    "#2. USE THE THING: make a prediction\n",
    "\n",
    "\n",
    "#3. Evaluate: RMSE\n"
   ]
  },
  {
   "cell_type": "code",
   "execution_count": null,
   "id": "e1eb71be-c36d-4391-b4b1-ac766b9df19e",
   "metadata": {},
   "outputs": [],
   "source": [
    "#4. REPEAT STEPS 2-3\n",
    "\n",
    "# predict validate\n",
    "\n",
    "\n",
    "# evaluate: RMSE\n",
    "\n",
    "\n",
    "print(f\"\"\"RMSE for OLS using LinearRegression\n",
    "Training/In-Sample:  {rmse_train} \n",
    "Validation/Out-of-Sample: {rmse_validate}\"\"\")"
   ]
  },
  {
   "cell_type": "code",
   "execution_count": null,
   "id": "682defcb-b388-4d99-b898-6d8f6939c4d6",
   "metadata": {},
   "outputs": [],
   "source": [
    "#Append this to the metric_df\n",
    "\n"
   ]
  },
  {
   "cell_type": "code",
   "execution_count": null,
   "id": "3557c5b3-88aa-4b6b-b954-3d2fc2d9a211",
   "metadata": {},
   "outputs": [],
   "source": []
  },
  {
   "cell_type": "code",
   "execution_count": null,
   "id": "56860191-0c30-4de4-95c5-be4065e129c1",
   "metadata": {},
   "outputs": [],
   "source": []
  },
  {
   "cell_type": "code",
   "execution_count": null,
   "id": "47ebe2dd-d504-476a-9f99-54f954706200",
   "metadata": {},
   "outputs": [],
   "source": []
  },
  {
   "cell_type": "markdown",
   "id": "04e349f4-4864-4edd-87f9-cfe7421ae970",
   "metadata": {
    "tags": []
   },
   "source": [
    "___\n",
    "### LassoLars\n",
    "\n",
    "1. Fit the model using `X_train` (scaled) and the labels from `y_train`. \n",
    "\n",
    "2. Predict final grade `G3` for students in training sample using our model (lars). \n",
    "\n",
    "3. Evaluate using RMSE\n",
    "\n",
    "4. **Repeat** predictions and evaluation for `validation`. \n",
    "\n",
    "5. **Compare** RMSE `train` vs. `validation`. Overfitting? "
   ]
  },
  {
   "cell_type": "code",
   "execution_count": null,
   "id": "1767331e-3505-4a9c-8be8-d56fcad5ea14",
   "metadata": {},
   "outputs": [],
   "source": [
    "# MAKE THE THING: create the model object\n",
    "\n",
    "\n",
    "#1. FIT THE THING: fit the model to training data\n",
    "# We must specify the column in y_train, since we have converted it to a dataframe from a series!\n",
    "\n",
    "\n",
    "#2. USE THE THING: make a prediction\n",
    "\n",
    "\n",
    "#3. Evaluate: RMSE\n",
    "\n",
    "\n",
    "#4. REPEAT STEPS 2-3\n",
    "\n",
    "# predict validate\n",
    "\n",
    "\n",
    "# evaluate: RMSE\n",
    "\n",
    "\n",
    "print(f\"\"\"RMSE for Lasso + Lars\n",
    "_____________________\n",
    "Training/In-Sample: {rmse_train}, \n",
    "Validation/Out-of-Sample:  {rmse_validate}\n",
    "Difference:  {rmse_validate - rmse_train}\"\"\")"
   ]
  },
  {
   "cell_type": "code",
   "execution_count": null,
   "id": "89f501fc-a67f-44e4-b37a-ebbd0ba6e1cf",
   "metadata": {},
   "outputs": [],
   "source": []
  },
  {
   "cell_type": "code",
   "execution_count": null,
   "id": "c497a09f-2b01-4b20-adc8-3fcb502a75d4",
   "metadata": {},
   "outputs": [],
   "source": []
  },
  {
   "cell_type": "code",
   "execution_count": null,
   "id": "34577637-543e-4c97-8295-d5696d56a2b8",
   "metadata": {},
   "outputs": [],
   "source": [
    "#Append\n"
   ]
  },
  {
   "cell_type": "code",
   "execution_count": null,
   "id": "391e334c-4526-472a-a2fc-1c758fd4874c",
   "metadata": {},
   "outputs": [],
   "source": []
  },
  {
   "cell_type": "markdown",
   "id": "7431adf3-804f-4195-8e74-b8ab9e7d9014",
   "metadata": {},
   "source": [
    "<div style=\"border: 1px solid black; border-radius: 3px; background: green; padding: .5em 1em;\">\n",
    "    <p style=\"font-size: 1.3em; font-weight: bold\">Mini Exercise</p>\n",
    "    <ol>\n",
    "        <li>Use a different <code>alpha</code> with the lasso model to try the fit with a different penalty based on the above code.</li>\n",
    "        <li>What do you notice about the difference in rmse between train and validate sets?</li>\n",
    "    </ol>\n",
    "</div>"
   ]
  },
  {
   "cell_type": "code",
   "execution_count": null,
   "id": "47ad890f-8756-473a-8a3c-6575fd17af8a",
   "metadata": {},
   "outputs": [],
   "source": []
  },
  {
   "cell_type": "markdown",
   "id": "7adb1981-e69e-44c4-9c05-fee5773635da",
   "metadata": {
    "tags": []
   },
   "source": [
    "___\n",
    "### TweedieRegressor (GLM:Generalized Linear Model)\n",
    "\n",
    "The most flexible regression algorithm, the GLM allows for different distributions, beyond just the Normal Distribution for OLS (and other models based on OLS, like LASSO). We will use the `TweedieRegressor` method to create a GLM using sklearn.\n",
    "\n",
    "> `sklearn.linear_model.TweedieRegressor(power=0, alpha=1.0)`\n",
    "\n",
    "        power = 0: Normal Distribution\n",
    "        power = 1: Poisson Distribution\n",
    "        power = (1,2): Compound Distribution\n",
    "        power = 2: Gamma Distribution\n",
    "        power = 3: Inverse Gaussian Distribution\n",
    "\n",
    "1. Fit the model using `X_train` (scaled) and the labels from `y_train`. \n",
    "\n",
    "2. Predict final grade `G3` for students in training sample using our model (GLM). \n",
    "\n",
    "3. Evaluate using RMSE\n",
    "\n",
    "4. **Repeat** predictions and evaluation for `validation`. \n",
    "\n",
    "5. **Compare** RMSE `train` vs. `validation`. Overfitting? \n",
    "\n",
    "\n",
    "\n"
   ]
  },
  {
   "cell_type": "code",
   "execution_count": null,
   "id": "8a670dc4-c9d9-4132-86ea-22d4010f1b06",
   "metadata": {},
   "outputs": [],
   "source": [
    "# MAKE THE THING: create the model object\n",
    "\n",
    "\n",
    "#1. FIT THE THING: fit the model to training data\n",
    "# We must specify the column in y_train, since we have converted it to a dataframe from a series!\n",
    "\n",
    "\n",
    "#2. USE THE THING: make a prediction\n",
    "\n",
    "\n",
    "#3. Evaluate: RMSE\n",
    "\n",
    "\n",
    "#4. REPEAT STEPS 2-3\n",
    "\n",
    "# predict validate\n",
    "\n",
    "\n",
    "# evaluate: RMSE\n",
    "\n",
    "\n",
    "print(f\"\"\"RMSE for GLM using Tweedie, power=0 & alpha=0\n",
    "_____________________\n",
    "Training/In-Sample: {rmse_train}, \n",
    "Validation/Out-of-Sample:  {rmse_validate}\n",
    "Difference:  {rmse_validate - rmse_train}\"\"\")"
   ]
  },
  {
   "cell_type": "markdown",
   "id": "bf5b08d6-92c4-4f6c-b9a5-cf46a6e051da",
   "metadata": {},
   "source": [
    "<div style=\"border: 1px solid black; border-radius: 3px; background: green; padding: .5em 1em;\">\n",
    "    <p style=\"font-size: 1.3em; font-weight: bold\">Mini Exercise</p>\n",
    "    <ol>\n",
    "        <li><code>Use a different power</code> with the generalized linear model to try the fit of a different distribution based on the above code.</li>\n",
    "        <li>Does it seem to perform better or worse than the first pick? Could you see why it may change? What does \"power\" mean here?</li>\n",
    "    </ol>\n",
    "</div>"
   ]
  },
  {
   "cell_type": "code",
   "execution_count": null,
   "id": "45360026-8d3f-45ce-8282-470418e67b58",
   "metadata": {},
   "outputs": [],
   "source": [
    "#Append\n"
   ]
  },
  {
   "cell_type": "code",
   "execution_count": null,
   "id": "b2ed0902-8980-4789-952b-5aadef840447",
   "metadata": {},
   "outputs": [],
   "source": []
  },
  {
   "cell_type": "markdown",
   "id": "ecc178fb-11a6-470f-baef-8ea75b4c160a",
   "metadata": {},
   "source": [
    "___\n",
    "### Polynomial Regression\n",
    "\n",
    "Using sklearn.preprocessing.PolynommialFeatures() + sklearn.linear_model.LinearRegression()\n",
    "\n",
    "1. **Create** the new features, based on value indicated for **degree** for *train*, *validate* & *test*. \n",
    "- MAKE the thing\n",
    "- FIT the thing\n",
    "- USE (transform) the thing\n",
    "\n",
    "2. Fit the Linear Regression model\n",
    "\n",
    "3. Predict using the transformed (squared or cubed, e.g.) features \n",
    "\n",
    "4. Evaluate using RMSE\n",
    "\n",
    "5. **Repeat** predictions and evaluation for `validation`.\n",
    "\n",
    "6. **Compare** RMSE `train` vs. `validation`. Overfitting?"
   ]
  },
  {
   "cell_type": "markdown",
   "id": "fea33f96-c330-472a-8a7d-14ede4884400",
   "metadata": {},
   "source": [
    "#### **Polynomial Features**\n",
    "What does a polynomial look like when graphed on a coordinate plane? Well it depends on\n",
    "- The intercept\n",
    "- The coefficients\n",
    "\n",
    "Interact with the following <a href=\"https://www.desmos.com/calculator/m44gdvrrhb\"> graphing calculator</a>\n"
   ]
  },
  {
   "cell_type": "code",
   "execution_count": null,
   "id": "7872f66e-4bab-4f0e-8939-095761c061cc",
   "metadata": {},
   "outputs": [],
   "source": [
    "#1. Create the polynomial features to get a new set of features\n",
    "\n",
    "\n",
    "#1. Fit and transform X_train_scaled\n",
    "\n",
    "\n",
    "#1. Transform X_validate_scaled & X_test_scaled \n",
    "\n",
    "\n"
   ]
  },
  {
   "cell_type": "markdown",
   "id": "d435c963-ef44-4ddb-ab2a-04b6b9f1dc49",
   "metadata": {},
   "source": [
    "#### **LinearRegression**"
   ]
  },
  {
   "cell_type": "code",
   "execution_count": null,
   "id": "3e40aabd-45a5-4925-91b6-641bffb96019",
   "metadata": {},
   "outputs": [],
   "source": [
    "#2.1 MAKE THE THING: create the model object\n",
    "\n",
    "\n",
    "#2.2 FIT THE THING: fit the model to our training data. We must specify the column in y_train, \n",
    "# since we have converted it to a dataframe from a series! \n",
    "\n",
    "\n",
    "#3. USE THE THING: predict train\n",
    "\n",
    "\n",
    "#4. Evaluate: rmse\n",
    "\n",
    "\n",
    "#4. REPEAT STEPS 3-4\n",
    "\n",
    "# predict validate\n",
    "\n",
    "\n",
    "# evaluate: rmse\n",
    "\n",
    "\n",
    "print(f\"\"\"RMSE for Polynomial Model, degrees=2\n",
    "_____________________________________________\n",
    "Training/In-Sample:  {rmse_train} \n",
    "Validation/Out-of-Sample:  {rmse_validate}\"\"\")"
   ]
  },
  {
   "cell_type": "code",
   "execution_count": null,
   "id": "97436ab9-85b4-43b4-889f-fbf102426397",
   "metadata": {},
   "outputs": [],
   "source": [
    "#Append\n"
   ]
  },
  {
   "cell_type": "code",
   "execution_count": null,
   "id": "825cba1f-d34d-4ccf-8bc8-2c9291a8ea1e",
   "metadata": {},
   "outputs": [],
   "source": []
  },
  {
   "cell_type": "markdown",
   "id": "9f233d7f-ddb4-47c4-be45-1f1280e5a439",
   "metadata": {},
   "source": [
    "___\n",
    "## Evaluate\n",
    "\n",
    "##### **Plotting Actual vs. Predicted Values**"
   ]
  },
  {
   "cell_type": "code",
   "execution_count": null,
   "id": "bb6eb9b7-4c01-4a20-8763-d57869cfb085",
   "metadata": {},
   "outputs": [],
   "source": [
    "plt.figure(figsize=(16,8))\n",
    "#actual vs mean\n",
    "plt.plot(y_validate.G3, y_validate.G3_pred_mean, alpha=.5, color=\"gray\", label='_nolegend_')\n",
    "plt.annotate(\"Baseline: Predict Using Mean\", (16, 9.5))\n",
    "\n",
    "#actual vs. actual\n",
    "plt.plot(y_validate.G3, y_validate.G3, alpha=.5, color=\"blue\", label='_nolegend_')\n",
    "plt.annotate(\"The Ideal Line: Predicted = Actual\", (.5, 3.5), rotation=15.5)\n",
    "\n",
    "#actual vs. LinearReg model\n",
    "plt.scatter(y_validate.G3, y_validate.G3_pred_lm, \n",
    "            alpha=.5, color=\"red\", s=100, label=\"Model: LinearRegression\")\n",
    "#actual vs. LassoLars model\n",
    "plt.scatter(y_validate.G3, y_validate.G3_pred_lars, \n",
    "            alpha=.5, color=\"purple\", s=100, label=\"Model: Lasso Lars\")\n",
    "#actual vs. Tweedie/GenLinModel\n",
    "plt.scatter(y_validate.G3, y_validate.G3_pred_glm, \n",
    "            alpha=.5, color=\"yellow\", s=100, label=\"Model: TweedieRegressor\")\n",
    "#actual vs. PolynomReg/Quadratic\n",
    "plt.scatter(y_validate.G3, y_validate.G3_pred_lm2, \n",
    "            alpha=.5, color=\"green\", s=100, label=\"Model 2nd degree Polynomial\")\n",
    "plt.legend()\n",
    "plt.xlabel(\"Actual Final Grade\")\n",
    "plt.ylabel(\"Predicted Final Grade\")\n",
    "plt.title(\"Where are predictions more extreme? More modest?\")\n",
    "plt.show()"
   ]
  },
  {
   "cell_type": "markdown",
   "id": "94802d8f-ff4c-4da8-bc90-a284ab8c03da",
   "metadata": {},
   "source": [
    "##### **Residual Plots: Plotting the Errors in Predictions**"
   ]
  },
  {
   "cell_type": "code",
   "execution_count": null,
   "id": "04faa30c-47fc-4b23-bfdd-aa98fd2bcc55",
   "metadata": {},
   "outputs": [],
   "source": [
    "# y_validate.head()\n",
    "plt.figure(figsize=(16,8))\n",
    "\n",
    "plt.axhline(label=\"No Error\")\n",
    "\n",
    "\n",
    "plt.scatter(y_validate.G3, y_validate.G3_pred_lm - y_validate.G3 , \n",
    "            alpha=.5, color=\"red\", s=100, label=\"Model: LinearRegression\")\n",
    "plt.scatter(y_validate.G3, y_validate.G3_pred_lars - y_validate.G3 , \n",
    "            alpha=.5, color=\"purple\", s=100, label=\"Model: LinearRegression\")\n",
    "plt.scatter(y_validate.G3, y_validate.G3_pred_glm - y_validate.G3, \n",
    "            alpha=.5, color=\"yellow\", s=100, label=\"Model: TweedieRegressor\")\n",
    "plt.scatter(y_validate.G3, y_validate.G3_pred_lm2 - y_validate.G3, \n",
    "            alpha=.5, color=\"green\", s=100, label=\"Model 2nd degree Polynomial\")\n",
    "\n",
    "plt.legend(loc=4)\n",
    "plt.xlabel(\"Actual Final Grade\")\n",
    "plt.ylabel(\"Residual/Error: Predicted Grade - Actual Grade\")\n",
    "plt.title(\"Do the size of errors change as the actual value changes?\")\n",
    "plt.annotate(\"The polynomial model appears to overreact to noise\", (2.0, -10))\n",
    "plt.annotate(\"The OLS model (LinearRegression)\\n appears to be most consistent\", (15.5, 3))\n",
    "plt.show()"
   ]
  },
  {
   "cell_type": "markdown",
   "id": "98dcaaa6-ab74-4df0-903e-bfee7177a166",
   "metadata": {},
   "source": [
    "##### **Histograms**"
   ]
  },
  {
   "cell_type": "code",
   "execution_count": null,
   "id": "c52666fc-be1e-4e3c-9a0d-c4b5149cfcce",
   "metadata": {},
   "outputs": [],
   "source": [
    "# plot to visualize actual vs predicted. \n",
    "plt.figure(figsize=(16,8))\n",
    "\n",
    "plt.hist(y_validate.G3, color='blue', alpha=.5, label=\"Actual Final Grades\")\n",
    "plt.hist(y_validate.G3_pred_lm, color='red', alpha=.5, label=\"Model: LinearRegression\")\n",
    "plt.hist(y_validate.G3_pred_lm, color='purple', alpha=.5, label=\"Model: Lasso Lars\")\n",
    "plt.hist(y_validate.G3_pred_glm, color='yellow', alpha=.5, label=\"Model: TweedieRegressor\")\n",
    "plt.hist(y_validate.G3_pred_lm2, color='green', alpha=.5, label=\"Model 2nd degree Polynomial\")\n",
    "\n",
    "plt.xlabel(\"Final Grade (G3)\")\n",
    "plt.ylabel(\"Number of Students\")\n",
    "plt.title(\"Comparing the Distribution of Actual Grades to Distributions of Predicted Grades for the Top Models\")\n",
    "plt.legend()\n",
    "plt.show()"
   ]
  },
  {
   "cell_type": "code",
   "execution_count": null,
   "id": "3a9a92cc-91ff-4564-adf4-5243d477ad05",
   "metadata": {},
   "outputs": [],
   "source": []
  },
  {
   "cell_type": "markdown",
   "id": "392a188a-4464-4c0a-a284-c7090ce910be",
   "metadata": {},
   "source": [
    "## **Model Selection & Out-of-Sample Evaluation**\n",
    "\n",
    "Model selected: lars (using Lasso lars with alpha = 0.01)"
   ]
  },
  {
   "cell_type": "code",
   "execution_count": null,
   "id": "21b270aa-6bb7-415e-a333-9ff38cf81ba2",
   "metadata": {},
   "outputs": [],
   "source": [
    "# Convert y_test Series to a df\n",
    "\n",
    "\n",
    "# USE THE THING: predict on test\n",
    "\n",
    "\n",
    "# Evaluate: rmse\n",
    "\n",
    "\n",
    "print(f\"\"\"RMSE for OLS Model using LinearRegression\n",
    "_____________________________________________      \n",
    "Out-of-Sample Performance: {rmse_test}\n",
    "Baseline: {y_train.G3.mean()}\"\"\")"
   ]
  }
 ],
 "metadata": {
  "kernelspec": {
   "display_name": "Python 3 (ipykernel)",
   "language": "python",
   "name": "python3"
  },
  "language_info": {
   "codemirror_mode": {
    "name": "ipython",
    "version": 3
   },
   "file_extension": ".py",
   "mimetype": "text/x-python",
   "name": "python",
   "nbconvert_exporter": "python",
   "pygments_lexer": "ipython3",
   "version": "3.9.13"
  }
 },
 "nbformat": 4,
 "nbformat_minor": 5
}
