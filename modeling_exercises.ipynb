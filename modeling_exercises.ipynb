{
 "cells": [
  {
   "cell_type": "code",
   "execution_count": 1,
   "id": "9b92457c-66b2-410d-b038-997246166d53",
   "metadata": {},
   "outputs": [],
   "source": [
    "# lets grab some imports to do our work:\n",
    "import numpy as np\n",
    "import pandas as pd\n",
    "# data source\n",
    "from pydataset import data\n",
    "# visualizations:\n",
    "import matplotlib.pyplot as plt\n",
    "import seaborn as sns\n",
    "# modeling:\n",
    "# data splitting:\n",
    "from sklearn.model_selection import train_test_split\n",
    "from sklearn.feature_selection import SelectKBest, f_regression\n",
    "from sklearn.linear_model import LinearRegression, TweedieRegressor, LassoLars\n",
    "from sklearn.metrics import mean_squared_error, explained_variance_score\n",
    "from sklearn.preprocessing import PolynomialFeatures\n"
   ]
  },
  {
   "cell_type": "code",
   "execution_count": 2,
   "id": "31713c2c-4712-487c-af00-a46621ec5d90",
   "metadata": {},
   "outputs": [],
   "source": [
    "import warnings\n",
    "warnings.filterwarnings('ignore')"
   ]
  },
  {
   "cell_type": "code",
   "execution_count": 3,
   "id": "f643d394-aa52-419a-9c98-ba445246613f",
   "metadata": {},
   "outputs": [],
   "source": [
    "# statistical testing:\n",
    "from scipy import stats"
   ]
  },
  {
   "cell_type": "markdown",
   "id": "60ccbc2f-4b4a-4adf-9103-81f95a3371fb",
   "metadata": {},
   "source": [
    "### Acquire Data:"
   ]
  },
  {
   "cell_type": "code",
   "execution_count": 4,
   "id": "ddbf942f-647b-4eca-881b-953c56f071f6",
   "metadata": {},
   "outputs": [],
   "source": [
    "# get our data from the swiss dataset in pydataset\n",
    "df = data('swiss')"
   ]
  },
  {
   "cell_type": "code",
   "execution_count": 5,
   "id": "b4b4e2e0-7ae8-4dc5-8474-98f58858cd88",
   "metadata": {},
   "outputs": [
    {
     "data": {
      "text/html": [
       "<div>\n",
       "<style scoped>\n",
       "    .dataframe tbody tr th:only-of-type {\n",
       "        vertical-align: middle;\n",
       "    }\n",
       "\n",
       "    .dataframe tbody tr th {\n",
       "        vertical-align: top;\n",
       "    }\n",
       "\n",
       "    .dataframe thead th {\n",
       "        text-align: right;\n",
       "    }\n",
       "</style>\n",
       "<table border=\"1\" class=\"dataframe\">\n",
       "  <thead>\n",
       "    <tr style=\"text-align: right;\">\n",
       "      <th></th>\n",
       "      <th>Fertility</th>\n",
       "      <th>Agriculture</th>\n",
       "      <th>Examination</th>\n",
       "      <th>Education</th>\n",
       "      <th>Catholic</th>\n",
       "      <th>Infant.Mortality</th>\n",
       "    </tr>\n",
       "  </thead>\n",
       "  <tbody>\n",
       "    <tr>\n",
       "      <th>Courtelary</th>\n",
       "      <td>80.2</td>\n",
       "      <td>17.0</td>\n",
       "      <td>15</td>\n",
       "      <td>12</td>\n",
       "      <td>9.96</td>\n",
       "      <td>22.2</td>\n",
       "    </tr>\n",
       "    <tr>\n",
       "      <th>Delemont</th>\n",
       "      <td>83.1</td>\n",
       "      <td>45.1</td>\n",
       "      <td>6</td>\n",
       "      <td>9</td>\n",
       "      <td>84.84</td>\n",
       "      <td>22.2</td>\n",
       "    </tr>\n",
       "    <tr>\n",
       "      <th>Franches-Mnt</th>\n",
       "      <td>92.5</td>\n",
       "      <td>39.7</td>\n",
       "      <td>5</td>\n",
       "      <td>5</td>\n",
       "      <td>93.40</td>\n",
       "      <td>20.2</td>\n",
       "    </tr>\n",
       "    <tr>\n",
       "      <th>Moutier</th>\n",
       "      <td>85.8</td>\n",
       "      <td>36.5</td>\n",
       "      <td>12</td>\n",
       "      <td>7</td>\n",
       "      <td>33.77</td>\n",
       "      <td>20.3</td>\n",
       "    </tr>\n",
       "    <tr>\n",
       "      <th>Neuveville</th>\n",
       "      <td>76.9</td>\n",
       "      <td>43.5</td>\n",
       "      <td>17</td>\n",
       "      <td>15</td>\n",
       "      <td>5.16</td>\n",
       "      <td>20.6</td>\n",
       "    </tr>\n",
       "  </tbody>\n",
       "</table>\n",
       "</div>"
      ],
      "text/plain": [
       "              Fertility  Agriculture  Examination  Education  Catholic  \\\n",
       "Courtelary         80.2         17.0           15         12      9.96   \n",
       "Delemont           83.1         45.1            6          9     84.84   \n",
       "Franches-Mnt       92.5         39.7            5          5     93.40   \n",
       "Moutier            85.8         36.5           12          7     33.77   \n",
       "Neuveville         76.9         43.5           17         15      5.16   \n",
       "\n",
       "              Infant.Mortality  \n",
       "Courtelary                22.2  \n",
       "Delemont                  22.2  \n",
       "Franches-Mnt              20.2  \n",
       "Moutier                   20.3  \n",
       "Neuveville                20.6  "
      ]
     },
     "execution_count": 5,
     "metadata": {},
     "output_type": "execute_result"
    }
   ],
   "source": [
    "df.head()"
   ]
  },
  {
   "cell_type": "code",
   "execution_count": 6,
   "id": "158cf891-27eb-4caa-a793-00a43c108a28",
   "metadata": {},
   "outputs": [
    {
     "name": "stdout",
     "output_type": "stream",
     "text": [
      "<class 'pandas.core.frame.DataFrame'>\n",
      "Index: 47 entries, Courtelary to Rive Gauche\n",
      "Data columns (total 6 columns):\n",
      " #   Column            Non-Null Count  Dtype  \n",
      "---  ------            --------------  -----  \n",
      " 0   Fertility         47 non-null     float64\n",
      " 1   Agriculture       47 non-null     float64\n",
      " 2   Examination       47 non-null     int64  \n",
      " 3   Education         47 non-null     int64  \n",
      " 4   Catholic          47 non-null     float64\n",
      " 5   Infant.Mortality  47 non-null     float64\n",
      "dtypes: float64(4), int64(2)\n",
      "memory usage: 2.6+ KB\n"
     ]
    }
   ],
   "source": [
    "df.info()"
   ]
  },
  {
   "cell_type": "code",
   "execution_count": 7,
   "id": "41cdd0bf-545f-466f-8a59-cdb32594d06b",
   "metadata": {},
   "outputs": [
    {
     "data": {
      "text/html": [
       "<div>\n",
       "<style scoped>\n",
       "    .dataframe tbody tr th:only-of-type {\n",
       "        vertical-align: middle;\n",
       "    }\n",
       "\n",
       "    .dataframe tbody tr th {\n",
       "        vertical-align: top;\n",
       "    }\n",
       "\n",
       "    .dataframe thead th {\n",
       "        text-align: right;\n",
       "    }\n",
       "</style>\n",
       "<table border=\"1\" class=\"dataframe\">\n",
       "  <thead>\n",
       "    <tr style=\"text-align: right;\">\n",
       "      <th></th>\n",
       "      <th>Fertility</th>\n",
       "      <th>Agriculture</th>\n",
       "      <th>Examination</th>\n",
       "      <th>Education</th>\n",
       "      <th>Catholic</th>\n",
       "      <th>Infant.Mortality</th>\n",
       "    </tr>\n",
       "  </thead>\n",
       "  <tbody>\n",
       "    <tr>\n",
       "      <th>count</th>\n",
       "      <td>47.000000</td>\n",
       "      <td>47.000000</td>\n",
       "      <td>47.000000</td>\n",
       "      <td>47.000000</td>\n",
       "      <td>47.00000</td>\n",
       "      <td>47.000000</td>\n",
       "    </tr>\n",
       "    <tr>\n",
       "      <th>mean</th>\n",
       "      <td>70.142553</td>\n",
       "      <td>50.659574</td>\n",
       "      <td>16.489362</td>\n",
       "      <td>10.978723</td>\n",
       "      <td>41.14383</td>\n",
       "      <td>19.942553</td>\n",
       "    </tr>\n",
       "    <tr>\n",
       "      <th>std</th>\n",
       "      <td>12.491697</td>\n",
       "      <td>22.711218</td>\n",
       "      <td>7.977883</td>\n",
       "      <td>9.615407</td>\n",
       "      <td>41.70485</td>\n",
       "      <td>2.912697</td>\n",
       "    </tr>\n",
       "    <tr>\n",
       "      <th>min</th>\n",
       "      <td>35.000000</td>\n",
       "      <td>1.200000</td>\n",
       "      <td>3.000000</td>\n",
       "      <td>1.000000</td>\n",
       "      <td>2.15000</td>\n",
       "      <td>10.800000</td>\n",
       "    </tr>\n",
       "    <tr>\n",
       "      <th>25%</th>\n",
       "      <td>64.700000</td>\n",
       "      <td>35.900000</td>\n",
       "      <td>12.000000</td>\n",
       "      <td>6.000000</td>\n",
       "      <td>5.19500</td>\n",
       "      <td>18.150000</td>\n",
       "    </tr>\n",
       "    <tr>\n",
       "      <th>50%</th>\n",
       "      <td>70.400000</td>\n",
       "      <td>54.100000</td>\n",
       "      <td>16.000000</td>\n",
       "      <td>8.000000</td>\n",
       "      <td>15.14000</td>\n",
       "      <td>20.000000</td>\n",
       "    </tr>\n",
       "    <tr>\n",
       "      <th>75%</th>\n",
       "      <td>78.450000</td>\n",
       "      <td>67.650000</td>\n",
       "      <td>22.000000</td>\n",
       "      <td>12.000000</td>\n",
       "      <td>93.12500</td>\n",
       "      <td>21.700000</td>\n",
       "    </tr>\n",
       "    <tr>\n",
       "      <th>max</th>\n",
       "      <td>92.500000</td>\n",
       "      <td>89.700000</td>\n",
       "      <td>37.000000</td>\n",
       "      <td>53.000000</td>\n",
       "      <td>100.00000</td>\n",
       "      <td>26.600000</td>\n",
       "    </tr>\n",
       "  </tbody>\n",
       "</table>\n",
       "</div>"
      ],
      "text/plain": [
       "       Fertility  Agriculture  Examination  Education   Catholic  \\\n",
       "count  47.000000    47.000000    47.000000  47.000000   47.00000   \n",
       "mean   70.142553    50.659574    16.489362  10.978723   41.14383   \n",
       "std    12.491697    22.711218     7.977883   9.615407   41.70485   \n",
       "min    35.000000     1.200000     3.000000   1.000000    2.15000   \n",
       "25%    64.700000    35.900000    12.000000   6.000000    5.19500   \n",
       "50%    70.400000    54.100000    16.000000   8.000000   15.14000   \n",
       "75%    78.450000    67.650000    22.000000  12.000000   93.12500   \n",
       "max    92.500000    89.700000    37.000000  53.000000  100.00000   \n",
       "\n",
       "       Infant.Mortality  \n",
       "count         47.000000  \n",
       "mean          19.942553  \n",
       "std            2.912697  \n",
       "min           10.800000  \n",
       "25%           18.150000  \n",
       "50%           20.000000  \n",
       "75%           21.700000  \n",
       "max           26.600000  "
      ]
     },
     "execution_count": 7,
     "metadata": {},
     "output_type": "execute_result"
    }
   ],
   "source": [
    "df.describe()"
   ]
  },
  {
   "cell_type": "markdown",
   "id": "49d67108-738a-44c6-8f10-e19e066584ed",
   "metadata": {},
   "source": [
    "#### Preparation:\n",
    " - No nulls in this data set, and everything is numerical.\n",
    " - We will split the data at this point."
   ]
  },
  {
   "cell_type": "code",
   "execution_count": 8,
   "id": "3f47b4ce-4855-452e-877a-e13f60286544",
   "metadata": {},
   "outputs": [],
   "source": [
    "train_val, test = train_test_split(df, train_size=0.7, random_state=1349)\n",
    "train, validate = train_test_split(train_val, train_size=0.8, random_state=1349)"
   ]
  },
  {
   "cell_type": "code",
   "execution_count": 9,
   "id": "7c0992a4-8af6-432b-9a87-07051bb0c2a9",
   "metadata": {},
   "outputs": [
    {
     "data": {
      "text/plain": [
       "(25, 6)"
      ]
     },
     "execution_count": 9,
     "metadata": {},
     "output_type": "execute_result"
    }
   ],
   "source": [
    "train.shape"
   ]
  },
  {
   "cell_type": "code",
   "execution_count": 10,
   "id": "3fd55375-58e3-463d-b0d1-bed27cd90929",
   "metadata": {},
   "outputs": [],
   "source": [
    "from sklearn.preprocessing import MinMaxScaler"
   ]
  },
  {
   "cell_type": "markdown",
   "id": "2befd7c5-7700-4856-ae2d-6ad3175d8304",
   "metadata": {},
   "source": [
    "#### target: infant mortality: what can we identify in regard to drivers of death in infants with this data set?"
   ]
  },
  {
   "cell_type": "code",
   "execution_count": 11,
   "id": "3ea28905-5901-4111-9f19-45d9476bd342",
   "metadata": {},
   "outputs": [],
   "source": [
    "X_train, y_train = train.drop(columns='Infant.Mortality'), \\\n",
    "train[['Infant.Mortality']]\n",
    "X_val, y_val = validate.drop(columns='Infant.Mortality'), \\\n",
    "validate[['Infant.Mortality']]\n",
    "X_test, y_test = test.drop(columns='Infant.Mortality'), \\\n",
    "test[['Infant.Mortality']]"
   ]
  },
  {
   "cell_type": "code",
   "execution_count": 12,
   "id": "810f5f93-d4ac-43f3-a45f-7edbab83a8f1",
   "metadata": {},
   "outputs": [
    {
     "data": {
      "text/html": [
       "<div>\n",
       "<style scoped>\n",
       "    .dataframe tbody tr th:only-of-type {\n",
       "        vertical-align: middle;\n",
       "    }\n",
       "\n",
       "    .dataframe tbody tr th {\n",
       "        vertical-align: top;\n",
       "    }\n",
       "\n",
       "    .dataframe thead th {\n",
       "        text-align: right;\n",
       "    }\n",
       "</style>\n",
       "<table border=\"1\" class=\"dataframe\">\n",
       "  <thead>\n",
       "    <tr style=\"text-align: right;\">\n",
       "      <th></th>\n",
       "      <th>Fertility</th>\n",
       "      <th>Agriculture</th>\n",
       "      <th>Examination</th>\n",
       "      <th>Education</th>\n",
       "      <th>Catholic</th>\n",
       "    </tr>\n",
       "  </thead>\n",
       "  <tbody>\n",
       "    <tr>\n",
       "      <th>Herens</th>\n",
       "      <td>77.3</td>\n",
       "      <td>89.7</td>\n",
       "      <td>5</td>\n",
       "      <td>2</td>\n",
       "      <td>100.00</td>\n",
       "    </tr>\n",
       "    <tr>\n",
       "      <th>Martigwy</th>\n",
       "      <td>70.5</td>\n",
       "      <td>78.2</td>\n",
       "      <td>12</td>\n",
       "      <td>6</td>\n",
       "      <td>98.96</td>\n",
       "    </tr>\n",
       "    <tr>\n",
       "      <th>Avenches</th>\n",
       "      <td>68.9</td>\n",
       "      <td>60.7</td>\n",
       "      <td>19</td>\n",
       "      <td>12</td>\n",
       "      <td>4.43</td>\n",
       "    </tr>\n",
       "    <tr>\n",
       "      <th>St Maurice</th>\n",
       "      <td>65.0</td>\n",
       "      <td>75.9</td>\n",
       "      <td>9</td>\n",
       "      <td>9</td>\n",
       "      <td>99.06</td>\n",
       "    </tr>\n",
       "    <tr>\n",
       "      <th>Rive Gauche</th>\n",
       "      <td>42.8</td>\n",
       "      <td>27.7</td>\n",
       "      <td>22</td>\n",
       "      <td>29</td>\n",
       "      <td>58.33</td>\n",
       "    </tr>\n",
       "  </tbody>\n",
       "</table>\n",
       "</div>"
      ],
      "text/plain": [
       "             Fertility  Agriculture  Examination  Education  Catholic\n",
       "Herens            77.3         89.7            5          2    100.00\n",
       "Martigwy          70.5         78.2           12          6     98.96\n",
       "Avenches          68.9         60.7           19         12      4.43\n",
       "St Maurice        65.0         75.9            9          9     99.06\n",
       "Rive Gauche       42.8         27.7           22         29     58.33"
      ]
     },
     "execution_count": 12,
     "metadata": {},
     "output_type": "execute_result"
    }
   ],
   "source": [
    "X_train.head()"
   ]
  },
  {
   "cell_type": "code",
   "execution_count": 13,
   "id": "e52308f8-17b3-4a8d-b949-ea0b6d884a29",
   "metadata": {},
   "outputs": [],
   "source": [
    "# scaling the data:\n",
    "scaler = MinMaxScaler()\n",
    "X_train_scaled = scaler.fit_transform(X_train)"
   ]
  },
  {
   "cell_type": "code",
   "execution_count": 14,
   "id": "3fcf63f7-b12c-4cbc-ae63-2fa73a5ab8d4",
   "metadata": {},
   "outputs": [],
   "source": [
    "X_train_scaled = pd.DataFrame(X_train_scaled, columns=X_train.columns, index=X_train.index)"
   ]
  },
  {
   "cell_type": "code",
   "execution_count": 15,
   "id": "1749783c-3e79-47d8-a35c-3bd6cf6b76b6",
   "metadata": {},
   "outputs": [],
   "source": [
    "X_val_scaled = pd.DataFrame(scaler.transform(X_val), index=X_val.index, columns=X_val.columns)\n",
    "X_test_scaled = pd.DataFrame(scaler.transform(X_test), index=X_test.index, columns=X_test.columns)"
   ]
  },
  {
   "cell_type": "code",
   "execution_count": 16,
   "id": "0c592e02-b37a-426e-9114-9f7da66572bc",
   "metadata": {},
   "outputs": [
    {
     "data": {
      "text/plain": [
       "<seaborn.axisgrid.PairGrid at 0x7f9f48186ca0>"
      ]
     },
     "execution_count": 16,
     "metadata": {},
     "output_type": "execute_result"
    },
    {
     "data": {
      "image/png": "[encoded data removed]",
      "text/plain": [
       "<Figure size 1080x1080 with 42 Axes>"
      ]
     },
     "metadata": {
      "needs_background": "light"
     },
     "output_type": "display_data"
    }
   ],
   "source": [
    "sns.pairplot(train)"
   ]
  },
  {
   "cell_type": "code",
   "execution_count": 17,
   "id": "6c787c45-6a21-4a39-8224-d5783eef723a",
   "metadata": {},
   "outputs": [],
   "source": [
    "# H0: There is no correlation between Fertility and Infant Mortality\n",
    "# alpha: 0.05\n",
    "r, p = stats.pearsonr(train['Fertility'], train['Infant.Mortality'])"
   ]
  },
  {
   "cell_type": "code",
   "execution_count": 18,
   "id": "c85d6374-446e-461e-b515-2eb9876bcbab",
   "metadata": {},
   "outputs": [
    {
     "data": {
      "text/plain": [
       "0.3752876361692435"
      ]
     },
     "execution_count": 18,
     "metadata": {},
     "output_type": "execute_result"
    }
   ],
   "source": [
    "r"
   ]
  },
  {
   "cell_type": "code",
   "execution_count": 19,
   "id": "f968b4f2-772b-4702-8f7d-0aa46c659d7e",
   "metadata": {},
   "outputs": [
    {
     "data": {
      "text/plain": [
       "0.06451547852021018"
      ]
     },
     "execution_count": 19,
     "metadata": {},
     "output_type": "execute_result"
    }
   ],
   "source": [
    "p"
   ]
  },
  {
   "cell_type": "code",
   "execution_count": 20,
   "id": "44eac37e-c736-4457-a0b6-24d54d626141",
   "metadata": {},
   "outputs": [],
   "source": [
    "# p is not less than alpha and we therefore cannot reject the null hypothesis"
   ]
  },
  {
   "cell_type": "code",
   "execution_count": 21,
   "id": "9e192210-fb44-40a1-8fd3-43eaa159a247",
   "metadata": {},
   "outputs": [],
   "source": [
    "# H0: There is no correlation between Catholocism and Infant Mortality\n",
    "alpha =  0.05\n",
    "r, p = stats.pearsonr(train['Catholic'], train['Infant.Mortality'])"
   ]
  },
  {
   "cell_type": "code",
   "execution_count": 22,
   "id": "8c6a4cfa-dc68-411a-b784-5c8389dc4eab",
   "metadata": {},
   "outputs": [
    {
     "data": {
      "text/plain": [
       "0.040079437625752674"
      ]
     },
     "execution_count": 22,
     "metadata": {},
     "output_type": "execute_result"
    }
   ],
   "source": [
    "r"
   ]
  },
  {
   "cell_type": "code",
   "execution_count": 23,
   "id": "5af23cba-5427-41fc-9366-7098c2ba39f8",
   "metadata": {},
   "outputs": [
    {
     "data": {
      "text/plain": [
       "0.8491417424891377"
      ]
     },
     "execution_count": 23,
     "metadata": {},
     "output_type": "execute_result"
    }
   ],
   "source": [
    "p"
   ]
  },
  {
   "cell_type": "code",
   "execution_count": 24,
   "id": "b24db750-2fc2-4251-aacf-d32bce30e91f",
   "metadata": {},
   "outputs": [
    {
     "data": {
      "text/plain": [
       "False"
      ]
     },
     "execution_count": 24,
     "metadata": {},
     "output_type": "execute_result"
    }
   ],
   "source": [
    "p < alpha"
   ]
  },
  {
   "cell_type": "code",
   "execution_count": 25,
   "id": "ae6c9351-62fa-484c-a860-4ea2113414f4",
   "metadata": {},
   "outputs": [],
   "source": [
    "# We cannot reject the null hypothesis"
   ]
  },
  {
   "cell_type": "code",
   "execution_count": 26,
   "id": "c51829be-a48d-48b4-9875-bf1646c9927c",
   "metadata": {},
   "outputs": [
    {
     "data": {
      "text/plain": [
       "SelectKBest(k=3, score_func=<function f_regression at 0x7f9f6b92de50>)"
      ]
     },
     "execution_count": 26,
     "metadata": {},
     "output_type": "execute_result"
    }
   ],
   "source": [
    "# let's use some algorithmic feature selection:\n",
    "bestest = SelectKBest(f_regression, k=3)\n",
    "bestest.fit(X_train, y_train)"
   ]
  },
  {
   "cell_type": "code",
   "execution_count": 27,
   "id": "af92be24-c755-4a01-bd46-557b05a6b6a0",
   "metadata": {},
   "outputs": [
    {
     "data": {
      "text/plain": [
       "Index(['Fertility', 'Examination', 'Education'], dtype='object')"
      ]
     },
     "execution_count": 27,
     "metadata": {},
     "output_type": "execute_result"
    }
   ],
   "source": [
    "X_train.columns[bestest.get_support()]"
   ]
  },
  {
   "cell_type": "code",
   "execution_count": 28,
   "id": "5ed31d95-714e-4e7d-b4e0-b4af7fb9944e",
   "metadata": {},
   "outputs": [],
   "source": [
    "k_columns = X_train.columns[bestest.get_support()].to_list()"
   ]
  },
  {
   "cell_type": "code",
   "execution_count": 29,
   "id": "c0439929-070c-4c4d-a452-739779c48e97",
   "metadata": {},
   "outputs": [
    {
     "data": {
      "text/plain": [
       "['Fertility', 'Examination', 'Education']"
      ]
     },
     "execution_count": 29,
     "metadata": {},
     "output_type": "execute_result"
    }
   ],
   "source": [
    "k_columns"
   ]
  },
  {
   "cell_type": "markdown",
   "id": "6d4d11ac-8769-481f-82de-78c6bd3568a8",
   "metadata": {},
   "source": [
    "### Modeling!!"
   ]
  },
  {
   "cell_type": "code",
   "execution_count": 30,
   "id": "db32fbfc-2b75-4109-9596-2613b4e5c442",
   "metadata": {},
   "outputs": [
    {
     "data": {
      "text/plain": [
       "(2.7266800325670775, 2.7435743110038042)"
      ]
     },
     "execution_count": 30,
     "metadata": {},
     "output_type": "execute_result"
    }
   ],
   "source": [
    "y_train['baseline_mean'] = y_train['Infant.Mortality'].mean()\n",
    "y_train['baseline_median'] = y_train['Infant.Mortality'].median()\n",
    "\n",
    "# scores:\n",
    "rmse_mean = mean_squared_error(y_train['Infant.Mortality'],\n",
    "                               y_train['baseline_mean'], squared=False)\n",
    "rmse_med = mean_squared_error(y_train['Infant.Mortality'],\n",
    "                               y_train['baseline_median'], squared=False)\n",
    "\n",
    "rmse_mean, rmse_med\n"
   ]
  },
  {
   "cell_type": "code",
   "execution_count": 31,
   "id": "927d5e62-35bf-493c-9259-515e433b6c59",
   "metadata": {},
   "outputs": [],
   "source": [
    "# rmse_mean wins here (its lower), we will utilize this as our baseline to beat"
   ]
  },
  {
   "cell_type": "code",
   "execution_count": 32,
   "id": "59dc9eaa-5a69-4c07-966e-ff76753fc358",
   "metadata": {},
   "outputs": [],
   "source": [
    "# apply the baseline value to the validation target\n",
    "y_val['baseline_mean'] = y_train['Infant.Mortality'].mean()"
   ]
  },
  {
   "cell_type": "code",
   "execution_count": 33,
   "id": "e9445537-dc6e-4282-b746-bb1001701c40",
   "metadata": {},
   "outputs": [
    {
     "data": {
      "image/png": "[encoded data removed]",
      "text/plain": [
       "<Figure size 432x288 with 1 Axes>"
      ]
     },
     "metadata": {
      "needs_background": "light"
     },
     "output_type": "display_data"
    }
   ],
   "source": [
    "# peek at the distribution of my target varaible\n",
    "y_train['Infant.Mortality'].hist();"
   ]
  },
  {
   "cell_type": "code",
   "execution_count": 34,
   "id": "c582d5c4-9451-463a-b579-0c0e632ede74",
   "metadata": {},
   "outputs": [],
   "source": [
    "# we are ready to get into modeling:\n",
    "# I want to do two things here:\n",
    "# create a metric dataframe for performance comparisons\n",
    "# create a structure to repeat model output"
   ]
  },
  {
   "cell_type": "code",
   "execution_count": 35,
   "id": "8d407996-8a7f-4f70-8460-ca9df618268b",
   "metadata": {},
   "outputs": [],
   "source": [
    "# lets make a metric df that assesses \n",
    "# out of sample model performance\n",
    "metric_df = pd.DataFrame(\n",
    "[\n",
    "    {\n",
    "        'model': 'baseline_mean',\n",
    "        'rmse': mean_squared_error(y_val['Infant.Mortality'], y_val.baseline_mean),\n",
    "        'r^2': explained_variance_score(y_val['Infant.Mortality'], y_val.baseline_mean)\n",
    "    \n",
    "    }\n",
    "])"
   ]
  },
  {
   "cell_type": "code",
   "execution_count": 36,
   "id": "5f70adc4-3d09-4e2e-9281-06c6e157ecec",
   "metadata": {},
   "outputs": [
    {
     "data": {
      "text/html": [
       "<div>\n",
       "<style scoped>\n",
       "    .dataframe tbody tr th:only-of-type {\n",
       "        vertical-align: middle;\n",
       "    }\n",
       "\n",
       "    .dataframe tbody tr th {\n",
       "        vertical-align: top;\n",
       "    }\n",
       "\n",
       "    .dataframe thead th {\n",
       "        text-align: right;\n",
       "    }\n",
       "</style>\n",
       "<table border=\"1\" class=\"dataframe\">\n",
       "  <thead>\n",
       "    <tr style=\"text-align: right;\">\n",
       "      <th></th>\n",
       "      <th>model</th>\n",
       "      <th>rmse</th>\n",
       "      <th>r^2</th>\n",
       "    </tr>\n",
       "  </thead>\n",
       "  <tbody>\n",
       "    <tr>\n",
       "      <th>0</th>\n",
       "      <td>baseline_mean</td>\n",
       "      <td>10.38733</td>\n",
       "      <td>0.0</td>\n",
       "    </tr>\n",
       "  </tbody>\n",
       "</table>\n",
       "</div>"
      ],
      "text/plain": [
       "           model      rmse  r^2\n",
       "0  baseline_mean  10.38733  0.0"
      ]
     },
     "execution_count": 36,
     "metadata": {},
     "output_type": "execute_result"
    }
   ],
   "source": [
    "metric_df"
   ]
  },
  {
   "cell_type": "code",
   "execution_count": 37,
   "id": "eef2b89a-1313-45f1-a3cd-8f9c49161b07",
   "metadata": {},
   "outputs": [],
   "source": [
    "# \n",
    "# *** Note from review:\n",
    "# I failed to specify Infant.Mortality in the y of the model's fit call\n",
    "# which was causing the errors presented before debugging.\n",
    "# ***\n",
    "# \n",
    "# \n",
    "# "
   ]
  },
  {
   "cell_type": "code",
   "execution_count": 38,
   "id": "e91ffa17-9f08-4cf1-82ee-965e494001ad",
   "metadata": {},
   "outputs": [],
   "source": [
    "def model_metrics(model, \n",
    "                  X_train, \n",
    "                  y_train, \n",
    "                  X_val, \n",
    "                  y_val, \n",
    "                  scores=metric_df):\n",
    "    '''\n",
    "    model_metrics will use an sklearn model object to \n",
    "    create predictions after fitting on our training set, and add\n",
    "    the model scores to a pre-established metric_df\n",
    "    returns: metric_df\n",
    "    **TODO: create a check to see if metric_df exists.  \n",
    "    Create it if not\n",
    "    '''\n",
    "    # fit our model object\n",
    "    model.fit(X_train, y_train['Infant.Mortality'])\n",
    "    in_sample_pred = model.predict(X_train)\n",
    "    out_sample_pred = model.predict(X_val)\n",
    "    model_name = input('Name for model? python identifer friendly pls.\\n')\n",
    "    y_train[model_name] = in_sample_pred\n",
    "    y_val[model_name] = out_sample_pred\n",
    "    print(y_val.shape)\n",
    "    print(out_sample_pred.shape)\n",
    "    rmse_val = mean_squared_error(\n",
    "    y_val['Infant.Mortality'], out_sample_pred, squared=False)\n",
    "    r_squared_val = explained_variance_score(\n",
    "        y_val['Infant.Mortality'], out_sample_pred)\n",
    "    return metric_df.append({\n",
    "        'model': model_name,\n",
    "        'rmse': rmse_val,\n",
    "        'r^2': r_squared_val\n",
    "    \n",
    "    }, ignore_index=True)"
   ]
  },
  {
   "cell_type": "code",
   "execution_count": 39,
   "id": "23eb577a-c207-474a-86ef-d03d02a4c442",
   "metadata": {},
   "outputs": [
    {
     "name": "stdin",
     "output_type": "stream",
     "text": [
      "Name for model? python identifer friendly pls.\n",
      " ols1\n"
     ]
    },
    {
     "name": "stdout",
     "output_type": "stream",
     "text": [
      "(7, 3)\n",
      "(7,)\n"
     ]
    }
   ],
   "source": [
    "# vanilla linear OLS:\n",
    "metric_df = model_metrics(LinearRegression(), \n",
    "                  X_train_scaled, \n",
    "                  y_train, \n",
    "                  X_val_scaled, \n",
    "                  y_val, \n",
    "                  scores=metric_df)"
   ]
  },
  {
   "cell_type": "code",
   "execution_count": 41,
   "id": "69370dea-4d3b-4720-9064-6eabb28545ed",
   "metadata": {},
   "outputs": [
    {
     "name": "stdin",
     "output_type": "stream",
     "text": [
      "Name for model? python identifer friendly pls.\n",
      " selected_feats_ols\n"
     ]
    },
    {
     "name": "stdout",
     "output_type": "stream",
     "text": [
      "(7, 4)\n",
      "(7,)\n"
     ]
    }
   ],
   "source": [
    "# kbest columns:\n",
    "metric_df = model_metrics(LinearRegression(), \n",
    "                  X_train_scaled[k_columns], \n",
    "                  y_train, \n",
    "                  X_val_scaled[k_columns], \n",
    "                  y_val, \n",
    "                  scores=metric_df)"
   ]
  },
  {
   "cell_type": "code",
   "execution_count": 43,
   "id": "ca62dff9-280e-434b-b8b4-a7d518da2893",
   "metadata": {},
   "outputs": [
    {
     "name": "stdin",
     "output_type": "stream",
     "text": [
      "Name for model? python identifer friendly pls.\n",
      " quadratic_reg\n"
     ]
    },
    {
     "name": "stdout",
     "output_type": "stream",
     "text": [
      "(7, 5)\n",
      "(7,)\n"
     ]
    }
   ],
   "source": [
    "# polynomial regresssion:\n",
    "# first convert our features into the polynomial type, then do an OLS.\n",
    "polyfeats = PolynomialFeatures(degree=2)\n",
    "X_train_quad = polyfeats.fit_transform(X_train_scaled)\n",
    "X_val_quad = polyfeats.transform(X_val_scaled)\n",
    "metric_df = model_metrics(LinearRegression(), \n",
    "                  X_train_quad, \n",
    "                  y_train, \n",
    "                  X_val_quad, \n",
    "                  y_val, \n",
    "                  scores=metric_df)"
   ]
  },
  {
   "cell_type": "code",
   "execution_count": 44,
   "id": "0b732ad6-5ce8-4f34-aa5c-3151c63b087a",
   "metadata": {},
   "outputs": [
    {
     "data": {
      "text/html": [
       "<div>\n",
       "<style scoped>\n",
       "    .dataframe tbody tr th:only-of-type {\n",
       "        vertical-align: middle;\n",
       "    }\n",
       "\n",
       "    .dataframe tbody tr th {\n",
       "        vertical-align: top;\n",
       "    }\n",
       "\n",
       "    .dataframe thead th {\n",
       "        text-align: right;\n",
       "    }\n",
       "</style>\n",
       "<table border=\"1\" class=\"dataframe\">\n",
       "  <thead>\n",
       "    <tr style=\"text-align: right;\">\n",
       "      <th></th>\n",
       "      <th>model</th>\n",
       "      <th>rmse</th>\n",
       "      <th>r^2</th>\n",
       "    </tr>\n",
       "  </thead>\n",
       "  <tbody>\n",
       "    <tr>\n",
       "      <th>0</th>\n",
       "      <td>baseline_mean</td>\n",
       "      <td>10.387330</td>\n",
       "      <td>0.000000</td>\n",
       "    </tr>\n",
       "    <tr>\n",
       "      <th>1</th>\n",
       "      <td>ols1</td>\n",
       "      <td>2.774954</td>\n",
       "      <td>0.212887</td>\n",
       "    </tr>\n",
       "    <tr>\n",
       "      <th>2</th>\n",
       "      <td>selected_feats_ols</td>\n",
       "      <td>2.809074</td>\n",
       "      <td>0.208283</td>\n",
       "    </tr>\n",
       "    <tr>\n",
       "      <th>3</th>\n",
       "      <td>quadratic_reg</td>\n",
       "      <td>4.104727</td>\n",
       "      <td>-0.593668</td>\n",
       "    </tr>\n",
       "  </tbody>\n",
       "</table>\n",
       "</div>"
      ],
      "text/plain": [
       "                model       rmse       r^2\n",
       "0       baseline_mean  10.387330  0.000000\n",
       "1                ols1   2.774954  0.212887\n",
       "2  selected_feats_ols   2.809074  0.208283\n",
       "3       quadratic_reg   4.104727 -0.593668"
      ]
     },
     "execution_count": 44,
     "metadata": {},
     "output_type": "execute_result"
    }
   ],
   "source": [
    "metric_df"
   ]
  },
  {
   "cell_type": "code",
   "execution_count": null,
   "id": "d5e57871-af09-4be5-805b-348d2e910f93",
   "metadata": {},
   "outputs": [],
   "source": []
  },
  {
   "cell_type": "code",
   "execution_count": null,
   "id": "017290de-2ea9-4cbe-a64c-fef0799d4077",
   "metadata": {},
   "outputs": [],
   "source": [
    "# selected model for Test set: ols1, vanilla regression model"
   ]
  },
  {
   "cell_type": "code",
   "execution_count": null,
   "id": "469c6e06-fd17-422f-864d-0876c9b64fff",
   "metadata": {},
   "outputs": [],
   "source": [
    "# TODO for exemplification:\n",
    "# visualize residuals"
   ]
  }
 ],
 "metadata": {
  "kernelspec": {
   "display_name": "Python 3",
   "language": "python",
   "name": "python3"
  },
  "language_info": {
   "codemirror_mode": {
    "name": "ipython",
    "version": 3
   },
   "file_extension": ".py",
   "mimetype": "text/x-python",
   "name": "python",
   "nbconvert_exporter": "python",
   "pygments_lexer": "ipython3",
   "version": "3.9.4"
  }
 },
 "nbformat": 4,
 "nbformat_minor": 5
}
