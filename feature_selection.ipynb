{
 "cells": [
  {
   "cell_type": "markdown",
   "id": "96374c1a-fcba-46a1-af9e-33d34d8560c5",
   "metadata": {
    "slideshow": {
     "slide_type": "slide"
    },
    "tags": []
   },
   "source": [
    "# Feature Engineering\n",
    "\n",
    "For some definitions, handling outliers and missing values, scaling, and encoding may be considered feature engineering. Here we'll draw a distinction between data preparation, data preprocessing, and feature engineering.\n",
    "\n",
    "- **data preparation**: the basic data cleaning necessary to get our data ready for exploration/analysis, e.g. correcting data types, fixing typos\n",
    "- **data preprocessing**: further data transformation done for the sake of modeling, as oppsoed to exploration/analysis, e.g. scaling, imputing, encoding\n",
    "- **feature engineering**: adding, combining, or removing features; usually with the help of domain knowledge\n",
    "\n",
    "Feature engineering can happen as part of data exploration or modeling, and engineered featured are also commonly explored."
   ]
  },
  {
   "cell_type": "markdown",
   "id": "e0129d56",
   "metadata": {
    "slideshow": {
     "slide_type": "slide"
    },
    "tags": []
   },
   "source": [
    "Some examples of feature engineering by this definition:"
   ]
  },
  {
   "cell_type": "markdown",
   "id": "10038b9a",
   "metadata": {
    "slideshow": {
     "slide_type": "fragment"
    },
    "tags": []
   },
   "source": [
    "- domain-based conversion (example: farenheit to celsius, BMI calculation, log transformation)\n",
    "- domain based cutoffs (example: age >= 18 = is_adult; also dates)"
   ]
  },
  {
   "cell_type": "markdown",
   "id": "abd20c31",
   "metadata": {
    "slideshow": {
     "slide_type": "fragment"
    },
    "tags": []
   },
   "source": [
    "- add / subtract (example: zillow dataset: beds + baths = room_count; total_sqft - 200 * bedrooms - 40 * bathrooms = living_area)\n",
    "- combine as booleans as a count (example: telco_churn: streaming + backups + ...  = service_count)\n",
    "- multiply / divide (example: tips dataset: total_bill / size = price_per_person)\n",
    "- ratios (example: tips dataset: tip / total_bill = tip percentage)"
   ]
  },
  {
   "cell_type": "markdown",
   "id": "641f264d",
   "metadata": {
    "slideshow": {
     "slide_type": "fragment"
    },
    "tags": []
   },
   "source": [
    "Simplify!\n",
    "\n",
    "- categorical with many unique values to top 3 + \"Other\"\n",
    "- categorical to boolean: pool count -> has pool\n",
    "- continous -> categorical via binning (aka quantization or discretization) (example: income -> high, medium, low earner)"
   ]
  },
  {
   "cell_type": "markdown",
   "id": "5a4104eb-91b5-4168-b53f-2a11597bfacb",
   "metadata": {
    "slideshow": {
     "slide_type": "slide"
    },
    "tags": []
   },
   "source": [
    "In this lesson we'll cover some *automated* **feature selection** methods, that is, methods for determining which features are the most important.\n",
    "\n",
    "- SelectKBest\n",
    "- Recursive Feature Elimination\n",
    "- Sequential Feature Selection"
   ]
  },
  {
   "cell_type": "markdown",
   "id": "9ed3a33a-2ca3-4625-94fd-def89bb5b497",
   "metadata": {
    "slideshow": {
     "slide_type": "slide"
    },
    "tags": []
   },
   "source": [
    "## Setup"
   ]
  },
  {
   "cell_type": "code",
   "execution_count": 2,
   "id": "7018acce-d54f-4f9c-b9b8-ee2658d22d08",
   "metadata": {},
   "outputs": [],
   "source": [
    "import numpy as np\n",
    "import pandas as pd\n",
    "import wrangle\n",
    "\n",
    "from sklearn.feature_selection import SelectKBest, RFE, f_regression, SequentialFeatureSelector"
   ]
  },
  {
   "cell_type": "code",
   "execution_count": 3,
   "id": "59534ad5-8a6b-438f-b294-079988191ad2",
   "metadata": {
    "tags": []
   },
   "outputs": [],
   "source": [
    "df = wrangle.wrangle_grades()"
   ]
  },
  {
   "cell_type": "code",
   "execution_count": 4,
   "id": "7e2b96c1-de4a-44d8-85ff-78b0f0c59c22",
   "metadata": {},
   "outputs": [
    {
     "name": "stdout",
     "output_type": "stream",
     "text": [
      "train -> (56, 5)\n",
      "validate -> (25, 5)\n",
      "test -> (21, 5)\n"
     ]
    }
   ],
   "source": [
    "# train_validate, test = train_test_split(df)\n",
    "# train, validate = train_test_split(train_validate)\n",
    "\n",
    "train, validate, test = wrangle.split_continuous(df)"
   ]
  },
  {
   "cell_type": "code",
   "execution_count": 5,
   "id": "7ebe103c-1511-4b2f-b52e-f365cf6bedf5",
   "metadata": {},
   "outputs": [
    {
     "data": {
      "text/html": [
       "<div>\n",
       "<style scoped>\n",
       "    .dataframe tbody tr th:only-of-type {\n",
       "        vertical-align: middle;\n",
       "    }\n",
       "\n",
       "    .dataframe tbody tr th {\n",
       "        vertical-align: top;\n",
       "    }\n",
       "\n",
       "    .dataframe thead th {\n",
       "        text-align: right;\n",
       "    }\n",
       "</style>\n",
       "<table border=\"1\" class=\"dataframe\">\n",
       "  <thead>\n",
       "    <tr style=\"text-align: right;\">\n",
       "      <th></th>\n",
       "      <th>student_id</th>\n",
       "      <th>exam1</th>\n",
       "      <th>exam2</th>\n",
       "      <th>exam3</th>\n",
       "      <th>final_grade</th>\n",
       "    </tr>\n",
       "  </thead>\n",
       "  <tbody>\n",
       "    <tr>\n",
       "      <th>51</th>\n",
       "      <td>52</td>\n",
       "      <td>70</td>\n",
       "      <td>75</td>\n",
       "      <td>78</td>\n",
       "      <td>72</td>\n",
       "    </tr>\n",
       "    <tr>\n",
       "      <th>24</th>\n",
       "      <td>25</td>\n",
       "      <td>57</td>\n",
       "      <td>65</td>\n",
       "      <td>75</td>\n",
       "      <td>65</td>\n",
       "    </tr>\n",
       "    <tr>\n",
       "      <th>57</th>\n",
       "      <td>58</td>\n",
       "      <td>79</td>\n",
       "      <td>70</td>\n",
       "      <td>85</td>\n",
       "      <td>81</td>\n",
       "    </tr>\n",
       "    <tr>\n",
       "      <th>92</th>\n",
       "      <td>93</td>\n",
       "      <td>98</td>\n",
       "      <td>93</td>\n",
       "      <td>96</td>\n",
       "      <td>95</td>\n",
       "    </tr>\n",
       "    <tr>\n",
       "      <th>81</th>\n",
       "      <td>82</td>\n",
       "      <td>83</td>\n",
       "      <td>80</td>\n",
       "      <td>86</td>\n",
       "      <td>85</td>\n",
       "    </tr>\n",
       "  </tbody>\n",
       "</table>\n",
       "</div>"
      ],
      "text/plain": [
       "    student_id  exam1  exam2  exam3  final_grade\n",
       "51          52     70     75     78           72\n",
       "24          25     57     65     75           65\n",
       "57          58     79     70     85           81\n",
       "92          93     98     93     96           95\n",
       "81          82     83     80     86           85"
      ]
     },
     "execution_count": 5,
     "metadata": {},
     "output_type": "execute_result"
    }
   ],
   "source": [
    "train.head()"
   ]
  },
  {
   "cell_type": "code",
   "execution_count": 6,
   "id": "dda402a1-4f16-45ba-8c40-75a07666471b",
   "metadata": {},
   "outputs": [],
   "source": [
    "train = train.drop(columns='student_id')"
   ]
  },
  {
   "cell_type": "markdown",
   "id": "cbc4ebee-12bc-432e-9631-e6c8adb10021",
   "metadata": {
    "slideshow": {
     "slide_type": "slide"
    },
    "tags": []
   },
   "source": [
    "## Select K Best\n",
    "\n",
    "- looks at each feature in isolation against the target based on correlation\n",
    "- fastest of all approaches covered in this lesson\n",
    "- doesn't consider feature interactions\n",
    "- After fitting: `.scores_`, `.pvalues_`, `.get_support()`, and `.transform`"
   ]
  },
  {
   "cell_type": "code",
   "execution_count": 9,
   "id": "c2dabf25-a58c-43f3-a027-0c6ec0fc1d95",
   "metadata": {},
   "outputs": [],
   "source": [
    "# X_trian, y_train \n",
    "X_train = train.drop(columns='final_grade')\n",
    "y_train = train['final_grade']"
   ]
  },
  {
   "cell_type": "code",
   "execution_count": 46,
   "id": "61e45b90-79ff-46e9-8d34-4b29fcd75e28",
   "metadata": {},
   "outputs": [],
   "source": [
    "# make the thing\n",
    "kbest = SelectKBest(f_regression, k=1)\n",
    "# fit the thing\n",
    "_ = kbest.fit(X_train, y_train)"
   ]
  },
  {
   "cell_type": "code",
   "execution_count": 47,
   "id": "41dcf0dc-fc42-42fb-b1ab-e5dde8f186c6",
   "metadata": {},
   "outputs": [
    {
     "data": {
      "text/plain": [
       "array([1.00651044e-43, 2.70194813e-25, 6.39985139e-29])"
      ]
     },
     "execution_count": 47,
     "metadata": {},
     "output_type": "execute_result"
    }
   ],
   "source": [
    "# statistical f-value:\n",
    "kbest.scores_\n",
    "#p value: \n",
    "kbest.pvalues_"
   ]
  },
  {
   "cell_type": "code",
   "execution_count": 48,
   "id": "1a07efc0-17e9-4b79-ba03-058c08fbcbcd",
   "metadata": {
    "slideshow": {
     "slide_type": "-"
    }
   },
   "outputs": [],
   "source": [
    "# get-support() will output a boolean mask to tell me which features were selected\n",
    "# we can apply this mask to the columns in our original dataframe\n"
   ]
  },
  {
   "cell_type": "code",
   "execution_count": 49,
   "id": "f2ec45d0-fa9a-473c-ac52-56a57dc442a8",
   "metadata": {},
   "outputs": [
    {
     "data": {
      "text/plain": [
       "array([ True, False, False])"
      ]
     },
     "execution_count": 49,
     "metadata": {},
     "output_type": "execute_result"
    }
   ],
   "source": [
    "kbest.get_support()"
   ]
  },
  {
   "cell_type": "code",
   "execution_count": 50,
   "id": "77bfe18d-1a29-4452-bd87-6f3b16d0a88f",
   "metadata": {},
   "outputs": [
    {
     "data": {
      "text/plain": [
       "Index(['exam1'], dtype='object')"
      ]
     },
     "execution_count": 50,
     "metadata": {},
     "output_type": "execute_result"
    }
   ],
   "source": [
    "# I can use the boolean mask of get_support on columns\n",
    "X_train.columns[kbest.get_support()]"
   ]
  },
  {
   "cell_type": "code",
   "execution_count": 24,
   "id": "b280bc08-b29d-4037-81fb-45b7958662e6",
   "metadata": {},
   "outputs": [
    {
     "data": {
      "text/html": [
       "<div>\n",
       "<style scoped>\n",
       "    .dataframe tbody tr th:only-of-type {\n",
       "        vertical-align: middle;\n",
       "    }\n",
       "\n",
       "    .dataframe tbody tr th {\n",
       "        vertical-align: top;\n",
       "    }\n",
       "\n",
       "    .dataframe thead th {\n",
       "        text-align: right;\n",
       "    }\n",
       "</style>\n",
       "<table border=\"1\" class=\"dataframe\">\n",
       "  <thead>\n",
       "    <tr style=\"text-align: right;\">\n",
       "      <th></th>\n",
       "      <th>exam1</th>\n",
       "      <th>exam3</th>\n",
       "    </tr>\n",
       "  </thead>\n",
       "  <tbody>\n",
       "    <tr>\n",
       "      <th>51</th>\n",
       "      <td>70</td>\n",
       "      <td>78</td>\n",
       "    </tr>\n",
       "    <tr>\n",
       "      <th>24</th>\n",
       "      <td>57</td>\n",
       "      <td>75</td>\n",
       "    </tr>\n",
       "    <tr>\n",
       "      <th>57</th>\n",
       "      <td>79</td>\n",
       "      <td>85</td>\n",
       "    </tr>\n",
       "    <tr>\n",
       "      <th>92</th>\n",
       "      <td>98</td>\n",
       "      <td>96</td>\n",
       "    </tr>\n",
       "    <tr>\n",
       "      <th>81</th>\n",
       "      <td>83</td>\n",
       "      <td>86</td>\n",
       "    </tr>\n",
       "  </tbody>\n",
       "</table>\n",
       "</div>"
      ],
      "text/plain": [
       "    exam1  exam3\n",
       "51     70     78\n",
       "24     57     75\n",
       "57     79     85\n",
       "92     98     96\n",
       "81     83     86"
      ]
     },
     "execution_count": 24,
     "metadata": {},
     "output_type": "execute_result"
    }
   ],
   "source": [
    "# I can use it as a 1-axis mapping with iloc:\n",
    "X_train.iloc[:,kbest.get_support()].head()"
   ]
  },
  {
   "cell_type": "code",
   "execution_count": null,
   "id": "e5a1ad33-e05c-4748-8069-29b5355fa472",
   "metadata": {},
   "outputs": [],
   "source": [
    "# kbest transform will convert our information to the selected\n",
    "# feature subspace\n",
    "# ****buuuuuut, its just a numpy array\n"
   ]
  },
  {
   "cell_type": "code",
   "execution_count": 25,
   "id": "50158892-a7a1-44c1-b552-ec17118bda6d",
   "metadata": {},
   "outputs": [
    {
     "data": {
      "text/plain": [
       "array([[ 70,  78],\n",
       "       [ 57,  75],\n",
       "       [ 79,  85],\n",
       "       [ 98,  96],\n",
       "       [ 83,  86],\n",
       "       [ 83,  86],\n",
       "       [ 58,  70],\n",
       "       [ 92,  94],\n",
       "       [ 58,  70],\n",
       "       [ 85,  87],\n",
       "       [ 70,  78],\n",
       "       [ 73,  75],\n",
       "       [ 58,  70],\n",
       "       [ 98,  96],\n",
       "       [ 62,  79],\n",
       "       [ 62,  79],\n",
       "       [ 85,  87],\n",
       "       [ 58,  70],\n",
       "       [ 62,  79],\n",
       "       [ 70,  78],\n",
       "       [ 79,  85],\n",
       "       [ 85,  87],\n",
       "       [ 73,  75],\n",
       "       [ 57,  75],\n",
       "       [ 73,  75],\n",
       "       [ 57,  75],\n",
       "       [ 57,  75],\n",
       "       [ 83,  86],\n",
       "       [ 85,  87],\n",
       "       [ 73,  75],\n",
       "       [100,  95],\n",
       "       [ 92,  94],\n",
       "       [ 92,  94],\n",
       "       [ 83,  86],\n",
       "       [ 93,  96],\n",
       "       [ 92,  94],\n",
       "       [ 73,  75],\n",
       "       [ 83,  86],\n",
       "       [ 92,  94],\n",
       "       [ 93,  96],\n",
       "       [ 92,  94],\n",
       "       [ 93,  96],\n",
       "       [ 79,  85],\n",
       "       [ 85,  87],\n",
       "       [ 57,  75],\n",
       "       [ 83,  86],\n",
       "       [ 70,  78],\n",
       "       [ 73,  75],\n",
       "       [100,  95],\n",
       "       [ 62,  79],\n",
       "       [ 70,  78],\n",
       "       [ 58,  70],\n",
       "       [ 98,  96],\n",
       "       [ 79,  85],\n",
       "       [ 70,  78],\n",
       "       [ 70,  78]])"
      ]
     },
     "execution_count": 25,
     "metadata": {},
     "output_type": "execute_result"
    }
   ],
   "source": [
    "kbest.transform(X_train)"
   ]
  },
  {
   "cell_type": "markdown",
   "id": "13a5069f-d6d6-49c4-aa81-76fdb806198b",
   "metadata": {
    "slideshow": {
     "slide_type": "slide"
    }
   },
   "source": [
    "## RFE\n",
    "\n",
    "- Recursive Feature Elimination\n",
    "- Progressively eliminate features based on importance to the model\n",
    "- Requires a model with either a `.coef_` or `.feature_importances_` property\n",
    "- After fitting: `.ranking_`, `.get_support()`, and `.transform()`"
   ]
  },
  {
   "cell_type": "code",
   "execution_count": 26,
   "id": "2c5de219-03ba-4945-8fb1-fc4060f36502",
   "metadata": {},
   "outputs": [],
   "source": [
    "from sklearn.linear_model import LinearRegression"
   ]
  },
  {
   "cell_type": "code",
   "execution_count": 51,
   "id": "abb0e481-fc57-4392-985e-735bb85c74d8",
   "metadata": {},
   "outputs": [],
   "source": [
    "# etablish a model for RFE to use: (make a model thing)\n",
    "# linear model works the same as in any other context here, so do all the preprocessing\n",
    "# that you would normally do to those features before you get to this point!\n",
    "model = LinearRegression()"
   ]
  },
  {
   "cell_type": "code",
   "execution_count": 52,
   "id": "d7fd9c40-4d31-4cb6-b3b1-21cb9e634839",
   "metadata": {},
   "outputs": [],
   "source": [
    "# make an RFE thing\n",
    "rfe = RFE(model, n_features_to_select=1)"
   ]
  },
  {
   "cell_type": "code",
   "execution_count": 53,
   "id": "6199aa39-0437-43a5-93e2-a9ba57f7277f",
   "metadata": {},
   "outputs": [
    {
     "data": {
      "text/plain": [
       "RFE(estimator=LinearRegression(), n_features_to_select=1)"
      ]
     },
     "execution_count": 53,
     "metadata": {},
     "output_type": "execute_result"
    }
   ],
   "source": [
    "# fit the RFE:\n",
    "rfe.fit(X_train, y_train)"
   ]
  },
  {
   "cell_type": "code",
   "execution_count": 54,
   "id": "9a12e98f-77db-40a3-b9cd-e8b4d9fc0ff8",
   "metadata": {},
   "outputs": [
    {
     "data": {
      "text/plain": [
       "array([1, 3, 2])"
      ]
     },
     "execution_count": 54,
     "metadata": {},
     "output_type": "execute_result"
    }
   ],
   "source": [
    "rfe.ranking_"
   ]
  },
  {
   "cell_type": "code",
   "execution_count": 55,
   "id": "dfe44c80-9dde-40eb-831a-12129372e447",
   "metadata": {},
   "outputs": [
    {
     "data": {
      "text/plain": [
       "Index(['exam1', 'exam2', 'exam3'], dtype='object')"
      ]
     },
     "execution_count": 55,
     "metadata": {},
     "output_type": "execute_result"
    }
   ],
   "source": [
    "X_train.columns"
   ]
  },
  {
   "cell_type": "markdown",
   "id": "b4c87661-f593-4dca-a222-e7ddbb4fc051",
   "metadata": {},
   "source": [
    "New discovery: scientists have now found a new species of support called .support_"
   ]
  },
  {
   "cell_type": "code",
   "execution_count": null,
   "id": "36734dbb-8088-4859-880d-71e7021f5330",
   "metadata": {},
   "outputs": [],
   "source": []
  },
  {
   "cell_type": "code",
   "execution_count": 56,
   "id": "715a3c2d-eaf3-4633-a8bd-c3ac7b656a45",
   "metadata": {},
   "outputs": [
    {
     "data": {
      "text/plain": [
       "array([ True, False, False])"
      ]
     },
     "execution_count": 56,
     "metadata": {},
     "output_type": "execute_result"
    }
   ],
   "source": [
    "# get_support() still works to get your boolean mask\n",
    "rfe.get_support()"
   ]
  },
  {
   "cell_type": "code",
   "execution_count": 35,
   "id": "174055f1-685a-4208-ae2d-abb8ba525619",
   "metadata": {},
   "outputs": [
    {
     "data": {
      "text/plain": [
       "array([ True, False,  True])"
      ]
     },
     "execution_count": 35,
     "metadata": {},
     "output_type": "execute_result"
    }
   ],
   "source": [
    "# so does .support_ (but only for RFE, not kbest)\n",
    "rfe.support_"
   ]
  },
  {
   "cell_type": "code",
   "execution_count": 32,
   "id": "0050947c-8097-4f10-959b-9be22d73d8c7",
   "metadata": {},
   "outputs": [
    {
     "data": {
      "text/html": [
       "<div>\n",
       "<style scoped>\n",
       "    .dataframe tbody tr th:only-of-type {\n",
       "        vertical-align: middle;\n",
       "    }\n",
       "\n",
       "    .dataframe tbody tr th {\n",
       "        vertical-align: top;\n",
       "    }\n",
       "\n",
       "    .dataframe thead th {\n",
       "        text-align: right;\n",
       "    }\n",
       "</style>\n",
       "<table border=\"1\" class=\"dataframe\">\n",
       "  <thead>\n",
       "    <tr style=\"text-align: right;\">\n",
       "      <th></th>\n",
       "      <th>rfe_ranking</th>\n",
       "    </tr>\n",
       "  </thead>\n",
       "  <tbody>\n",
       "    <tr>\n",
       "      <th>exam1</th>\n",
       "      <td>1</td>\n",
       "    </tr>\n",
       "    <tr>\n",
       "      <th>exam2</th>\n",
       "      <td>2</td>\n",
       "    </tr>\n",
       "    <tr>\n",
       "      <th>exam3</th>\n",
       "      <td>1</td>\n",
       "    </tr>\n",
       "  </tbody>\n",
       "</table>\n",
       "</div>"
      ],
      "text/plain": [
       "       rfe_ranking\n",
       "exam1            1\n",
       "exam2            2\n",
       "exam3            1"
      ]
     },
     "execution_count": 32,
     "metadata": {},
     "output_type": "execute_result"
    }
   ],
   "source": [
    "pd.DataFrame({\n",
    "    'rfe_ranking': rfe.ranking_}, index=X_train.columns)"
   ]
  },
  {
   "cell_type": "code",
   "execution_count": 40,
   "id": "c8231407-18cb-41f5-83f0-7741b98b79b7",
   "metadata": {},
   "outputs": [
    {
     "data": {
      "text/html": [
       "<div>\n",
       "<style scoped>\n",
       "    .dataframe tbody tr th:only-of-type {\n",
       "        vertical-align: middle;\n",
       "    }\n",
       "\n",
       "    .dataframe tbody tr th {\n",
       "        vertical-align: top;\n",
       "    }\n",
       "\n",
       "    .dataframe thead th {\n",
       "        text-align: right;\n",
       "    }\n",
       "</style>\n",
       "<table border=\"1\" class=\"dataframe\">\n",
       "  <thead>\n",
       "    <tr style=\"text-align: right;\">\n",
       "      <th></th>\n",
       "      <th>exam1</th>\n",
       "      <th>exam3</th>\n",
       "    </tr>\n",
       "  </thead>\n",
       "  <tbody>\n",
       "    <tr>\n",
       "      <th>51</th>\n",
       "      <td>70</td>\n",
       "      <td>78</td>\n",
       "    </tr>\n",
       "    <tr>\n",
       "      <th>24</th>\n",
       "      <td>57</td>\n",
       "      <td>75</td>\n",
       "    </tr>\n",
       "    <tr>\n",
       "      <th>57</th>\n",
       "      <td>79</td>\n",
       "      <td>85</td>\n",
       "    </tr>\n",
       "    <tr>\n",
       "      <th>92</th>\n",
       "      <td>98</td>\n",
       "      <td>96</td>\n",
       "    </tr>\n",
       "    <tr>\n",
       "      <th>81</th>\n",
       "      <td>83</td>\n",
       "      <td>86</td>\n",
       "    </tr>\n",
       "  </tbody>\n",
       "</table>\n",
       "</div>"
      ],
      "text/plain": [
       "    exam1  exam3\n",
       "51     70     78\n",
       "24     57     75\n",
       "57     79     85\n",
       "92     98     96\n",
       "81     83     86"
      ]
     },
     "execution_count": 40,
     "metadata": {},
     "output_type": "execute_result"
    }
   ],
   "source": [
    "pd.DataFrame(rfe.transform(X_train),\n",
    "             columns=X_train.columns[rfe.get_support()],\n",
    "             index=X_train.index).head()"
   ]
  },
  {
   "cell_type": "markdown",
   "id": "6e8d6e09-dab8-47d1-b7f4-8afca62d9d8c",
   "metadata": {
    "slideshow": {
     "slide_type": "slide"
    }
   },
   "source": [
    "## Sequential Feature Selector\n",
    "\n",
    "- progressively adds features based on cross validated model performance\n",
    "- forwards: start with 0, add the best additional feature until you have the desired number\n",
    "- backwards: start with all features, remove the worst performing until you have the desired number\n",
    "- After fitting: `.support_`, `.transform`"
   ]
  },
  {
   "cell_type": "code",
   "execution_count": 42,
   "id": "abb2b952-c8c2-4c25-9533-303eb779ab2f",
   "metadata": {},
   "outputs": [
    {
     "data": {
      "text/plain": [
       "SequentialFeatureSelector(estimator=LinearRegression(), n_features_to_select=2)"
      ]
     },
     "execution_count": 42,
     "metadata": {},
     "output_type": "execute_result"
    }
   ],
   "source": [
    "# implement sequential feature selector:\n",
    "# make a model:\n",
    "model = LinearRegression()\n",
    "# make a sequential feature selection object:\n",
    "sfs = SequentialFeatureSelector(model, n_features_to_select=2)\n",
    "# fit the feature selector:\n",
    "sfs.fit(X_train, y_train)"
   ]
  },
  {
   "cell_type": "code",
   "execution_count": 44,
   "id": "9849456e-7f9f-490b-9e32-4ab514d715a9",
   "metadata": {},
   "outputs": [
    {
     "data": {
      "text/plain": [
       "array([ True, False,  True])"
      ]
     },
     "execution_count": 44,
     "metadata": {},
     "output_type": "execute_result"
    }
   ],
   "source": [
    "sfs.get_support()"
   ]
  },
  {
   "cell_type": "code",
   "execution_count": 45,
   "id": "9d48a50e-a77c-449e-b2d5-57a0578faaee",
   "metadata": {},
   "outputs": [
    {
     "data": {
      "text/plain": [
       "Index(['exam1', 'exam3'], dtype='object')"
      ]
     },
     "execution_count": 45,
     "metadata": {},
     "output_type": "execute_result"
    }
   ],
   "source": [
    "X_train.columns[sfs.get_support()]"
   ]
  },
  {
   "cell_type": "code",
   "execution_count": 43,
   "id": "f2462987-1223-45c4-a9bc-748115dd4649",
   "metadata": {},
   "outputs": [
    {
     "data": {
      "text/plain": [
       "array([[ 70,  78],\n",
       "       [ 57,  75],\n",
       "       [ 79,  85],\n",
       "       [ 98,  96],\n",
       "       [ 83,  86],\n",
       "       [ 83,  86],\n",
       "       [ 58,  70],\n",
       "       [ 92,  94],\n",
       "       [ 58,  70],\n",
       "       [ 85,  87],\n",
       "       [ 70,  78],\n",
       "       [ 73,  75],\n",
       "       [ 58,  70],\n",
       "       [ 98,  96],\n",
       "       [ 62,  79],\n",
       "       [ 62,  79],\n",
       "       [ 85,  87],\n",
       "       [ 58,  70],\n",
       "       [ 62,  79],\n",
       "       [ 70,  78],\n",
       "       [ 79,  85],\n",
       "       [ 85,  87],\n",
       "       [ 73,  75],\n",
       "       [ 57,  75],\n",
       "       [ 73,  75],\n",
       "       [ 57,  75],\n",
       "       [ 57,  75],\n",
       "       [ 83,  86],\n",
       "       [ 85,  87],\n",
       "       [ 73,  75],\n",
       "       [100,  95],\n",
       "       [ 92,  94],\n",
       "       [ 92,  94],\n",
       "       [ 83,  86],\n",
       "       [ 93,  96],\n",
       "       [ 92,  94],\n",
       "       [ 73,  75],\n",
       "       [ 83,  86],\n",
       "       [ 92,  94],\n",
       "       [ 93,  96],\n",
       "       [ 92,  94],\n",
       "       [ 93,  96],\n",
       "       [ 79,  85],\n",
       "       [ 85,  87],\n",
       "       [ 57,  75],\n",
       "       [ 83,  86],\n",
       "       [ 70,  78],\n",
       "       [ 73,  75],\n",
       "       [100,  95],\n",
       "       [ 62,  79],\n",
       "       [ 70,  78],\n",
       "       [ 58,  70],\n",
       "       [ 98,  96],\n",
       "       [ 79,  85],\n",
       "       [ 70,  78],\n",
       "       [ 70,  78]])"
      ]
     },
     "execution_count": 43,
     "metadata": {},
     "output_type": "execute_result"
    }
   ],
   "source": [
    "sfs.transform(X_train)"
   ]
  },
  {
   "cell_type": "markdown",
   "id": "a59d1a9a-9fa4-4c08-9680-c40300dcb5b5",
   "metadata": {
    "slideshow": {
     "slide_type": "slide"
    }
   },
   "source": [
    "## Conclusion\n",
    "\n",
    "- Simpler models handle change + variability better\n",
    "- Use RFE to narrow down your features and find the best ones, if your dataset is large (> 1GB; `df.info()`) use select k best instead\n",
    "- Remember: feature engineering is much more than feature selection!"
   ]
  }
 ],
 "metadata": {
  "kernelspec": {
   "display_name": "Python 3",
   "language": "python",
   "name": "python3"
  },
  "language_info": {
   "codemirror_mode": {
    "name": "ipython",
    "version": 3
   },
   "file_extension": ".py",
   "mimetype": "text/x-python",
   "name": "python",
   "nbconvert_exporter": "python",
   "pygments_lexer": "ipython3",
   "version": "3.9.4"
  },
  "rise": {
   "enable_chalkboard": true,
   "scroll": true
  }
 },
 "nbformat": 4,
 "nbformat_minor": 5
}
